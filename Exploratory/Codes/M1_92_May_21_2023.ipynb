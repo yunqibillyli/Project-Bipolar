{
 "cells": [
  {
   "cell_type": "markdown",
   "id": "718a69e6",
   "metadata": {},
   "source": [
    "## Part 1. Initialization"
   ]
  },
  {
   "cell_type": "code",
   "execution_count": 1,
   "id": "ca5416bd",
   "metadata": {},
   "outputs": [],
   "source": [
    "# 1 Initialization\n",
    "import numpy as np\n",
    "import skimage\n",
    "import matplotlib.pyplot as plt\n",
    "import matplotlib.colors as c\n",
    "import os\n",
    "import mpmath\n",
    "from astropy.io import fits\n",
    "from datetime import datetime\n",
    "from astropy.convolution import Gaussian2DKernel\n",
    "from astropy.convolution import convolve\n",
    "import sympy as sp"
   ]
  },
  {
   "cell_type": "markdown",
   "id": "51a14797",
   "metadata": {},
   "source": [
    "## Part 2. Defining the Nebula"
   ]
  },
  {
   "cell_type": "code",
   "execution_count": 2,
   "id": "c4516434",
   "metadata": {},
   "outputs": [],
   "source": [
    "# 2 Important Parameters\n",
    "observingLatitudeDegrees = 24 # degrees, Observing latitude - Default : 25\n",
    "viewLength = 6e17 # cm, Length of the display box - Default : 6e17\n",
    "distanceLY = 8000 # ly, Distance to the lebula - Default : 8000\n",
    "resolution = 120 # Number of pixels of one side of the display - Default : 200\n",
    "distance_steps = 1500 # Number of distance steps in the optical depth center array - Default : 3000\n",
    "angle_steps = 1800 # Number of angle steps in the optical depth center array - Default : 1800\n",
    "absorptionSteps_center = 10 # Number of steps between two adjacent elements of the spherical optical depth array - Default : 10\n",
    "absorptionSteps = 10 # Number of steps between two adjacent elements in the cubical optical depth array - Default : 5"
   ]
  },
  {
   "cell_type": "code",
   "execution_count": 3,
   "id": "23c8eedb",
   "metadata": {},
   "outputs": [],
   "source": [
    "# 3 Nebula Shape Parameters\n",
    "Rin = 2e16 # cm, Inner cavity radius - Default : 1e16\n",
    "power = 2 # Density inverse relation to radius - Default : 2\n",
    "density_enhancement = 10 # Density enhancement factor in the lobe walls - Default : 7\n",
    "edge_thickness = 0.1 # The thickness factor of the edge relative to the size of the lobe - Default : 0.12\n",
    "eccentricity = 0.88 # Eccentricity of the conic shaped lobe - Default : 0.85\n",
    "focus_shift = -viewLength * 0.015 # Coordinate of the conic section edge - Default : 0\n",
    "focus_shift_2 = focus_shift - viewLength * 0.00  # Coordinate of the inner conic section edge - Default : 0\n",
    "focus = viewLength * 0.033 - focus_shift # cm, Location of the focus of the conic shaped lobe - Default : -viewLength / 100\n",
    "directrix = -(focus + focus_shift) / eccentricity - focus_shift # cm, Location of the directrix of the conic shaped lobe - Default : -viewLength / 10.9\n",
    "ansa_eccentricity = 0.4 # Eccentricity of the ansa - Default : 0.85\n",
    "ansa_focus_shift = -viewLength * 0.12 # Location of the base of the ansa - Default : -viewLength * 0.11\n",
    "ansa_focus = viewLength * 0.04 - ansa_focus_shift # cm, Location of the ansa focus - Default : viewLength / 4\n",
    "ansa_directrix = -(ansa_focus + ansa_focus_shift) / ansa_eccentricity - ansa_focus_shift # cm, Location of the ansa directrix - Default : viewLength / 4\n",
    "cutoff_distance = viewLength * 0.2 # cm, Cutoff from the conic region to the linear region in the lobes\n",
    "outer_slope = 0.35 # cm, Slope of the linear region boundary"
   ]
  },
  {
   "cell_type": "code",
   "execution_count": 4,
   "id": "b945d95a",
   "metadata": {
    "tags": []
   },
   "outputs": [],
   "source": [
    "# 4 Nebula Content Parameters\n",
    "Mdot_Solar_Mass = 8e-5 # solar masses, Mass loss rate of all molecules - Default : 1e-5\n",
    "Mdot = Mdot_Solar_Mass * 2e33 / (365 * 24 * 60 * 60) # g / seconds, Mass loss rate of all molecules\n",
    "Mdot_Lat_Dependence = 1.2 # Mass loss rate doubles in the plane, and accordingly quarters in the axis\n",
    "particle_radius = 1e-5 # cm, Radius of the dust particles - Default : 1e-5 / smaller\n",
    "wavelength = 5e-5 # cm, Wavelength used by the observing telescope - Default : 5e-5\n",
    "albedo = 0.38 # Albedo of the dust particles\n",
    "scattering_effective_crosssection = (np.pi * particle_radius ** 2) * 2 * np.pi * (particle_radius / (wavelength)) # Per grain per cm^2, Effective scattering cross section of the particles\n",
    "dust_to_gas = 1 / 200 # Dust to gas ratio - Default : 1 / 200\n",
    "grain_mass = 1.3e-14 # grams, Mass of the individual grain - Default : 1.3e-14\n",
    "asymmetry_constant = 0.5 # The scattering asymmetry constant (overwritten in block # 20) - Default : 0.5"
   ]
  },
  {
   "cell_type": "code",
   "execution_count": 5,
   "id": "6c2acad0",
   "metadata": {},
   "outputs": [],
   "source": [
    "# 5 Pre-compute Important Numbers\n",
    "observingLatitude = np.pi * (observingLatitudeDegrees / 180) # radians, Observing latitude \n",
    "sin = np.sin(observingLatitude) # precompute the trigs of the observer\n",
    "cos = np.cos(observingLatitude)\n",
    "viewSize = viewLength / 2 # cm, Half the size of the picture\n",
    "angularSize = viewSize / (distanceLY / 2.18e-13) # arcseconds, Size of the nebula in angular units\n",
    "FD = focus - directrix\n",
    "center = focus + FD * eccentricity ** 2 / (1 - eccentricity ** 2)\n",
    "focus_2 = center - (center - focus) * (1 - edge_thickness) - (focus + focus_shift) * edge_thickness / (1 - eccentricity) + focus_shift - focus_shift_2\n",
    "directrix_2 = center - (center - directrix) * (1 - edge_thickness) - (focus + focus_shift) * edge_thickness / (1 - eccentricity) + focus_shift - focus_shift_2"
   ]
  },
  {
   "cell_type": "code",
   "execution_count": 6,
   "id": "f17a603c",
   "metadata": {},
   "outputs": [],
   "source": [
    "# 6 Logistic functions\n",
    "def norm(x):\n",
    "    return np.sqrt(x[0] ** 2 + x[1] ** 2 + x[2] ** 2)\n",
    "  # norm(): returns the norm of a given vector x (the vector is in the form of np.array([x, y, z]))\n",
    "\n",
    "def vector_angle(v1, v2):\n",
    "    norm1 = norm(v1)\n",
    "    norm2 = norm(v2)\n",
    "    if norm1 == 0 or norm2 == 0:\n",
    "        return 0\n",
    "    else:\n",
    "        factor = np.dot(v1, v2) / (norm1 * norm2)\n",
    "        if factor > 1:\n",
    "            return 0\n",
    "        elif factor < -1:\n",
    "            return np.pi\n",
    "        else:\n",
    "            return np.arccos(factor)\n",
    "    # vector_angle(): returns the angle between two cartesian vectors\n",
    "\n",
    "def spherical_to_cartesian(r):\n",
    "    sin_cur = np.sin(r[1])\n",
    "    return np.array([r[0] * sin_cur * np.cos(r[2]), r[0] * sin_cur * np.sin(r[2]), r[0] * np.cos(r[1])])\n",
    "  # spherical_to_cartesian(): returns the cartesian representation of the given spherical vector r\n",
    "  # the cartesian vector x is defined in the refernce frame of nebula, not the observer\n",
    "\n",
    "def cartesian_to_spherical(x):\n",
    "    norm = np.sqrt(x[0] ** 2 + x[1] ** 2 + x[2] ** 2) # pre compute the norm of the vector\n",
    "    if norm == 0:\n",
    "        return np.array([0, 0, 0])\n",
    "    elif x[0] == 0:\n",
    "        return np.array([norm, np.arccos(x[2] / norm), np.pi / 2])\n",
    "    else:\n",
    "        return np.array([norm, np.arccos(x[2] / norm), np.arctan(x[1] / x[0])])\n",
    "    # cartesian_to_spherical(): returns the spherical representation of the cartesian vector x\n",
    "    # the cartesian vector x is defined in the reference frame of nebula, not the observer"
   ]
  },
  {
   "cell_type": "code",
   "execution_count": 7,
   "id": "9be3b999",
   "metadata": {},
   "outputs": [],
   "source": [
    "# 7 Scattering Phase Function\n",
    "def phase_function(angle): # Henyey-Greenstein\n",
    "    return 1 / (4 * np.pi) * (1 - asymmetry_constant ** 2) / ((1 + asymmetry_constant ** 2 - 2 * asymmetry_constant * np.cos(angle)) ** (3 / 2))"
   ]
  },
  {
   "cell_type": "code",
   "execution_count": 8,
   "id": "a2d33f11",
   "metadata": {},
   "outputs": [],
   "source": [
    "# 8 Detailed Shape of the Nebula\n",
    "x, y = sp.symbols('x y')\n",
    "eq1 = sp.Eq(((cutoff_distance ** 2 + focus ** 2 - 2 * x * focus) ** (1 / 2) / (x - directrix)) - eccentricity, 0) # Outer conic section formula\n",
    "eq2 = sp.Eq(x ** 2 + y ** 2 - cutoff_distance ** 2, 0) # The point distance to the center has to be equal to cutoff_distance\n",
    "sol = sp.solve((eq1, eq2), (x, y)) # Find the point that satisfies both\n",
    "x_cut = np.abs(sol[1][0]) # x coordinate of the point\n",
    "y_cut = np.abs(sol[1][1]) # y coordinate of the point\n",
    "\n",
    "x, y = sp.symbols('x y')\n",
    "eq1 = sp.Eq((((cutoff_distance * (1 - edge_thickness)) ** 2 + focus_2 ** 2 - 2 * x * focus_2) ** (1 / 2) / (x - directrix_2)) - eccentricity, 0) # Inner conic section formula\n",
    "eq2 = sp.Eq(x ** 2 + y ** 2 - (cutoff_distance * (1 - edge_thickness / 1.25)) ** 2, 0) # The point distance to the center has to be equal to cutoff_distance\n",
    "sol = sp.solve((eq1, eq2), (x, y)) # Find the point that satisfies both\n",
    "x_cut_2 = np.abs(sol[1][0]) # x coordinate of the point\n",
    "y_cut_2 = np.abs(sol[1][1]) # y coordinate of the point\n",
    "\n",
    "y_intercept = y_cut + outer_slope * x_cut # Calculates the y-intercept of the outer linear boundary\n",
    "y_intercept_2 = y_cut_2 + outer_slope * x_cut_2 # Calculates the y-intercept of the inner linear boundary\n",
    "\n",
    "def lobe(sin_lat, distance): #both must be positive absolute values\n",
    "    if sin_lat < 0:\n",
    "        distance = distance * 0.9\n",
    "    sin_lat = np.abs(sin_lat)\n",
    "    if distance < cutoff_distance: # Conic region\n",
    "        pf = np.sqrt(distance ** 2 + focus ** 2 - 2 * distance * focus * sin_lat) # law of cosines\n",
    "        pd = distance * sin_lat - directrix\n",
    "        if np.abs(pf / pd) < eccentricity:\n",
    "            pf_2 = np.sqrt(distance ** 2 + focus_2 ** 2 - 2 * distance * focus_2 * sin_lat) # law of cosines\n",
    "            pd_2 = distance * sin_lat - directrix_2\n",
    "            if np.abs(pf_2 / pd_2) < eccentricity:\n",
    "                return 1\n",
    "            return 2\n",
    "        else:\n",
    "            return 0\n",
    "    else: # Linear region\n",
    "        x = distance * sin_lat\n",
    "        y = distance * (1 - sin_lat ** 2) ** (1 / 2)\n",
    "        if y <= y_intercept - x * outer_slope:\n",
    "            if y <= y_intercept_2 - x * outer_slope:\n",
    "                return 1\n",
    "            return 2\n",
    "    \n",
    "def ansa(sin_lat, distance):\n",
    "    pf_ansa = np.sqrt(distance ** 2 + ansa_focus ** 2 - 2 * distance * ansa_focus * sin_lat) # law of cosines\n",
    "    pd_ansa = distance * sin_lat - ansa_directrix\n",
    "    if pd_ansa == 0:\n",
    "        return 0\n",
    "    parabola_factor_ansa = np.abs(pf_ansa / pd_ansa)\n",
    "    if parabola_factor_ansa < ansa_eccentricity:\n",
    "        return 1\n",
    "    else:\n",
    "        return 0\n",
    "\n",
    "def density(latitude, distance): # The number density of the dust particles\n",
    "    \n",
    "    if distance < Rin / 2:\n",
    "        return 0\n",
    "    \n",
    "    sin_lat = np.abs(np.sin(latitude))\n",
    "    sin_lat_squared = sin_lat ** 2\n",
    "    cos_lat_squared = 1 - sin_lat_squared\n",
    "    lat = np.abs(latitude / np.pi * 2)\n",
    "    \n",
    "    Mdot_factor = Mdot_Lat_Dependence / np.sqrt((1 / Mdot_Lat_Dependence ** 2) * cos_lat_squared + Mdot_Lat_Dependence ** 4 * sin_lat_squared)\n",
    "    \n",
    "    if ansa(sin_lat, distance) == 1: # The ansa region\n",
    "        velocity = 1.8e6 # cm/s, Outflow velocity in this region - Default : 5e6\n",
    "        dr_cur = viewLength / 30 # cm, Width/Sharpness of the cutoff - Default : viewLength / 30\n",
    "        R_cur = viewLength / 3 # cm, Cutoff radius - Default : viewLength / 3\n",
    "        return Mdot_factor * (dust_to_gas * Mdot / grain_mass) / (4 * np.pi * (1e17 ** power) * velocity)\n",
    "    \n",
    "    elif lat >= 85 / 90 or lat >= 80 / 90 and distance <= ansa_focus:\n",
    "        velocity = 7.5e7 # cm/s - Default : 2e7\n",
    "        R_cur = viewLength * 0.5 # cm - Default : viewLength / 3\n",
    "        dr_cur = viewLength / 30\n",
    "        \n",
    "    elif lobe(sin_lat, distance) == 1: # The lobe region\n",
    "        # sin_lat_squared = sin_lat ** 2 # Square of the sine of the latitude\n",
    "        # velocity_high = 7.5e7 # cm/s, Highest possible outflow velocity in the lobes - Default : 7.5e7\n",
    "        # velocity_low = 2e7 # cm/s, Lowest possible outflow velocity in the lobes - Default : 2e7\n",
    "        # velocity = velocity_high * velocity_low / np.sqrt(velocity_low ** 2 * sin_lat_squared + velocity_high ** 2 * (1 - sin_lat_squared)) # cm/s\n",
    "        velocity = 5e7 # cm/s - Default : 7.5e7\n",
    "        dr_cur = viewLength / 30 # cm - Default : viewLength / 30\n",
    "        R_cur = viewLength / 3 # cm, Cutoff radius - Default : viewLength / 1.6\n",
    "\n",
    "    elif lobe(sin_lat, distance) == 2: # The lobe walls region\n",
    "        velocity = 2e7 / density_enhancement # cm/s\n",
    "        dr_cur = viewLength / 200 # cm - Default : viewLength / 30\n",
    "        R_cur = viewLength * 0.35\n",
    "        if distance >= viewLength / 10:\n",
    "            velocity = 2e7 / density_enhancement * ((viewLength * 0.1 / distance) ** 2)\n",
    "    \n",
    "    else: # The disk region\n",
    "        sin_lat_squared = sin_lat ** 2 # Square of the sine of the latitude\n",
    "        velocity_high = 2e6 # cm/s, Highest possible outflow velocity in the disk - Default : 6e6\n",
    "        velocity_low = 5e5 # cm/s, Lowest possible outflow velocity in the disk - Default : 3e6\n",
    "        velocity = velocity_high * velocity_low / np.sqrt(velocity_low ** 2 * sin_lat_squared + velocity_high ** 2 * (1 - sin_lat_squared)) # cm/s\n",
    "        dr_cur = viewLength * 0.025 # cm - Default : viewLength / 50\n",
    "        R_cur = 1000 * 365 * 24 * 60 * 60 * velocity * 3 # cm - Default : 1000 years * velocity\n",
    "        \n",
    "    cutoff_outer = 0.5 * (1 - np.tanh((distance - R_cur) / dr_cur))\n",
    "    cutoff_inner = 0.5 * (1 - np.tanh((Rin - distance) / (Rin / 10)))\n",
    "    \n",
    "    return Mdot_factor * (dust_to_gas * Mdot / grain_mass) * (cutoff_outer * cutoff_inner) / (4 * np.pi * (distance ** power) * velocity)\n",
    "\n",
    "def density_cartesian(x):\n",
    "    spherical = cartesian_to_spherical(x) # x in spherical coordinates\n",
    "    return density(np.pi / 2 - spherical[1], spherical[0])"
   ]
  },
  {
   "cell_type": "code",
   "execution_count": 9,
   "id": "eccbbbdf",
   "metadata": {},
   "outputs": [],
   "source": [
    "# 9 Density Display Function\n",
    "@np.vectorize\n",
    "def density_map(x, y):\n",
    "    return density_cartesian(np.array([0, y, -x])) ** (1 / float(5))\n",
    "# Density display, density scales by the power of 1/5\n",
    "\n",
    "# Computing the density map\n",
    "side = np.linspace(-viewSize, viewSize, 2 * resolution + 1)\n",
    "x,y = np.meshgrid(side, side)\n",
    "Value = density_map(x, y)"
   ]
  },
  {
   "cell_type": "code",
   "execution_count": 10,
   "id": "8112e970",
   "metadata": {},
   "outputs": [
    {
     "data": {
      "image/png": "[encoded data removed]",
      "text/plain": [
       "<Figure size 432x288 with 1 Axes>"
      ]
     },
     "metadata": {
      "needs_background": "light"
     },
     "output_type": "display_data"
    }
   ],
   "source": [
    "# 10 Density Display\n",
    "plt.title(\"Density Distribution\")\n",
    "plt.pcolormesh(x, y, Value, cmap = 'afmhot', shading = 'auto')\n",
    "# plt.annotate(\"Axis of Symmetry\", xy = (viewLength / 20, -viewLength / 4), color = 'red')\n",
    "# plt.axhline(y = 0, color = 'red', linestyle = '-')\n",
    "# plt.annotate(\"Central Star\", xy = (-viewLength / 20, viewLength / 4), color = 'blue')\n",
    "# plt.plot([0], [0], marker = \"x\", markersize = 20, color = \"blue\")\n",
    "plt.gca().set_aspect('equal')\n",
    "# plt.axis('on')\n",
    "# plt.show()"
   ]
  },
  {
   "cell_type": "markdown",
   "id": "5c855f8e",
   "metadata": {},
   "source": [
    "## Part 3. Computing The Optical Depth Arrays"
   ]
  },
  {
   "cell_type": "code",
   "execution_count": 11,
   "id": "a35bacfa",
   "metadata": {},
   "outputs": [],
   "source": [
    "# 11 Array Coordinate - Skyplane Coordinate Translations\n",
    "def coord_to_index(x, y): \n",
    "    # coord_to_index(): Returns the array index i given the skyplane coordinates x, y in cm \n",
    "    return int(int(((x / viewSize) + 1) * (resolution / 2)) + int((y / viewSize) * (resolution / 2)) * (resolution + 1))\n",
    "def index_to_x(i):\n",
    "    # index_to_x(): Returns the skyplane coordinate x given the array index i\n",
    "    return (int(i % (resolution + 1)) / (resolution / 2) - 1) * viewSize\n",
    "def index_to_y(i):\n",
    "    # index_to_y(): Returns the skyplane coordinate y given the array index i\n",
    "    return (int(i / (resolution + 1)) / (resolution / 2)) * viewSize"
   ]
  },
  {
   "cell_type": "code",
   "execution_count": 12,
   "id": "8099f5bd",
   "metadata": {},
   "outputs": [],
   "source": [
    "# 12 Define Spherical Optical Depth Integration Function\n",
    "def optical_depth_center_progression(latitude, distance):\n",
    "    # optical_depth_center_progression(): Optical depth between two close points\n",
    "    sum = 0 # total\n",
    "    i = 0 # iterator\n",
    "    while i < 1:\n",
    "        add = density(latitude, distance + i * (viewSize / (distance_steps * absorptionSteps_center)))\n",
    "        sum += add # add the non constant density\n",
    "        i += 1 / absorptionSteps_center\n",
    "    sum = scattering_effective_crosssection * sum * (2 * viewSize / (distance_steps * absorptionSteps_center))\n",
    "    # now multiply the constants of the integrand\n",
    "    return sum / albedo # divide the albedo for the total extinction crosssection"
   ]
  },
  {
   "cell_type": "code",
   "execution_count": 13,
   "id": "b35262b1",
   "metadata": {},
   "outputs": [],
   "source": [
    "# 13 Spherical Optical Depth Array\n",
    "# Define the spherical optical depth array\n",
    "# i from 0 to distance_steps, represents distance from 0 to 2*viewSize\n",
    "# j from 0 to pi/2, represents the latitude\n",
    "i, j = distance_steps + 1, angle_steps + 1\n",
    "optical_depth_center_array = [[0 for x in range(i)] for y in range(j)]"
   ]
  },
  {
   "cell_type": "code",
   "execution_count": 14,
   "id": "e60fb644",
   "metadata": {},
   "outputs": [],
   "source": [
    "# 14 Computing The Spherical Optical Depth Array\n",
    "for i in range(0, angle_steps):\n",
    "    for j in range(0, distance_steps):\n",
    "        # For each angle, accumulatively compute the optical depth\n",
    "        add = optical_depth_center_progression(i * np.pi / (2 * angle_steps), j * (2 * viewSize / distance_steps))\n",
    "        optical_depth_center_array[i][j] = optical_depth_center_array[i][j - 1] + add"
   ]
  },
  {
   "cell_type": "code",
   "execution_count": 15,
   "id": "3d76abb4",
   "metadata": {},
   "outputs": [],
   "source": [
    "# 15 Define Cubical Optical Depth Integration Function\n",
    "n = 2 * viewSize / resolution\n",
    "def optical_depth_progression(x1, x2):\n",
    "    # optical_depth_progression(): Optical depth between two close points\n",
    "    sum = 0 # total\n",
    "    i = 0 # iterator\n",
    "    while i < 1:\n",
    "        add = density_cartesian(x1 + i * (x2 - x1))\n",
    "        sum += add # add the non constant density\n",
    "        i += 1 / absorptionSteps\n",
    "    sum = scattering_effective_crosssection * sum * n / absorptionSteps # now multiply the constants of the integrand\n",
    "    return sum / albedo # return the result"
   ]
  },
  {
   "cell_type": "code",
   "execution_count": 16,
   "id": "cf35d202",
   "metadata": {},
   "outputs": [],
   "source": [
    "# 16 Cubical Optical Depth Array\n",
    "# Define the cubical optical depth array\n",
    "# j is the depth, \"0\" is the closest to the viewplane, \"resolution\" isthe deepest, resolution+1 steps in total\n",
    "# i is the coordinate, is the x*(resolution+1)+y, minimum 0 (x minimum, y=0), maximum (resolution+1)*(resolution)-1 (top right corner)\n",
    "# here x and y are pixel coordinates, from 0 to resolution\n",
    "i, j = resolution + 1, (resolution + 1) * (int(resolution / 2) + 1)\n",
    "optical_depth_array = [[0 for x in range(i)] for y in range(j)]"
   ]
  },
  {
   "cell_type": "code",
   "execution_count": 17,
   "id": "81f0d8e4",
   "metadata": {},
   "outputs": [],
   "source": [
    "# 17 Computing The Cubical Optical Depth Array\n",
    "r = (resolution + 1) * (int(resolution / 2) + 1) - 1\n",
    "for i in range(0, r):\n",
    "    for j in range(0, resolution):\n",
    "        # For each coordinate, accumulate the optical depth along the line of sight\n",
    "        x = index_to_x(i)\n",
    "        y = index_to_y(i)\n",
    "        \n",
    "        add = optical_depth_progression(np.array([x * sin + (((resolution / 2) - j) / (resolution / 2) * viewSize) * cos, y, -x * cos + (((resolution / 2) - j) / (resolution / 2) * viewSize) * sin]), np.array([x * sin + (((resolution / 2) - (j - 1)) / (resolution / 2) * viewSize) * cos, y, -x * cos + (((resolution / 2) - (j - 1)) / (resolution / 2) * viewSize) * sin]))\n",
    "        \n",
    "        optical_depth_array[i][j] = optical_depth_array[i][j - 1] + add"
   ]
  },
  {
   "cell_type": "markdown",
   "id": "d936333f",
   "metadata": {},
   "source": [
    "## Part 4. Computing The Image"
   ]
  },
  {
   "cell_type": "code",
   "execution_count": 18,
   "id": "516f86ff",
   "metadata": {},
   "outputs": [],
   "source": [
    "# 20 Defining the Optical Intensity Function\n",
    "asymmetry_constant = 0.5\n",
    "# The scattering asymmetry constant - Default : 0.5\n",
    "# This can change with each recompute, without altering the array, mainly changing front/back ratio\n",
    "scale_factor = 1.25 # The post-compute multiplier applied to the density/optical depths array\n",
    "\n",
    "@np.vectorize\n",
    "def intensity(x, y):\n",
    "    sum = 0.0\n",
    "    # total number of unit photons reaching the specified pixel\n",
    "    i = coord_to_index(x, y)\n",
    "    for j in range(0, resolution):\n",
    "        cur = np.array([float(x * sin + (((resolution / 2) - j) / (resolution / 2) * viewSize) * cos), float(y), float(-x * cos + (((resolution / 2) - j) / (resolution / 2) * viewSize) * sin)])\n",
    "        # current point (precise value stored in array)\n",
    "        spherical = cartesian_to_spherical(cur) \n",
    "        # spherical of current point, to find the optical depth center\n",
    "        o_d_center = scale_factor * optical_depth_center_array[np.abs(int((angle_steps / 90) * (90 - (180 * spherical[1] / np.pi))))][int(spherical[0] / (2 * viewSize) * distance_steps)]\n",
    "        # optical depth from center\n",
    "        o_d = scale_factor * optical_depth_array[i][j]\n",
    "        # optical depth from point of interest to earth\n",
    "        # the amount of photons from that point\n",
    "        if x == 0 and y == 0 and j == resolution / 2: # point of interest is central star\n",
    "            add = mpmath.exp(-scale_factor * optical_depth_array[coord_to_index(0, 0)][int(j)]) / ((viewLength / resolution) ** 2)\n",
    "        else:\n",
    "            add = (1 / (4 * np.pi * ((spherical[0]) ** 2))) * mpmath.exp(-o_d) * mpmath.exp(-o_d_center) * scale_factor * scattering_effective_crosssection * density(np.pi / 2 - spherical[1], spherical[0]) * (viewLength / resolution) * phase_function(vector_angle(np.array([cos, 0, sin]), cur))\n",
    "        sum += add\n",
    "    return sum"
   ]
  },
  {
   "cell_type": "code",
   "execution_count": 19,
   "id": "91223f2d",
   "metadata": {},
   "outputs": [],
   "source": [
    "# 21 Computing The Top Half Image\n",
    "side = np.linspace(-viewSize, viewSize, resolution + 1)\n",
    "sideY = np.linspace(0, viewSize, int(resolution / 2) + 1)\n",
    "x, y = np.meshgrid(side, sideY)\n",
    "np.seterr(divide = 'ignore')\n",
    "Value = intensity(x, y) # compute half of the intensity map"
   ]
  },
  {
   "cell_type": "code",
   "execution_count": 20,
   "id": "38aa6203",
   "metadata": {},
   "outputs": [],
   "source": [
    "# 22 Generating Full Image from Half Image\n",
    "@np.vectorize\n",
    "def findValue(x, y):\n",
    "    cur_x = int((x / (angularSize) + 1) * resolution / 2)\n",
    "    cur_y = round(y * resolution / angularSize / 2)\n",
    "    if y > 0:\n",
    "        return float(Value[cur_y][cur_x])\n",
    "    elif y == 0:\n",
    "        return float(Value[0][cur_x])\n",
    "    else:\n",
    "        return float(Value[-cur_y][cur_x])"
   ]
  },
  {
   "cell_type": "code",
   "execution_count": 21,
   "id": "d1b2264a",
   "metadata": {},
   "outputs": [
    {
     "data": {
      "image/png": "[encoded data removed]",
      "text/plain": [
       "<Figure size 720x360 with 2 Axes>"
      ]
     },
     "metadata": {
      "needs_background": "light"
     },
     "output_type": "display_data"
    }
   ],
   "source": [
    "# 23 Plots\n",
    "side_angular = np.linspace(-angularSize, angularSize, resolution + 1)\n",
    "X, Y = np.meshgrid(side_angular, side_angular)\n",
    "np.seterr(divide = 'ignore')\n",
    "fullValues = findValue(X, Y)\n",
    "\n",
    "f = plt.figure(figsize = (10, 5))\n",
    "ax = f.add_subplot(121, aspect = 1)\n",
    "\n",
    "plt.xlabel(\"Horizontal Offset (arcsec)\")\n",
    "plt.ylabel(\"Vertical Offset (arcsec)\")\n",
    "plt.title(\"Image\")\n",
    "ax.pcolormesh(X, Y, fullValues, cmap = 'afmhot', shading = 'auto')\n",
    "plt.gca().set_aspect('equal')\n",
    "\n",
    "ax2 = f.add_subplot(122)\n",
    "x_array = np.linspace(-angularSize, angularSize, resolution + 1)\n",
    "y_array = fullValues[int(resolution / 2)]\n",
    "normalizedYArray = y_array / np.max(np.nan_to_num(np.array(y_array, dtype = float)))\n",
    "ax2.plot(x_array, normalizedYArray, color = 'red')\n",
    "x_pos = (1 + np.min(normalizedYArray)) / 2\n",
    "ax2.set_ylabel(\"Normalized Pixel Value\")\n",
    "plt.title(\"Brightness Along Symmetric Axis\")\n",
    "\n",
    "plt.annotate(\"Observing Latitude: \" + str(observingLatitudeDegrees) + \" degrees;\\n\" + \"g (asymmetry constant) =\" + str(asymmetry_constant) + \";\\nMdot=\" + str(round(Mdot_Solar_Mass * scale_factor, 6)) + \" \" + '$ M_{\\odot}$' + \"/year\", xy = (-angularSize, x_pos), color = 'blue')\n",
    "\n",
    "# ax3 = ax2.twinx()\n",
    "# ax3.plot(x_array, np.nan_to_num(np.array(y_array, dtype = float)), color = 'blue', alpha = 0)\n",
    "# ax3.set_ylabel(\"Absolute Intensity (Not currently Implemented)\")\n",
    "\n",
    "plt.show()"
   ]
  },
  {
   "cell_type": "code",
   "execution_count": 22,
   "id": "c3e2f26e-bab6-40b7-a1a3-a38af55c672b",
   "metadata": {},
   "outputs": [
    {
     "data": {
      "text/plain": [
       "array(mpf('7.2117964859643748e-38'), dtype=object)"
      ]
     },
     "execution_count": 22,
     "metadata": {},
     "output_type": "execute_result"
    }
   ],
   "source": [
    "intensity(-1e17, 0)"
   ]
  },
  {
   "cell_type": "code",
   "execution_count": 23,
   "id": "a7d9f19c-4158-465c-80f6-1634749b28ef",
   "metadata": {},
   "outputs": [
    {
     "data": {
      "text/plain": [
       "array(mpf('1.2123793552097629e-38'), dtype=object)"
      ]
     },
     "execution_count": 23,
     "metadata": {},
     "output_type": "execute_result"
    }
   ],
   "source": [
    "intensity(0, 0)"
   ]
  },
  {
   "cell_type": "code",
   "execution_count": 24,
   "id": "67cecbc1",
   "metadata": {},
   "outputs": [],
   "source": [
    "# 24 Saving Fits Files\n",
    "modifiedValues = fullValues / np.amax(fullValues)\n",
    "hdul = fits.PrimaryHDU(data = modifiedValues)\n",
    "now = datetime.now()\n",
    "t_string = now.strftime(\"%m_%d_%Y_%Hh%Mm%Ss\")\n",
    "m_string = now.strftime(\"%m_%Y\")\n",
    "if os.path.exists(\"Images/\"+m_string) == False:\n",
    "    os.makedirs(\"Images/\"+m_string)\n",
    "string = \"Images/\"+m_string+\"/\"+t_string+\"_power_\"+str(power)+\"_multiplier_\"+str(scale_factor)+\"_1.fits\"\n",
    "hdul.writeto(string)"
   ]
  },
  {
   "cell_type": "code",
   "execution_count": 25,
   "id": "bb49b52d",
   "metadata": {},
   "outputs": [],
   "source": [
    "# 25 Image Convolution Kernel\n",
    "kernel = Gaussian2DKernel(x_stddev = 3 / 500 * resolution, y_stddev = 3 / 500 * resolution)\n",
    "astropy_conv = convolve(modifiedValues, kernel)"
   ]
  },
  {
   "cell_type": "code",
   "execution_count": 26,
   "id": "7e3f7431",
   "metadata": {},
   "outputs": [
    {
     "data": {
      "image/png": "[encoded data removed]",
      "text/plain": [
       "<Figure size 720x360 with 2 Axes>"
      ]
     },
     "metadata": {
      "needs_background": "light"
     },
     "output_type": "display_data"
    }
   ],
   "source": [
    "# 26 Plotting the Convoluted Image\n",
    "f = plt.figure(figsize = (10, 5))\n",
    "ax = f.add_subplot(121, aspect = 1)\n",
    "\n",
    "plt.xlabel(\"Horizontal Offset (arcsec)\")\n",
    "plt.ylabel(\"Vertical Offset (arcsec)\")\n",
    "plt.title(\"Image\")\n",
    "ax.pcolormesh(X, Y, astropy_conv, cmap = 'afmhot', shading = 'auto')\n",
    "plt.gca().set_aspect('equal')\n",
    "\n",
    "ax2 = f.add_subplot(122)\n",
    "x_array = np.linspace(-angularSize, angularSize, resolution + 1)\n",
    "y_array = astropy_conv[int(resolution / 2)]\n",
    "normalizedYArray = y_array / np.max(np.nan_to_num(np.array(y_array, dtype = float)))\n",
    "ax2.plot(x_array, normalizedYArray, color = 'red', label = 'Simulated')\n",
    "x_pos = (1 + np.min(normalizedYArray)) / 2\n",
    "ax2.set_ylabel(\"Normalized Pixel Value\")\n",
    "plt.title(\"Brightness Along Symmetric Axis\")\n",
    "\n",
    "hst = fits.open(\"hst_06761_02_wfpc2_f547m_wf_drz.fits\")\n",
    "hst_image = hst[1].data\n",
    "\n",
    "x_hst = np.linspace(-100 *  0.1013 * np.sqrt(2) * np.cos(3 * np.pi / 180), 100 *  0.1013 * np.sqrt(2) * np.cos(3 * np.pi / 180), 201)\n",
    "y_hst = [hst_image[980, 1459]]\n",
    "for i in range(1, 101):\n",
    "    y_hst.append(hst_image[980 - i, 1459 - i])\n",
    "    y_hst.insert(0, hst_image[980 + i, 1459 + i])\n",
    "\n",
    "y_hst_scaled = np.interp(x_array, x_hst, y_hst)\n",
    "normalizedYHST = y_hst_scaled / np.max(np.nan_to_num(np.array(y_hst_scaled, dtype = float)))\n",
    "ax2.plot(x_array, normalizedYHST, color = 'blue', alpha = 0.5, label = 'HST')\n",
    "\n",
    "plt.annotate(\"Observing Latitude: \" + str(observingLatitudeDegrees) + \" degrees;\\n\" + \"g (asymmetry constant) =\" + str(asymmetry_constant) + \";\\nMdot=\" + str(round(Mdot_Solar_Mass * scale_factor, 6)) + \" \" + '$ M_{\\odot}$' + \"/year\", xy = (-angularSize, x_pos), color = 'blue')\n",
    "\n",
    "# ax3 = ax2.twinx()\n",
    "# ax3.plot(x_array, np.nan_to_num(np.array(y_array, dtype = float)), color = 'blue', alpha = 0)\n",
    "# ax3.set_ylabel(\"Absolute Intensity (Not currently Implemented)\")\n",
    "\n",
    "plt.legend()\n",
    "plt.show()"
   ]
  },
  {
   "cell_type": "code",
   "execution_count": 27,
   "id": "04a22bea",
   "metadata": {},
   "outputs": [],
   "source": [
    "# 27 Saving Convoluted Files\n",
    "hdul = fits.PrimaryHDU(data = astropy_conv)\n",
    "string = \"Images/\" + m_string + \"/\" + t_string + \"_power_\" + str(power) + \"_multiplier_\" + str(scale_factor) + \"_convolved.fits\"\n",
    "hdul.writeto(string, overwrite = True)"
   ]
  },
  {
   "cell_type": "code",
   "execution_count": 28,
   "id": "d4c99bb9-7b63-460d-b8a6-515619027cee",
   "metadata": {},
   "outputs": [
    {
     "data": {
      "image/png": "[encoded data removed]",
      "text/plain": [
       "<Figure size 432x288 with 1 Axes>"
      ]
     },
     "metadata": {
      "needs_background": "light"
     },
     "output_type": "display_data"
    }
   ],
   "source": [
    "# 28 Plotting Central Optical Depth\n",
    "x_odc = np.linspace(0, 90, 1800)\n",
    "y_odc = np.array([])\n",
    "x = [0, 30, 60, 90]\n",
    "for i in range(0, 1800):\n",
    "    y_odc = np.append(y_odc, optical_depth_center_array[i][999])\n",
    "plt.plot(x_odc, y_odc, color = 'red')\n",
    "plt.xticks(ticks = x)\n",
    "plt.title(\"Optical Depth vs. Latitude\")\n",
    "plt.xlabel(\"Latitude (Degrees)\")\n",
    "plt.ylabel(\"Optical Depth\")\n",
    "plt.grid()\n",
    "plt.show()"
   ]
  },
  {
   "cell_type": "code",
   "execution_count": 29,
   "id": "3517fe76",
   "metadata": {},
   "outputs": [
    {
     "name": "stdout",
     "output_type": "stream",
     "text": [
      "Total Mass is: 0.1767677310538007\n"
     ]
    }
   ],
   "source": [
    "# 29 Calculating Total Mass\n",
    "total_mass = 0.0\n",
    "x = -viewSize\n",
    "y = -viewSize\n",
    "z = -viewSize\n",
    "while x <= viewSize:\n",
    "    y = -viewSize\n",
    "    while y <= viewSize:\n",
    "        z = -viewSize\n",
    "        while z <= viewSize:\n",
    "            total_mass = total_mass + density_cartesian(np.array([x,y,z]))\n",
    "            z += 1e16\n",
    "        y += 1e16\n",
    "    x += 1e16\n",
    "total_mass = total_mass * 1e48 * grain_mass / dust_to_gas * scale_factor\n",
    "print(\"Total Mass is: \" + str(total_mass / 2e33))"
   ]
  },
  {
   "cell_type": "code",
   "execution_count": 30,
   "id": "54e702a6-14be-42a9-a54b-3b8cd193ee6b",
   "metadata": {},
   "outputs": [
    {
     "data": {
      "text/plain": [
       "<matplotlib.legend.Legend at 0x7f4e92635110>"
      ]
     },
     "execution_count": 30,
     "metadata": {},
     "output_type": "execute_result"
    },
    {
     "data": {
      "image/png": "[encoded data removed]",
      "text/plain": [
       "<Figure size 432x288 with 1 Axes>"
      ]
     },
     "metadata": {
      "needs_background": "light"
     },
     "output_type": "display_data"
    }
   ],
   "source": [
    "offset = 4\n",
    "\n",
    "start_x = 59 + 41 * offset / (0.1013 * np.sqrt(40 ** 2 + 41 ** 2)) + 40 * 3 / (0.1013 * np.sqrt(40 ** 2 + 41 ** 2))\n",
    "end_x = 59 + 41 * offset / (0.1013 * np.sqrt(40 ** 2 + 41 ** 2)) - 40 * 3 / (0.1013 * np.sqrt(40 ** 2 + 41 ** 2))\n",
    "start_y = 60 + 40 * offset / (0.1013 * np.sqrt(40 ** 2 + 41 ** 2)) - 41 * 3 / (0.1013 * np.sqrt(40 ** 2 + 41 ** 2))\n",
    "end_y = 60 + 40 * offset / (0.1013 * np.sqrt(40 ** 2 + 41 ** 2)) + 41 * 3 / (0.1013 * np.sqrt(40 ** 2 + 41 ** 2))\n",
    "y_array = skimage.measure.profile_line(hst_image[920 : 1030, 1400 : 1525], [start_x, start_y], [end_x, end_y], linewidth = 1)\n",
    "x_array = np.linspace((len(y_array) - 1) / 2 * 0.1013, -(len(y_array) - 1) / 2 * 0.1013, len(y_array))\n",
    "plt.plot(x_array, y_array / np.max(np.nan_to_num(np.array(y_hst_scaled, dtype = float))), color = 'blue', label = \"HST\")\n",
    "plt.title(\"Offset 4\\'\\'\")\n",
    "\n",
    "y_array = skimage.measure.profile_line(astropy_conv, [60 + 3 * resolution / (angularSize * 2), 60 - offset * resolution / (angularSize * 2)], [60 - 3 * resolution / (angularSize * 2), 60 - offset * resolution / (angularSize * 2)], linewidth = 1)\n",
    "x_array = np.linspace(-3, 3, len(y_array))\n",
    "plt.plot(x_array, y_array / np.max(np.nan_to_num(np.array(astropy_conv[int(resolution / 2)], dtype = float))), color = 'red', label = \"Simulated\")\n",
    "plt.legend()"
   ]
  },
  {
   "cell_type": "code",
   "execution_count": 31,
   "id": "a97d503f-15bc-41c9-99f6-fb45dfb9c588",
   "metadata": {},
   "outputs": [
    {
     "data": {
      "text/plain": [
       "<matplotlib.legend.Legend at 0x7f4e93332650>"
      ]
     },
     "execution_count": 31,
     "metadata": {},
     "output_type": "execute_result"
    },
    {
     "data": {
      "image/png": "[encoded data removed]",
      "text/plain": [
       "<Figure size 432x288 with 1 Axes>"
      ]
     },
     "metadata": {
      "needs_background": "light"
     },
     "output_type": "display_data"
    }
   ],
   "source": [
    "offset = 3\n",
    "\n",
    "start_x = 59 + 41 * offset / (0.1013 * np.sqrt(40 ** 2 + 41 ** 2)) + 40 * 3 / (0.1013 * np.sqrt(40 ** 2 + 41 ** 2))\n",
    "end_x = 59 + 41 * offset / (0.1013 * np.sqrt(40 ** 2 + 41 ** 2)) - 40 * 3 / (0.1013 * np.sqrt(40 ** 2 + 41 ** 2))\n",
    "start_y = 60 + 40 * offset / (0.1013 * np.sqrt(40 ** 2 + 41 ** 2)) - 41 * 3 / (0.1013 * np.sqrt(40 ** 2 + 41 ** 2))\n",
    "end_y = 60 + 40 * offset / (0.1013 * np.sqrt(40 ** 2 + 41 ** 2)) + 41 * 3 / (0.1013 * np.sqrt(40 ** 2 + 41 ** 2))\n",
    "y_array = skimage.measure.profile_line(hst_image[920 : 1030, 1400 : 1525], [start_x, start_y], [end_x, end_y], linewidth = 1)\n",
    "x_array = np.linspace((len(y_array) - 1) / 2 * 0.1013, -(len(y_array) - 1) / 2 * 0.1013, len(y_array))\n",
    "plt.plot(x_array, y_array / np.max(np.nan_to_num(np.array(y_hst_scaled, dtype = float))), color = 'blue', label = \"HST\")\n",
    "plt.title(\"Offset 3\\'\\'\")\n",
    "\n",
    "y_array = skimage.measure.profile_line(astropy_conv, [60 + 3 * resolution / (angularSize * 2), 60 - offset * resolution / (angularSize * 2)], [60 - 3 * resolution / (angularSize * 2), 60 - offset * resolution / (angularSize * 2)], linewidth = 1)\n",
    "x_array = np.linspace(-3, 3, len(y_array))\n",
    "plt.plot(x_array, y_array / np.max(np.nan_to_num(np.array(astropy_conv[int(resolution / 2)], dtype = float))), color = 'red', label = \"Simulated\")\n",
    "plt.legend()"
   ]
  },
  {
   "cell_type": "code",
   "execution_count": 32,
   "id": "e8909cda-7cf5-4bb8-85b9-9356d262ebd9",
   "metadata": {},
   "outputs": [
    {
     "data": {
      "text/plain": [
       "<matplotlib.legend.Legend at 0x7f4e96b70b90>"
      ]
     },
     "execution_count": 32,
     "metadata": {},
     "output_type": "execute_result"
    },
    {
     "data": {
      "image/png": "[encoded data removed]",
      "text/plain": [
       "<Figure size 432x288 with 1 Axes>"
      ]
     },
     "metadata": {
      "needs_background": "light"
     },
     "output_type": "display_data"
    }
   ],
   "source": [
    "offset = 2\n",
    "\n",
    "start_x = 59 + 41 * offset / (0.1013 * np.sqrt(40 ** 2 + 41 ** 2)) + 40 * 3 / (0.1013 * np.sqrt(40 ** 2 + 41 ** 2))\n",
    "end_x = 59 + 41 * offset / (0.1013 * np.sqrt(40 ** 2 + 41 ** 2)) - 40 * 3 / (0.1013 * np.sqrt(40 ** 2 + 41 ** 2))\n",
    "start_y = 60 + 40 * offset / (0.1013 * np.sqrt(40 ** 2 + 41 ** 2)) - 41 * 3 / (0.1013 * np.sqrt(40 ** 2 + 41 ** 2))\n",
    "end_y = 60 + 40 * offset / (0.1013 * np.sqrt(40 ** 2 + 41 ** 2)) + 41 * 3 / (0.1013 * np.sqrt(40 ** 2 + 41 ** 2))\n",
    "y_array = skimage.measure.profile_line(hst_image[920 : 1030, 1400 : 1525], [start_x, start_y], [end_x, end_y], linewidth = 1)\n",
    "x_array = np.linspace((len(y_array) - 1) / 2 * 0.1013, -(len(y_array) - 1) / 2 * 0.1013, len(y_array))\n",
    "plt.plot(x_array, y_array / np.max(np.nan_to_num(np.array(y_hst_scaled, dtype = float))), color = 'blue', label = \"HST\")\n",
    "plt.title(\"Offset 2\\'\\'\")\n",
    "\n",
    "y_array = skimage.measure.profile_line(astropy_conv, [60 + 3 * resolution / (angularSize * 2), 60 - offset * resolution / (angularSize * 2)], [60 - 3 * resolution / (angularSize * 2), 60 - offset * resolution / (angularSize * 2)], linewidth = 1)\n",
    "x_array = np.linspace(-3, 3, len(y_array))\n",
    "plt.plot(x_array, y_array / np.max(np.nan_to_num(np.array(astropy_conv[int(resolution / 2)], dtype = float))), color = 'red', label = \"Simulated\")\n",
    "plt.legend()"
   ]
  },
  {
   "cell_type": "code",
   "execution_count": 33,
   "id": "5f009a49-30f7-4cef-8fcf-2e3a4772ef4e",
   "metadata": {
    "jupyter": {
     "source_hidden": true
    },
    "tags": []
   },
   "outputs": [
    {
     "data": {
      "text/plain": [
       "[<matplotlib.lines.Line2D at 0x7f4e92678ed0>]"
      ]
     },
     "execution_count": 33,
     "metadata": {},
     "output_type": "execute_result"
    },
    {
     "data": {
      "image/png": "[encoded data removed]",
      "text/plain": [
       "<Figure size 720x360 with 1 Axes>"
      ]
     },
     "metadata": {
      "needs_background": "light"
     },
     "output_type": "display_data"
    }
   ],
   "source": [
    "f = plt.figure(figsize = (10, 5))\n",
    "ax = f.add_subplot(121, aspect = 1)\n",
    "\n",
    "plt.xlabel(\"Horizontal Offset (arcsec)\")\n",
    "plt.ylabel(\"Vertical Offset (arcsec)\")\n",
    "# plt.title(\"Image\")\n",
    "plt.imshow(astropy_conv, cmap = 'afmhot')\n",
    "plt.gca().set_aspect('equal')\n",
    "plt.axis('off')\n",
    "offset = 4\n",
    "plt.plot([60 - offset * resolution / (angularSize * 2), 60 - offset * resolution / (angularSize * 2)], [60 + 3 * resolution / (angularSize * 2), 60 - 3 * resolution / (angularSize * 2)], color = \"purple\")\n",
    "offset = 3\n",
    "plt.plot([60 - offset * resolution / (angularSize * 2), 60 - offset * resolution / (angularSize * 2)], [60 + 3 * resolution / (angularSize * 2), 60 - 3 * resolution / (angularSize * 2)], color = \"green\")\n",
    "offset = 2\n",
    "plt.plot([60 - offset * resolution / (angularSize * 2), 60 - offset * resolution / (angularSize * 2)], [60 + 3 * resolution / (angularSize * 2), 60 - 3 * resolution / (angularSize * 2)], color = \"blue\")"
   ]
  },
  {
   "cell_type": "code",
   "execution_count": 34,
   "id": "3d61810f",
   "metadata": {},
   "outputs": [],
   "source": [
    "# END"
   ]
  }
 ],
 "metadata": {
  "kernelspec": {
   "display_name": "M192",
   "language": "python",
   "name": "m192"
  },
  "language_info": {
   "codemirror_mode": {
    "name": "ipython",
    "version": 3
   },
   "file_extension": ".py",
   "mimetype": "text/x-python",
   "name": "python",
   "nbconvert_exporter": "python",
   "pygments_lexer": "ipython3",
   "version": "3.11.3"
  }
 },
 "nbformat": 4,
 "nbformat_minor": 5
}
