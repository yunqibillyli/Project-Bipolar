{
 "cells": [
  {
   "cell_type": "code",
   "execution_count": 1,
   "id": "b852ce31-cf5b-4c5d-940a-6a4df7f55a5b",
   "metadata": {},
   "outputs": [],
   "source": [
    "import numpy as np\n",
    "import matplotlib.pyplot as plt\n",
    "from IPython.display import clear_output"
   ]
  },
  {
   "cell_type": "code",
   "execution_count": 2,
   "id": "e547da3b-34dc-4aaf-956f-f083eddb0508",
   "metadata": {},
   "outputs": [
    {
     "data": {
      "image/png": "[encoded data removed]",
      "text/plain": [
       "<Figure size 432x288 with 1 Axes>"
      ]
     },
     "metadata": {
      "needs_background": "light"
     },
     "output_type": "display_data"
    }
   ],
   "source": [
    "x_array = np.linspace(14800, 15200, 1000)\n",
    "y_array_1 = - 0.0253513 * x_array + 575.43901818\n",
    "y_array_2 = - 0.0465586 * x_array + 895.36378074\n",
    "y_array_3 = - 0.0642688 * x_array + 1158.77931776\n",
    "plt.plot(x_array, y_array_1, color = 'red')\n",
    "plt.plot(x_array, y_array_2, color = 'orange')\n",
    "plt.plot(x_array, y_array_3, color = 'blue')\n",
    "plt.show()"
   ]
  },
  {
   "cell_type": "code",
   "execution_count": 3,
   "id": "2e7462df-3595-4750-898e-b071f2e85341",
   "metadata": {},
   "outputs": [
    {
     "name": "stdout",
     "output_type": "stream",
     "text": [
      "14992 196\n",
      " Error: 2.7815270040092988\n",
      "\n"
     ]
    }
   ],
   "source": [
    "error_min = 9999\n",
    "for x in range(14850, 15100):\n",
    "    for y in range(190, 205):\n",
    "        if y >= - 0.0253513 * x + 575.43901818 and y <= - 0.0465586 * x + 895.36378074 and y >= - 0.0642688 * x + 1158.77931776:\n",
    "            # print(str(x) + \" \" + str(y))\n",
    "            squared_error = (y - (- 0.0253513 * x + 575.43901818)) ** 2 + (y - (- 0.0465586 * x + 895.36378074)) ** 2 + (y - (- 0.0642688 * x + 1158.77931776)) ** 2\n",
    "            # print(\" Error: \" + str(squared_error) + \"\\n\")\n",
    "            if squared_error <= error_min:\n",
    "                clear_output(wait=True)\n",
    "                error_min = squared_error\n",
    "                print(str(x) + \" \" + str(y))\n",
    "                print(\" Error: \" + str(squared_error) + \"\\n\")"
   ]
  }
 ],
 "metadata": {
  "kernelspec": {
   "display_name": "bnn",
   "language": "python",
   "name": "bnn"
  },
  "language_info": {
   "codemirror_mode": {
    "name": "ipython",
    "version": 3
   },
   "file_extension": ".py",
   "mimetype": "text/x-python",
   "name": "python",
   "nbconvert_exporter": "python",
   "pygments_lexer": "ipython3",
   "version": "3.9.12"
  }
 },
 "nbformat": 4,
 "nbformat_minor": 5
}
