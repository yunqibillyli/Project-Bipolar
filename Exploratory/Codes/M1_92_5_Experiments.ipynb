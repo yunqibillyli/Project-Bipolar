{
 "cells": [
  {
   "cell_type": "code",
   "execution_count": 1,
   "id": "ca5416bd",
   "metadata": {},
   "outputs": [],
   "source": [
    "# 1 Initialization\n",
    "import numpy as np\n",
    "import scipy.integrate as integrate\n",
    "import matplotlib.pyplot as plt\n",
    "import matplotlib.colors as c\n",
    "from pylatex import Document, Section, Subsection, Tabular, Math, TikZ, Axis, \\\n",
    "    Plot, Figure, Matrix, Alignat\n",
    "from pylatex.utils import italic\n",
    "import os\n",
    "import mpmath\n",
    "import sympy as sp\n",
    "from astropy.io import fits\n",
    "from datetime import datetime\n",
    "from astropy.convolution import Gaussian2DKernel\n",
    "from astropy.convolution import convolve\n",
    "from IPython.display import clear_output"
   ]
  },
  {
   "cell_type": "code",
   "execution_count": 2,
   "id": "c4516434",
   "metadata": {},
   "outputs": [],
   "source": [
    "# 2 Important Parameters\n",
    "observingLatitudeDegrees = 40 # Observing latitude - Default : 35\n",
    "viewLength = 3e17 # Length of the display box - Default : 6e17\n",
    "distanceLY = 8000 # Distance to the lebula in light years \n",
    "resolution = 500 # Number of pixels of one side of the display - Default : 200\n",
    "distance_steps = 3000 # Number of distance steps in the optical depth center array - Default : 3000\n",
    "angle_steps = 1800 # Number of angle steps in the optical depth center array - Default : 1800\n",
    "absorptionSteps_center = 10 # Number of steps between two adjacent elements of the spherical optical depth array - Default : 10\n",
    "absorptionSteps = 5 # Number of steps between two adjacent elements in the cubical optical depth array - Default : 5\n",
    "starRadius = 7e11 # Radius of the central star, used to determine the flux arriving at earth"
   ]
  },
  {
   "cell_type": "code",
   "execution_count": 3,
   "id": "23c8eedb",
   "metadata": {},
   "outputs": [],
   "source": [
    "# 3 Nebula Shape Parameters\n",
    "# Basic shape properties of the nebula\n",
    "Rin = 1e16 # Inner cavity radius - Default : 1e16\n",
    "power = 2 # Density inverse relation to radius - Default : 2\n",
    "density_enhancement = 20 # Density enhancement factor in lobe edge - Default : 7\n",
    "ansa_density = 4 # Density enhancement factor in ansa - Default : 4\n",
    "edge_thickness = 0.12\n",
    "focus = 5e15\n",
    "directrix = -1.55e16-1.2e16\n",
    "eccentricity = 0.78\n",
    "cutoff_distance = 7e16\n",
    "outer_slope = 0.3"
   ]
  },
  {
   "cell_type": "code",
   "execution_count": 4,
   "id": "b945d95a",
   "metadata": {},
   "outputs": [],
   "source": [
    "# 4 Nebula Content Parameters\n",
    "# Mass properties of the nebula\n",
    "# Luminosity_Solar_Luminosity = 1 # Luminosity of the central star in Solar Luminosity\n",
    "# Luminosity = Luminosity_Solar_Luminosity*3.83e26 # Luminosity of the central star in Watts\n",
    "Mdot_Solar_Mass = 1e-5 # Mass loss rate of all molecules in solar masses - Default : 1e-5\n",
    "Mdot = Mdot_Solar_Mass*2e33/(365*24*60*60) # Mass loss rate of all molecules in g/seconds\n",
    "particle_radius = 1e-5 # cm - Default : 1e-5 / smaller\n",
    "wavelength = 5.83e-5 # cm - Default : 5e-5\n",
    "albedo = 0.5\n",
    "scattering_effective_crosssection = (np.pi*particle_radius**2)*2*np.pi*(particle_radius/(wavelength)) # Per grain per cm^2\n",
    "dust_to_gas = 1/200 # Dust to gas ratio - Default : 1/200\n",
    "grain_mass = 1.3e-14 # Mass of the individual grain in grams - Default : 1.3e-14\n",
    "asymmetry_constant = 0.5 # The scattering asymmetry constant - Default : 0.5"
   ]
  },
  {
   "cell_type": "code",
   "execution_count": 5,
   "id": "6c2acad0",
   "metadata": {},
   "outputs": [],
   "source": [
    "# 5 Pre-compute Important Numbers\n",
    "observingLatitude = np.pi*(observingLatitudeDegrees/180) # The latitude the observer is currently at in radians\n",
    "sin = np.sin(observingLatitude) # precompute the trigs of the observer\n",
    "cos = np.cos(observingLatitude)\n",
    "viewSize = viewLength/2 # Half the size of the picture\n",
    "angularSize = viewSize/(distanceLY/2.18e-13)\n",
    "FD = focus - directrix\n",
    "center = focus + FD*eccentricity**2/(1-eccentricity**2)\n",
    "focus_2 = center - (center - focus)*(1 - edge_thickness)\n",
    "directrix_2 = center - (center - directrix)*(1 - edge_thickness)"
   ]
  },
  {
   "cell_type": "code",
   "execution_count": 6,
   "id": "f17a603c",
   "metadata": {},
   "outputs": [],
   "source": [
    "# 6 Logistic functions\n",
    "def norm(x):\n",
    "    return np.sqrt(x[0]**2+x[1]**2+x[2]**2)\n",
    "  # norm(): returns the norm of a given vector x (the vector is in the form of np.array([x,y,z]))\n",
    "\n",
    "def vector_angle(v1,v2):\n",
    "    norm1 = norm(v1)\n",
    "    norm2 = norm(v2)\n",
    "    if norm1==0 or norm2==0:\n",
    "        return 0\n",
    "    else:\n",
    "        factor = np.dot(v1,v2)/(norm1*norm2)\n",
    "        if factor > 1:\n",
    "            return 0\n",
    "        elif factor < -1:\n",
    "            return np.pi\n",
    "        else:\n",
    "            return np.arccos(factor)\n",
    "    # vector_angle(): returns the angle between two cartesian vectors\n",
    "\n",
    "def spherical_to_cartesian(r):\n",
    "    sin_cur=np.sin(r[1])\n",
    "    return np.array([r[0]*sin_cur*np.cos(r[2]),r[0]*sin_cur*np.sin(r[2]),r[0]*np.cos(r[1])])\n",
    "  # spherical_to_cartesian(): returns the cartesian representation of the given spherical vector r\n",
    "  # the cartesian vector x is defined in the refernce frame of nebula, not the observer\n",
    "\n",
    "def cartesian_to_spherical(x):\n",
    "    norm = np.sqrt(x[0]**2+x[1]**2+x[2]**2) # pre compute the norm of the vector\n",
    "    if norm==0:\n",
    "        return np.array([0,0,0])\n",
    "    elif x[0]==0:\n",
    "        return np.array([norm,np.arccos(x[2]/norm),np.pi/2])\n",
    "    else:\n",
    "        return np.array([norm,np.arccos(x[2]/norm),np.arctan(x[1]/x[0])])\n",
    "    # cartesian_to_spherical(): returns the spherical representation of the cartesian vector x\n",
    "    # the cartesian vector x is defined in the reference frame of nebula, not the observer"
   ]
  },
  {
   "cell_type": "code",
   "execution_count": 7,
   "id": "9be3b999",
   "metadata": {},
   "outputs": [],
   "source": [
    "# 7 Scattering Phase Function\n",
    "def phase_function(angle): # Henyey-Greenstein\n",
    "    return 1/(4*np.pi)*(1 - asymmetry_constant**2)/((1 + asymmetry_constant**2 - 2*asymmetry_constant*np.cos(angle))**(3/2))"
   ]
  },
  {
   "cell_type": "code",
   "execution_count": 8,
   "id": "483e8b46",
   "metadata": {},
   "outputs": [],
   "source": [
    "x, y = sp.symbols('x y')\n",
    "eq1 = sp.Eq(((cutoff_distance**2+focus**2-2*cutoff_distance*focus*(x/cutoff_distance))**(1/2)/(cutoff_distance*(x/cutoff_distance) - directrix)) - eccentricity, 0)\n",
    "eq2 = sp.Eq(x**2 + y**2 - cutoff_distance**2, 0)\n",
    "sol = sp.solve((eq1, eq2),(x, y))\n",
    "x_cut = np.abs(sol[1][0])\n",
    "y_cut = np.abs(sol[1][1])\n",
    "\n",
    "x, y = sp.symbols('x y')\n",
    "eq1 = sp.Eq(((cutoff_distance**2+focus_2**2-2*cutoff_distance*focus_2*(x/cutoff_distance))**(1/2)/(cutoff_distance*(x/cutoff_distance) - directrix_2)) - eccentricity, 0)\n",
    "eq2 = sp.Eq(x**2 + y**2 - cutoff_distance**2, 0)\n",
    "sol = sp.solve((eq1, eq2),(x, y))\n",
    "x_cut_2 = np.abs(sol[1][0])\n",
    "y_cut_2 = np.abs(sol[1][1])\n",
    "\n",
    "y_intercept = y_cut + outer_slope * x_cut\n",
    "y_intercept_2 = y_cut_2 + outer_slope * x_cut_2"
   ]
  },
  {
   "cell_type": "code",
   "execution_count": 9,
   "id": "a2d33f11",
   "metadata": {},
   "outputs": [],
   "source": [
    "# 8 Detailed Shape of the Nebula\n",
    "def lobe(sin_lat, distance): #both must be positive absolute values\n",
    "    if distance < cutoff_distance:\n",
    "        pf = np.sqrt(distance ** 2 + focus ** 2 - 2 * distance * focus * sin_lat) # law of cosines\n",
    "        pd = distance * sin_lat - directrix\n",
    "        if np.abs(pf / pd) < eccentricity:\n",
    "            pf_2 = np.sqrt(distance ** 2 + focus_2 ** 2 - 2 * distance * focus_2 * sin_lat) # law of cosines\n",
    "            pd_2 = distance * sin_lat - directrix_2\n",
    "            if np.abs(pf_2 / pd_2) < eccentricity:\n",
    "                return 1\n",
    "            return 2\n",
    "        else:\n",
    "            return 0\n",
    "    else:\n",
    "        x = distance * sin_lat\n",
    "        y = distance * (1 - sin_lat ** 2) ** (1 / 2)\n",
    "        if y <= y_intercept - x * outer_slope:\n",
    "            if y <= y_intercept_2 - x * outer_slope:\n",
    "                return 1\n",
    "            return 2\n",
    "        \n",
    "def ansa(sin_lat, distance):\n",
    "    pf_ansa = np.sqrt(distance ** 2 + 7.5e16 ** 2 - 2 * distance * 7.5e16 * sin_lat) # law of cosines\n",
    "    pd_ansa = distance * sin_lat - 6e16\n",
    "    if np.abs(pf_ansa / pd_ansa) < 0.5:\n",
    "        return 1\n",
    "    else:\n",
    "        return 0\n",
    "\n",
    "def density(latitude, distance):\n",
    "    if distance < Rin / 2:\n",
    "        return 0\n",
    "    sin_lat = np.abs(np.sin(latitude))\n",
    "    lat = np.abs(latitude / np.pi * 2)\n",
    "    if lobe(sin_lat, distance) == 1:\n",
    "        if ansa(sin_lat, distance) == 1:\n",
    "            velocity = 5e6\n",
    "            dr_cur = 1e16\n",
    "            R_cur = 1e17\n",
    "        else:\n",
    "            velocity = 2e7\n",
    "            dr_cur = 1.05e16 # sharpness of the cutoff/cutoff length, unit in cm\n",
    "            if lat >= 85 / 90:\n",
    "                R_cur = 1e17 # 1.87e+17 # cutoff radius, unit in cm\n",
    "            else:\n",
    "                R_cur = 1.6e17 # 1.87e+17 # cutoff radius, unit in cm\n",
    "    elif lobe(sin_lat, distance) == 2:\n",
    "        velocity = 2e7 / density_enhancement\n",
    "        dr_cur = 1.05e16 # sharpness of the cutoff/cutoff length, unit in cm\n",
    "        if lat >= 85 / 90:\n",
    "            velocity = 2e7\n",
    "            R_cur = 1e17 # 1.87e17 # cutoff radius, unit in cm\n",
    "        else:\n",
    "            R_cur = 1.87e17 # cutoff radius, unit in cm\n",
    "    else: # Disk\n",
    "        velocity = 5e5 + 1e6 * np.abs(sin_lat)**2\n",
    "        dr_cur = 3e15\n",
    "        R_cur = 6e16\n",
    "        \n",
    "    cutoff_outer = 0.5 * (1 - np.tanh((distance -  R_cur) / dr_cur)) + 0.005\n",
    "    cutoff_inner = 0.5 * (1 - np.tanh((Rin - distance) / (Rin / 10)))\n",
    "    \n",
    "    return (dust_to_gas * Mdot / grain_mass) * (cutoff_outer * cutoff_inner) / (4 * np.pi * (distance ** power) * velocity)\n",
    "def density_cartesian(x):\n",
    "    spherical = cartesian_to_spherical(x) # x in spherical coordinates\n",
    "    return density(np.pi / 2 - spherical[1], spherical[0])"
   ]
  },
  {
   "cell_type": "code",
   "execution_count": 10,
   "id": "eccbbbdf",
   "metadata": {},
   "outputs": [],
   "source": [
    "# 9 Density Display Function\n",
    "@np.vectorize\n",
    "def density_map(x, y):\n",
    "    return density_cartesian(np.array([0, y, -x])) ** (1 / float(5))\n",
    "# Density display, density scales by the power of 1/5"
   ]
  },
  {
   "cell_type": "code",
   "execution_count": 11,
   "id": "8112e970",
   "metadata": {},
   "outputs": [
    {
     "name": "stderr",
     "output_type": "stream",
     "text": [
      "<ipython-input-9-e25a53b352b4>:25: RuntimeWarning: divide by zero encountered in double_scalars\n",
      "  if np.abs(pf_ansa / pd_ansa) < 0.5:\n"
     ]
    },
    {
     "data": {
      "image/png": "[encoded data removed]",
      "text/plain": [
       "<Figure size 432x288 with 1 Axes>"
      ]
     },
     "metadata": {
      "needs_background": "light"
     },
     "output_type": "display_data"
    }
   ],
   "source": [
    "# 10 Density Display\n",
    "side = np.linspace(-viewSize, viewSize, 2 * resolution + 1)\n",
    "x, y = np.meshgrid(side, side)\n",
    "Value = density_map(x, y)\n",
    "plt.xlabel(\"Length (cm)\")\n",
    "plt.ylabel(\"Height (cm)\")\n",
    "plt.title(\"Density Distribution\")\n",
    "plt.pcolormesh(x, y, Value, cmap = 'afmhot', shading = 'auto')\n",
    "plt.gca().set_aspect('equal')"
   ]
  },
  {
   "cell_type": "markdown",
   "id": "3c4413f1",
   "metadata": {},
   "source": [
    "total_mass = 0.0\n",
    "x = -viewSize\n",
    "y = -viewSize\n",
    "z = -viewSize\n",
    "while x <= viewSize:\n",
    "    y = -viewSize\n",
    "    while y <= viewSize:\n",
    "        z = -viewSize\n",
    "        while z <= viewSize:\n",
    "            total_mass = total_mass + density_cartesian(np.array([x,y,z]))\n",
    "            z += 1e16\n",
    "        y += 1e16\n",
    "    x += 1e16\n",
    "total_mass = total_mass*48*1e48*grain_mass\n",
    "print(total_mass)"
   ]
  },
  {
   "cell_type": "code",
   "execution_count": 12,
   "id": "a35bacfa",
   "metadata": {},
   "outputs": [],
   "source": [
    "# 11 Array Coordinate - Skyplane Coordinate Translations\n",
    "def coord_to_index(x,y): \n",
    "    # coord_to_index(): Returns the array index i given the skyplane coordinates x,y in cm \n",
    "    return int(int(((x/viewSize)+1)*(resolution/2))+int((y/viewSize)*(resolution/2))*(resolution+1))\n",
    "def index_to_x(i):\n",
    "    # index_to_x(): Returns the skyplane coordinate x given the array index i\n",
    "    return (int(i%(resolution+1))/(resolution/2)-1)*viewSize\n",
    "def index_to_y(i):\n",
    "    # index_to_y(): Returns the skyplane coordinate y given the array index i\n",
    "    return (int(i/(resolution+1))/(resolution/2))*viewSize"
   ]
  },
  {
   "cell_type": "code",
   "execution_count": 13,
   "id": "8099f5bd",
   "metadata": {},
   "outputs": [],
   "source": [
    "# 12 Define Spherical Optical Depth Integration Function\n",
    "def optical_depth_center_progression(latitude,distance):\n",
    "    # optical_depth_center_progression(): Optical depth between two close points\n",
    "    sum = 0 # total\n",
    "    i = 0 # iterator\n",
    "    while i < 1:\n",
    "        add = density(latitude,distance+i*(viewSize/(distance_steps*absorptionSteps_center)))\n",
    "        sum += add # add the non constant density\n",
    "        i += 1/absorptionSteps_center\n",
    "    sum = scattering_effective_crosssection*sum*(2*viewSize/(distance_steps*absorptionSteps_center)) # now multiply the constants of the integrand\n",
    "    return sum/albedo # return the result"
   ]
  },
  {
   "cell_type": "code",
   "execution_count": 14,
   "id": "9393a04c",
   "metadata": {},
   "outputs": [],
   "source": [
    "def optical_depth_center_real(latitude,distance):\n",
    "    # optical_depth_center_progression(): Optical depth between two close points\n",
    "    sum = 0 # total\n",
    "    i = 1 # iterator\n",
    "    while i <= 300:\n",
    "        add = density(latitude,i*(distance/300))\n",
    "        sum += add # add the non constant density\n",
    "        i += 1\n",
    "    sum = scattering_effective_crosssection*sum/300*distance # now multiply the constants of the integrand\n",
    "    return sum/albedo # return the result"
   ]
  },
  {
   "cell_type": "code",
   "execution_count": 15,
   "id": "b35262b1",
   "metadata": {},
   "outputs": [],
   "source": [
    "# 13 Spherical Optical Depth Array\n",
    "# Define the spherical optical depth array\n",
    "# i from 0 to distance_steps, represents distance from 0 to 2*viewSize\n",
    "# j from 0 to pi/2, represents the latitude\n",
    "i, j = distance_steps+1, angle_steps+1\n",
    "optical_depth_center_array = [[0 for x in range(i)] for y in range(j)]"
   ]
  },
  {
   "cell_type": "code",
   "execution_count": 16,
   "id": "e60fb644",
   "metadata": {},
   "outputs": [],
   "source": [
    "# 14 Computing The Spherical Optical Depth Array\n",
    "for i in range(0,angle_steps):\n",
    "    for j in range(0,distance_steps):\n",
    "        # For each angle, accumulatively compute the optical depth\n",
    "        add = optical_depth_center_progression(i*np.pi/(2*angle_steps),j*(2*viewSize/distance_steps))\n",
    "        optical_depth_center_array[i][j] = optical_depth_center_array[i][j-1] + add"
   ]
  },
  {
   "cell_type": "code",
   "execution_count": 17,
   "id": "241fe50e",
   "metadata": {},
   "outputs": [],
   "source": [
    "import csv\n",
    "np.savetxt(\"Arrays/odc.csv\", optical_depth_center_array, delimiter=\",\")"
   ]
  },
  {
   "cell_type": "code",
   "execution_count": 18,
   "id": "3d76abb4",
   "metadata": {},
   "outputs": [],
   "source": [
    "# 15 Define Cubical Optical Depth Integration Function\n",
    "n = 2*viewSize/resolution\n",
    "def optical_depth_progression(x1,x2):\n",
    "    # optical_depth_progression(): Optical depth between two close points\n",
    "    sum = 0 # total\n",
    "    i = 0 # iterator\n",
    "    while i < 1:\n",
    "        add = density_cartesian(x1+i*(x2-x1))\n",
    "        sum += add # add the non constant density\n",
    "        i += 1/absorptionSteps\n",
    "    sum = scattering_effective_crosssection*sum*n/absorptionSteps # now multiply the constants of the integrand\n",
    "    return sum/albedo # return the result"
   ]
  },
  {
   "cell_type": "code",
   "execution_count": 19,
   "id": "cf35d202",
   "metadata": {},
   "outputs": [],
   "source": [
    "# 16 Cubical Optical Depth Array\n",
    "# Define the cubical optical depth array\n",
    "# j is the depth, \"0\" is the closest to the viewplane, \"resolution\" isthe deepest, resolution+1 steps in total\n",
    "# i is the coordinate, is the x*(resolution+1)+y, minimum 0 (x minimum, y=0), maximum (resolution+1)*(resolution)-1 (top right corner)\n",
    "# here x and y are pixel coordinates, from 0 to resolution\n",
    "i, j = resolution+1, (resolution+1)*(int(resolution/2)+1)\n",
    "optical_depth_array = [[0 for x in range(i)] for y in range(j)]"
   ]
  },
  {
   "cell_type": "code",
   "execution_count": 20,
   "id": "81f0d8e4",
   "metadata": {},
   "outputs": [],
   "source": [
    "# 17 Computing The Cubical Optical Depth Array\n",
    "r = (resolution+1)*(int(resolution/2)+1)-1\n",
    "for i in range(0,r):\n",
    "    for j in range(0,resolution):\n",
    "        # For each coordinate, accumulate the optical depth along the line of sight\n",
    "        x = index_to_x(i)\n",
    "        y = index_to_y(i)\n",
    "        add = optical_depth_progression(np.array([x*sin+(((resolution/2)-j)/(resolution/2)*viewSize)*cos,y,-x*cos+(((resolution/2)-j)/(resolution/2)*viewSize)*sin]),np.array([x*sin+(((resolution/2)-(j-1))/(resolution/2)*viewSize)*cos,y,-x*cos+(((resolution/2)-(j-1))/(resolution/2)*viewSize)*sin]))\n",
    "        optical_depth_array[i][j] = optical_depth_array[i][j-1] + add"
   ]
  },
  {
   "cell_type": "code",
   "execution_count": 21,
   "id": "f2220d43",
   "metadata": {},
   "outputs": [],
   "source": [
    "np.savetxt(\"Arrays/od.csv\", optical_depth_array, delimiter=\",\")"
   ]
  },
  {
   "cell_type": "code",
   "execution_count": 22,
   "id": "fa99b503",
   "metadata": {},
   "outputs": [],
   "source": [
    "optical_depth_center_array = np.loadtxt(\"Arrays/odc.csv\",skiprows=0,delimiter = ',')\n",
    "optical_depth_array = np.loadtxt(\"Arrays/od.csv\",skiprows=0,delimiter = ',')"
   ]
  },
  {
   "cell_type": "code",
   "execution_count": 23,
   "id": "516f86ff",
   "metadata": {},
   "outputs": [],
   "source": [
    "# 18 Defining the Optical Intensity Function\n",
    "asymmetry_constant = 0.5 # This can change with each recompute, without altering the array, mainly changing front/back ratio\n",
    "scale_factor = 300 # The post-compute multiplier applied to the density/optical depth array\n",
    "@np.vectorize\n",
    "def intensity(x,y):\n",
    "    sum = 0.0\n",
    "    i = coord_to_index(x,y)\n",
    "    for j in range(0,resolution):\n",
    "        cur = np.array([float(x*sin+(((resolution/2)-j)/(resolution/2)*viewSize)*cos),float(y),float(-x*cos+(((resolution/2)-j)/(resolution/2)*viewSize)*sin)]) # current point (precise value stored in array)\n",
    "        spherical = cartesian_to_spherical(cur) # spherical of current point, to find the optical depth center\n",
    "        o_d_center = scale_factor*optical_depth_center_array[np.abs(int((angle_steps/90)*(90-(180*spherical[1]/np.pi))))][int(spherical[0]/(2*viewSize)*distance_steps)]\n",
    "        o_d = scale_factor*optical_depth_array[i][j]\n",
    "        add = (1/(4*np.pi*((spherical[0])**2)))*mpmath.exp(-o_d)*mpmath.exp(-o_d_center)*scale_factor*scattering_effective_crosssection*density(np.pi/2-spherical[1],spherical[0])*phase_function(vector_angle(np.array([cos,0,sin]),cur))*((2*angularSize*4.848e-6*distanceLY*9.461e17)/resolution)**3/(((2*angularSize*4.848e-6*distanceLY*9.461e17)/resolution/7e10)**2)\n",
    "        if x==0 and y==0 and j == resolution/2:\n",
    "            add = mpmath.exp(-scale_factor*optical_depth_array[coord_to_index(0,0)][int(j)])\n",
    "        sum += add\n",
    "    return sum"
   ]
  },
  {
   "cell_type": "markdown",
   "id": "076ed8eb",
   "metadata": {},
   "source": [
    "side = np.linspace(-viewSize,0,int(resolution/2)+1)\n",
    "sideY = np.linspace(0,0,1)\n",
    "x,y = np.meshgrid(side,sideY)\n",
    "np.seterr(divide='ignore')\n",
    "scale_factor = 65\n",
    "scale_factor_step = scale_factor/2\n",
    "while(True):\n",
    "    Value = intensity(x,y)\n",
    "    a = np.nanmax(Value[0][0:int(resolution/2)])\n",
    "    b = intensity(0,0)\n",
    "    print(b/a)\n",
    "    print(b)\n",
    "    print(a)\n",
    "    print(scale_factor)\n",
    "    if np.abs((b/a)-resolution**2/20000)<=0.1:\n",
    "        break;\n",
    "    if b/a>=resolution**2/20000:\n",
    "        scale_factor = scale_factor + scale_factor_step\n",
    "        scale_factor_step = scale_factor_step/2\n",
    "    if b/a<resolution**2/20000:\n",
    "        scale_factor = scale_factor - scale_factor_step\n",
    "        scale_factor_step = scale_factor_step/2"
   ]
  },
  {
   "cell_type": "markdown",
   "id": "2d209e75",
   "metadata": {},
   "source": [
    "side = np.linspace(-viewSize,viewSize,resolution+1)\n",
    "sideY = np.linspace(0,0,1)\n",
    "x,y = np.meshgrid(side,sideY)\n",
    "np.seterr(divide='ignore')\n",
    "asymmetry_constant = 0.5\n",
    "asymmetry_constant_step = asymmetry_constant/2\n",
    "while(True):\n",
    "    Value = intensity(x,y)\n",
    "    a = np.nanmax(Value[0][int(resolution/2)+2:resolution+1])\n",
    "    b = np.nanmax(Value[0][0:int(resolution/2)])\n",
    "    if np.abs((b/a)-10)<=1:\n",
    "        break;\n",
    "    if b/a>=10:\n",
    "        asymmetry_constant = asymmetry_constant - asymmetry_constant_step\n",
    "        asymmetry_constant_step = asymmetry_constant_step/2\n",
    "    if b/a<10:\n",
    "        asymmetry_constant = asymmetry_constant + asymmetry_constant_step\n",
    "        asymmetry_constant_step = asymmetry_constant_step/2"
   ]
  },
  {
   "cell_type": "code",
   "execution_count": 24,
   "id": "91223f2d",
   "metadata": {},
   "outputs": [],
   "source": [
    "# 19 Computing The Top Half Intensity Array\n",
    "side = np.linspace(-viewSize,viewSize,resolution+1)\n",
    "sideY = np.linspace(0,viewSize,int(resolution/2)+1)\n",
    "x,y = np.meshgrid(side,sideY)\n",
    "np.seterr(divide='ignore')\n",
    "Value = intensity(x,y) # compute half of the intensity map"
   ]
  },
  {
   "cell_type": "code",
   "execution_count": 25,
   "id": "38aa6203",
   "metadata": {},
   "outputs": [],
   "source": [
    "# 20 Generating Full Image\n",
    "@np.vectorize\n",
    "def findValue(x,y):\n",
    "    cur_x = int((x/(angularSize)+1)*resolution/2)\n",
    "    cur_y = round(y*resolution/angularSize/2)\n",
    "    if y > 0:\n",
    "        return float(Value[cur_y][cur_x])\n",
    "    elif y==0:\n",
    "        return float(Value[0][cur_x])\n",
    "    else:\n",
    "        return float(Value[-cur_y][cur_x])"
   ]
  },
  {
   "cell_type": "code",
   "execution_count": 26,
   "id": "d1b2264a",
   "metadata": {
    "scrolled": false
   },
   "outputs": [
    {
     "data": {
      "image/png": "[encoded data removed]",
      "text/plain": [
       "<Figure size 720x360 with 3 Axes>"
      ]
     },
     "metadata": {
      "needs_background": "light"
     },
     "output_type": "display_data"
    }
   ],
   "source": [
    "# 21 Plots\n",
    "side_angular = np.linspace(-angularSize,angularSize,resolution+1)\n",
    "X,Y = np.meshgrid(side_angular,side_angular)\n",
    "np.seterr(divide='ignore')\n",
    "fullValues = findValue(X,Y)\n",
    "\n",
    "f = plt.figure(figsize=(10,5))\n",
    "ax = f.add_subplot(121, aspect=1)\n",
    "\n",
    "plt.xlabel(\"Horizontal Offset (arcsec)\")\n",
    "plt.ylabel(\"Vertical Offset (arcsec)\")\n",
    "plt.title(\"Image\")\n",
    "ax.pcolormesh(X,Y,fullValues,cmap='afmhot',shading='auto')\n",
    "plt.gca().set_aspect('equal')\n",
    "# plt.annotate('*', xy=(-0.080,-0.205), color = 'green', size = 20, label = 'star')\n",
    "#ax.scatter(np.array([0]),np.array([0]),color = 'green', marker = 'x')\n",
    "# fig, ax = plt.subplots()\n",
    "# CS = ax.contour(X,Y,logFullValues)\n",
    "# plt.gca().set_aspet('equal')\n",
    "\n",
    "ax2 = f.add_subplot(122)\n",
    "x_array = np.linspace(-angularSize,angularSize,resolution+1)\n",
    "y_array = fullValues[int(resolution/2)]\n",
    "normalizedYArray = y_array/np.max(np.nan_to_num(np.array(y_array, dtype=float)))\n",
    "ax2.plot(x_array,normalizedYArray, color = 'red')\n",
    "x_pos = (1+np.min(normalizedYArray))/2\n",
    "ax2.set_ylabel(\"Linear scale normalized intensity\")\n",
    "plt.title(\"Magnitude along height = 0\")\n",
    "\n",
    "plt.annotate(\"Observing Latitude: \"+str(observingLatitudeDegrees)+\" degrees;\\nOutflow Velocity\"+r'$\\propto$'+str(power)+\"th power of distance to center;\\n\"+\"g (asymmetry constant) =\"+str(asymmetry_constant)+\";\\nScale Factor=\"+str(scale_factor)+\";\\nMdot=\"+str(Mdot_Solar_Mass)+\" \"+'$ M_{\\odot}$'+\"/year\", xy=(-angularSize,x_pos), color = 'blue')\n",
    "\n",
    "ax3=ax2.twinx()\n",
    "ax3.plot(x_array,np.nan_to_num(np.array(y_array, dtype=float)), color = 'blue', alpha = 0)\n",
    "ax3.set_ylabel(\"Absolute Intensity\")\n",
    "\n",
    "plt.show()"
   ]
  },
  {
   "cell_type": "code",
   "execution_count": 27,
   "id": "67cecbc1",
   "metadata": {},
   "outputs": [],
   "source": [
    "# 22 Saving Fits Files\n",
    "modifiedValues = fullValues*1e17\n",
    "hdul = fits.PrimaryHDU(data=modifiedValues)\n",
    "now = datetime.now()\n",
    "t_string = now.strftime(\"%m_%d_%Y_%Hh%Mm%Ss\")\n",
    "m_string = now.strftime(\"%m_%Y\")\n",
    "if os.path.exists(\"Images/\"+m_string)==False:\n",
    "    os.makedirs(\"Images/\"+m_string)\n",
    "string = \"Images/\"+m_string+\"/\"+t_string+\"_power_\"+str(power)+\"_multiplier_\"+str(scale_factor)+\"_1.fits\"\n",
    "hdul.writeto(string)"
   ]
  },
  {
   "cell_type": "code",
   "execution_count": 28,
   "id": "bb49b52d",
   "metadata": {},
   "outputs": [],
   "source": [
    "# 23 Image Convolution Kernel\n",
    "kernel = Gaussian2DKernel(x_stddev=2/500*resolution,y_stddev=2/500*resolution)\n",
    "astropy_conv = convolve(modifiedValues, kernel)"
   ]
  },
  {
   "cell_type": "code",
   "execution_count": 29,
   "id": "7e3f7431",
   "metadata": {
    "scrolled": true
   },
   "outputs": [
    {
     "data": {
      "image/png": "[encoded data removed]",
      "text/plain": [
       "<Figure size 720x360 with 3 Axes>"
      ]
     },
     "metadata": {
      "needs_background": "light"
     },
     "output_type": "display_data"
    }
   ],
   "source": [
    "# 24 Plotting the Convoluted Image\n",
    "f = plt.figure(figsize=(10,5))\n",
    "ax = f.add_subplot(121, aspect=1)\n",
    "\n",
    "plt.xlabel(\"Horizontal Offset (arcsec)\")\n",
    "plt.ylabel(\"Vertical Offset (arcsec)\")\n",
    "plt.title(\"Image\")\n",
    "ax.pcolormesh(X,Y,astropy_conv,cmap='afmhot',shading='auto')\n",
    "plt.gca().set_aspect('equal')\n",
    "# plt.annotate('*', xy=(-0.080,-0.205), color = 'green', size = 20, label = 'star')\n",
    "#ax.scatter(np.array([0]),np.array([0]),color = 'green', marker = 'x')\n",
    "# fig, ax = plt.subplots()\n",
    "# CS = ax.contour(X,Y,logFullValues)\n",
    "# plt.gca().set_aspect('equal')\n",
    "\n",
    "ax2 = f.add_subplot(122)\n",
    "x_array = np.linspace(-angularSize,angularSize,resolution+1)\n",
    "y_array = astropy_conv[int(resolution/2)]\n",
    "normalizedYArray = y_array/np.max(np.nan_to_num(np.array(y_array, dtype=float)))\n",
    "ax2.plot(x_array,normalizedYArray, color = 'red')\n",
    "x_pos = (1+np.min(normalizedYArray))/2\n",
    "ax2.set_ylabel(\"Linear scale normalized intensity\")\n",
    "plt.title(\"Magnitude along height = 0\")\n",
    "\n",
    "plt.annotate(\"Observing Latitude: \"+str(observingLatitudeDegrees)+\" degrees;\\nOutflow Velocity\"+r'$\\propto$'+str(power)+\"th power of distance to center;\\n\"+\"g (asymmetry constant) =\"+str(asymmetry_constant)+\";\\nScale Factor=\"+str(scale_factor)+\";\\nMdot=\"+str(Mdot_Solar_Mass)+\" \"+'$ M_{\\odot}$'+\"/year\", xy=(-angularSize,x_pos), color = 'blue')\n",
    "\n",
    "ax3=ax2.twinx()\n",
    "ax3.plot(x_array,np.nan_to_num(np.array(y_array, dtype=float)), color = 'blue', alpha = 0)\n",
    "ax3.set_ylabel(\"Absolute Intensity\")\n",
    "\n",
    "plt.show()"
   ]
  },
  {
   "cell_type": "code",
   "execution_count": 30,
   "id": "04a22bea",
   "metadata": {},
   "outputs": [],
   "source": [
    "# 25 Saving Convoluted Files\n",
    "hdul = fits.PrimaryHDU(data=astropy_conv)\n",
    "string = \"Images/\"+m_string+\"/\"+t_string+\"_power_\"+str(power)+\"_multiplier_\"+str(scale_factor)+\"_convolved.fits\"\n",
    "hdul.writeto(string)"
   ]
  },
  {
   "cell_type": "code",
   "execution_count": 31,
   "id": "3d61810f",
   "metadata": {},
   "outputs": [],
   "source": [
    "# END"
   ]
  }
 ],
 "metadata": {
  "kernelspec": {
   "display_name": "Python 3",
   "language": "python",
   "name": "python3"
  },
  "language_info": {
   "codemirror_mode": {
    "name": "ipython",
    "version": 3
   },
   "file_extension": ".py",
   "mimetype": "text/x-python",
   "name": "python",
   "nbconvert_exporter": "python",
   "pygments_lexer": "ipython3",
   "version": "3.8.10"
  }
 },
 "nbformat": 4,
 "nbformat_minor": 5
}
