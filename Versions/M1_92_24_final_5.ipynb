{
 "cells": [
  {
   "cell_type": "markdown",
   "id": "718a69e6",
   "metadata": {},
   "source": [
    "## Part 1. Initialization"
   ]
  },
  {
   "cell_type": "code",
   "execution_count": 1,
   "id": "ca5416bd",
   "metadata": {},
   "outputs": [],
   "source": [
    "# 1 Initialization\n",
    "import numpy as np\n",
    "import skimage\n",
    "import matplotlib.pyplot as plt\n",
    "import matplotlib.colors as c\n",
    "import os\n",
    "import mpmath\n",
    "from astropy.io import fits\n",
    "from datetime import datetime\n",
    "from astropy.convolution import Gaussian2DKernel\n",
    "from astropy.convolution import convolve\n",
    "from scipy.signal import convolve2d\n",
    "import sympy as sp\n",
    "from tqdm import tqdm\n",
    "from math import sqrt, sin, cos, acos, atan, tanh"
   ]
  },
  {
   "cell_type": "markdown",
   "id": "51a14797",
   "metadata": {},
   "source": [
    "## Part 2. Defining the Nebula"
   ]
  },
  {
   "cell_type": "code",
   "execution_count": 2,
   "id": "c4516434",
   "metadata": {},
   "outputs": [],
   "source": [
    "# 2 Important Parameters\n",
    "observing_latitude_degrees = 35 # degrees, Observing latitude - Default : 25\n",
    "view_length = 6e17 # cm, Length of the display box - Default : 6e17\n",
    "distance_ly = 8000 # ly, Distance to the lebula - Default : 8000\n",
    "resolution = 500 # Number of pixels of one side of the display - Default : 200\n",
    "pixel_size = 0.1013 / 2.196257815841434 # Arcseconds\n",
    "distance_steps = 3000 # Number of distance steps in the optical depth center array - Default : 3000\n",
    "angle_steps = 1800 # Number of angle steps in the optical depth center array - Default : 1800\n",
    "absorption_steps_center = 1 # Number of steps between two adjacent elements of the spherical optical depth array - Default : 10\n",
    "absorption_steps = 5 # Number of steps between two adjacent elements in the cubical optical depth array - Default : 5"
   ]
  },
  {
   "cell_type": "code",
   "execution_count": 3,
   "id": "23c8eedb",
   "metadata": {},
   "outputs": [],
   "source": [
    "# 3 Nebula Shape Parameters\n",
    "rin = 2e16 # cm, Inner cavity radius - Default : 1e16\n",
    "density_enhancement = 10 # Density enhancement factor in the lobe walls - Default : 7\n",
    "edge_thickness = 0.2 # The thickness factor of the edge relative to the size of the lobe - Default : 0.12\n",
    "eccentricity = 0.83 # Eccentricity of the conic shaped lobe - Default : 0.85\n",
    "focus_shift = view_length * 0.000 # Coordinate of the conic section edge - Default : 0\n",
    "focus_shift_2 = view_length * 0.01  # Coordinate of the inner conic section edge - Default : 0\n",
    "focus = view_length * 0.028 - focus_shift # cm, Location of the focus of the conic shaped lobe - Default : -view_length / 100\n",
    "directrix = -(focus + focus_shift) / eccentricity - focus_shift # cm, Location of the directrix of the conic shaped lobe - Default : -view_length / 10.9ansa_eccentricity = 0.55 # Eccentricity of the ansa - Default : 0.85\n",
    "ansa_eccentricity = 0.55 # Eccentricity of the ansa - Default : 0.85\n",
    "ansa_focus_shift = -view_length * 0.145 # Location of the base of the ansa - Default : -view_length * 0.11\n",
    "ansa_focus = view_length * 0.01 - ansa_focus_shift # cm, Location of the ansa focus - Default : view_length / 4\n",
    "ansa_directrix = -(ansa_focus + ansa_focus_shift) / ansa_eccentricity - ansa_focus_shift # cm, Location of the ansa directrix - Default : view_length / 4\n",
    "cutoff_distance = view_length * 0.14 # cm, Cutoff from the conic region to the linear region in the lobes\n",
    "slope = 0.145 # dimensionless, Slope of the linear region boundary"
   ]
  },
  {
   "cell_type": "code",
   "execution_count": 4,
   "id": "b945d95a",
   "metadata": {
    "tags": []
   },
   "outputs": [],
   "source": [
    "# 4 Nebula Content Parameters\n",
    "pi = 3.1415926 # Pi\n",
    "mdot_solar_masses = 8e-5 # solar masses, Mass loss rate of all molecules - Default : 1e-5\n",
    "mdot = mdot_solar_masses * 2e33 / (365 * 24 * 60 * 60) # g / seconds, Mass loss rate of all molecules\n",
    "mdot_lat_dependence = 2 # Mass loss rate doubles in the plane, and accordingly quarters in the axis\n",
    "particle_radius = 1e-5 # cm, Radius of the dust particles - Default : 1e-5 / smaller\n",
    "wavelength = 5.47e-5 # cm, Wavelength used by the observing telescope - Default : 5e-5\n",
    "albedo = 0.6 # Albedo of the dust particles\n",
    "scattering_effective_crosssection = (pi * particle_radius ** 2) * 2 * pi * (particle_radius / (wavelength)) # Per grain per cm^2, Effective scattering cross section of the particles\n",
    "dust_to_gas = 1 / 200 # Dust to gas ratio - Default : 1 / 200\n",
    "grain_mass = 1.3e-14 # grams, Mass of the individual grain - Default : 1.3e-14\n",
    "asymmetry_constant = 0.5 # The scattering asymmetry constant (overwritten in block # 20) - Default : 0.5"
   ]
  },
  {
   "cell_type": "code",
   "execution_count": 5,
   "id": "6c2acad0",
   "metadata": {},
   "outputs": [],
   "source": [
    "# 5 Pre-compute Important Numbers\n",
    "observing_latitude = pi * (observing_latitude_degrees / 180) # radians, Observing latitude \n",
    "sin_obs_lat = sin(observing_latitude) # precompute the trigs of the observer\n",
    "cos_obs_lat = cos(observing_latitude)\n",
    "view_size = view_length / 2 # cm, Half the size of the picture\n",
    "angular_size = view_size / (distance_ly / 2.18e-13) # arcseconds, Size of the nebula in angular units\n",
    "FD = focus - directrix\n",
    "center = focus + FD * eccentricity ** 2 / (1 - eccentricity ** 2)\n",
    "focus_2 = center - (center - focus) * (1 - 0.01) - (focus + focus_shift) * 0.01 / (1 - eccentricity) + focus_shift - focus_shift_2\n",
    "directrix_2 = center - (center - directrix) * (1 - 0.01) - (focus + focus_shift) * 0.01 / (1 - eccentricity) + focus_shift - focus_shift_2\n",
    "density_factor = dust_to_gas * mdot / grain_mass # Pre-compute an important combined factor\n",
    "real_resolution = int(angular_size * 2 / pixel_size)"
   ]
  },
  {
   "cell_type": "code",
   "execution_count": 6,
   "id": "f17a603c",
   "metadata": {},
   "outputs": [],
   "source": [
    "# 6 Logistic functions\n",
    "def norm(x):\n",
    "    return sqrt(x[0] * x[0] + x[1] * x[1] + x[2] * x[2])\n",
    "  # norm(): returns the norm of a given vector x (the vector is in the form of np.array([x, y, z]))\n",
    "\n",
    "def vector_angle(v1, v2):\n",
    "    norm1 = norm(v1)\n",
    "    norm2 = norm(v2)\n",
    "    if norm1 == 0 or norm2 == 0:\n",
    "        return 0\n",
    "    else:\n",
    "        factor = np.dot(v1, v2) / (norm1 * norm2)\n",
    "        if factor > 1:\n",
    "            return 0\n",
    "        elif factor < -1:\n",
    "            return pi\n",
    "        else:\n",
    "            return acos(factor)\n",
    "    # vector_angle(): returns the angle between two cartesian vectors\n",
    "\n",
    "def spherical_to_cartesian(r):\n",
    "    sin_cur = sin(r[1])\n",
    "    return np.array([r[0] * sin_cur * cos(r[2]), r[0] * sin_cur * sin(r[2]), r[0] * cos(r[1])])\n",
    "  # spherical_to_cartesian(): returns the cartesian representation of the given spherical vector r\n",
    "  # the cartesian vector x is defined in the refernce frame of nebula, not the observer\n",
    "\n",
    "def cartesian_to_spherical(x):\n",
    "    norm = sqrt(x[0] * x[0] + x[1] * x[1] + x[2] * x[2]) # pre compute the norm of the vector\n",
    "    if norm == 0:\n",
    "        return np.array([0, 0, 0])\n",
    "    elif x[0] == 0:\n",
    "        return np.array([norm, acos(x[2] / norm), pi / 2])\n",
    "    else:\n",
    "        return np.array([norm, acos(x[2] / norm), atan(x[1] / x[0])])\n",
    "    # cartesian_to_spherical(): returns the spherical representation of the cartesian vector x\n",
    "    # the cartesian vector x is defined in the reference frame of nebula, not the observer"
   ]
  },
  {
   "cell_type": "code",
   "execution_count": 7,
   "id": "9be3b999",
   "metadata": {},
   "outputs": [],
   "source": [
    "# 7 Scattering Phase Function\n",
    "def phase_function(angle): # Henyey-Greenstein\n",
    "    return 1 / (4 * pi) * (1 - asymmetry_constant * asymmetry_constant) / ((1 + asymmetry_constant * asymmetry_constant - 2 * asymmetry_constant * cos(angle)) ** (3 / 2))"
   ]
  },
  {
   "cell_type": "code",
   "execution_count": 8,
   "id": "a2d33f11",
   "metadata": {},
   "outputs": [],
   "source": [
    "# 8 Detailed Shape of the Nebula\n",
    "x, y = sp.symbols('x y')\n",
    "eq1 = sp.Eq(((cutoff_distance ** 2 + focus ** 2 - 2 * x * focus) ** (1 / 2) / (x - directrix)) - eccentricity, 0) # Outer conic section formula\n",
    "eq2 = sp.Eq(x ** 2 + y ** 2 - cutoff_distance ** 2, 0) # The point distance to the center has to be equal to cutoff_distance\n",
    "sol = sp.solve((eq1, eq2), (x, y)) # Find the point that satisfies both\n",
    "x_cut = abs(sol[1][0]) # x coordinate of the point\n",
    "y_cut = abs(sol[1][1]) # y coordinate of the point\n",
    "\n",
    "x, y = sp.symbols('x y')\n",
    "eq1 = sp.Eq(((cutoff_distance ** 2 + focus_2 ** 2 - 2 * x * focus_2) ** (1 / 2) / (x - directrix_2)) - eccentricity, 0) # Inner conic section formula\n",
    "eq2 = sp.Eq(x ** 2 + y ** 2 - cutoff_distance ** 2, 0) # The point distance to the center has to be equal to cutoff_distance\n",
    "sol = sp.solve((eq1, eq2), (x, y)) # Find the point that satisfies both\n",
    "x_cut_2 = abs(sol[1][0]) # x coordinate of the point\n",
    "y_cut_2 = abs(sol[1][1]) # y coordinate of the point\n",
    "\n",
    "y_intercept = y_cut + slope * x_cut # Calculates the y-intercept of the outer linear boundary\n",
    "y_intercept_2 = y_intercept * (1 - edge_thickness) # y_cut_2 + slope * x_cut_2 # Calculates the y-intercept of the inner linear boundary\n",
    "\n",
    "def lobe(x):\n",
    "    x = abs(x)\n",
    "    y_2_squared = (eccentricity * (x - directrix_2)) * (eccentricity * (x - directrix_2)) - x * x - focus_2 * focus_2 + 2 * x * focus_2\n",
    "    y_2 = sqrt(y_2_squared * (y_2_squared >= 0))\n",
    "    y_squared = (eccentricity * (x - directrix)) * (eccentricity * (x - directrix)) - x * x - focus * focus + 2 * x * focus\n",
    "    y = sqrt(y_squared * (y_squared >= 0))\n",
    "    y_2_alt = y_intercept_2 - x * slope * (1 - edge_thickness)\n",
    "    y_alt = y_intercept - x * slope\n",
    "    if x > cutoff_distance: \n",
    "        return y_2_alt, y_alt\n",
    "    return min([y_2, y_2_alt]), min([y, y_alt])\n",
    "\n",
    "def ansa(x):\n",
    "    \n",
    "    x = abs(x)\n",
    "    y_squared = (ansa_eccentricity * (x - ansa_directrix)) * (ansa_eccentricity * (x - ansa_directrix)) - x * x - ansa_focus * ansa_focus + 2 * x * ansa_focus\n",
    "    \n",
    "    return sqrt(y_squared * (y_squared >= 0))\n",
    "\n",
    "def find_density(x, y, latitude, distance):\n",
    "    \n",
    "    if abs(latitude) >= 85 / 180 * pi and distance > 3e17:\n",
    "        \n",
    "        velocity = 7.5e7 # cm/s - Default : 2e7\n",
    "        \n",
    "        return (dust_to_gas * mdot / grain_mass) / (4 * pi * (distance * distance) * velocity)\n",
    "    \n",
    "    elif distance >= 2.5e17:\n",
    "        \n",
    "        return 0\n",
    "    \n",
    "    sin_lat = abs(x / distance)\n",
    "    sin_lat_squared = sin_lat * sin_lat\n",
    "    cos_lat_squared = 1 - sin_lat_squared\n",
    "    \n",
    "    mdot_factor = mdot_lat_dependence / np.sqrt((1 / (mdot_lat_dependence * mdot_lat_dependence)) * cos_lat_squared + (mdot_lat_dependence * mdot_lat_dependence * mdot_lat_dependence * mdot_lat_dependence) * sin_lat_squared)\n",
    "    \n",
    "    if y <= ansa(x):\n",
    "        \n",
    "        velocity = 1.5e7 # cm/s - Default : 5e5\n",
    "        \n",
    "        return mdot_factor * density_factor / (4 * pi * 1e34 * velocity)\n",
    "    \n",
    "    y_low, y_high = lobe(x)\n",
    "    \n",
    "    if distance < rin * 2: \n",
    "        \n",
    "        cutoff_inner = 0.5 * (1 - tanh((rin - distance) / (rin / 10)))\n",
    "        \n",
    "    else: \n",
    "        \n",
    "        cutoff_inner = 1\n",
    "    \n",
    "    if y <= y_high: \n",
    "        \n",
    "        cutoff_outer = 0.5 * (1 - tanh((distance - 2.1e17) / 1e16))\n",
    "        \n",
    "        if y <= y_low: \n",
    "            \n",
    "            velocity = 5e7 # cm/s - Default : 7.5e7\n",
    "            \n",
    "            area = pi * y_low * y_low\n",
    "            \n",
    "            return cutoff_outer * cutoff_inner * mdot_factor * density_factor / (16 * area * velocity)\n",
    "        \n",
    "        velocity = 2e7 / density_enhancement / (distance / 1e17) ** 3 # cm/s - Default : 2e7\n",
    "        \n",
    "        return cutoff_outer * mdot_factor * density_factor / (4 * pi * (distance * distance) * velocity)\n",
    "    \n",
    "    else: \n",
    "        \n",
    "        R_cur_disk = 8e16 # cm, cutoff radius - Default : 1.1e17\n",
    "        R_cur_low = 8e16 # cm, cutoff radius - Default : 1.1e17\n",
    "        R_cur_high = 2e17\n",
    "        R_cur = R_cur_high * R_cur_low / sqrt(R_cur_low ** 2 * sin_lat_squared + R_cur_high ** 2 * (1 - sin_lat_squared))\n",
    "        R_cur = max([R_cur, R_cur_disk])\n",
    "        dr_cur = 2e15 * (1 + 10 * cos_lat_squared) # cm, sharpness of cutoff - Default : 1.2e16\n",
    "        if False: # distance >= R_cur_high + 5 * dr_cur:\n",
    "            return 0\n",
    "        else: \n",
    "            velocity = 5e5 # cm/s\n",
    "            # velocity_high = 5e5 # cm/s, Highest possible outflow velocity in the disk - Default : 6e6\n",
    "            # velocity_low = 5e5 # cm/s, Lowest possible outflow velocity in the disk - Default : 3e6\n",
    "            # velocity = velocity_high * velocity_low / sqrt(velocity_low ** 2 * sin_lat_squared + velocity_high ** 2 * (1 - sin_lat_squared)) # cm/s\n",
    "\n",
    "    cutoff_outer = 0.5 * (1 - tanh((distance - R_cur) / dr_cur))\n",
    "    \n",
    "    return mdot_factor * (dust_to_gas * mdot / grain_mass) * (cutoff_outer * cutoff_inner) / (4 * pi * (distance * distance) * velocity)\n",
    "\n",
    "def density_cartesian(r):\n",
    "    \n",
    "    spherical = cartesian_to_spherical(r)\n",
    "    latitude, distance = pi / 2 - spherical[1], spherical[0]\n",
    "    \n",
    "    if distance < rin / 2:\n",
    "        return 0\n",
    "    \n",
    "    y = sqrt(r[0] * r[0] + r[1] * r[1])\n",
    "    x = r[2] # Along the sky plane the symmetric axis is the horizontal x-axis, but in the 3D distribution it's the z-axis\n",
    "    \n",
    "    return find_density(x, y, latitude, distance)\n",
    "\n",
    "def density(latitude, distance):\n",
    "    \n",
    "    if distance < rin / 2:\n",
    "        return 0\n",
    "    \n",
    "    x = distance * sin(latitude)\n",
    "    y = sqrt(distance * distance - x * x)\n",
    "    \n",
    "    return find_density(x, y, latitude, distance)"
   ]
  },
  {
   "cell_type": "code",
   "execution_count": 9,
   "id": "eccbbbdf",
   "metadata": {},
   "outputs": [],
   "source": [
    "# 9 Density Display Function\n",
    "@np.vectorize\n",
    "def density_map(x, y):\n",
    "    return float(density_cartesian(np.array([0, y, -x]))) ** float(1 / 5)\n",
    "# Density display\n",
    "\n",
    "# Computing the density map\n",
    "side = np.linspace(-view_size, view_size, resolution + 1)\n",
    "x,y = np.meshgrid(side, side)\n",
    "Value = density_map(x, y)\n",
    "min_nonzero = np.min(Value[Value != 0])\n",
    "Value[Value == 0] = min_nonzero"
   ]
  },
  {
   "cell_type": "code",
   "execution_count": 10,
   "id": "8112e970",
   "metadata": {
    "tags": []
   },
   "outputs": [
    {
     "data": {
      "image/png": "[encoded data removed]",
      "text/plain": [
       "<Figure size 432x288 with 1 Axes>"
      ]
     },
     "metadata": {
      "needs_background": "light"
     },
     "output_type": "display_data"
    }
   ],
   "source": [
    "# 10 Density Display\n",
    "plt.title(\"Density Distribution Cross Section\")\n",
    "plt.pcolormesh(x, y, Value, cmap = 'afmhot')\n",
    "# plt.pcolormesh(x, y, Value, cmap = 'afmhot', norm = c.LogNorm(vmin = Value.max() / 1000000))\n",
    "plt.annotate(\"Axis of Symmetry\", xy = (view_length / 20, -view_length / 8), color = 'red')\n",
    "plt.axhline(y = 0, color = 'red', linestyle = '-')\n",
    "plt.annotate(\"Central Star\", xy = (-view_length / 20, view_length / 8), color = 'blue')\n",
    "plt.plot([0], [0], marker = \"x\", markersize = 20, color = \"blue\")\n",
    "plt.gca().set_aspect('equal')\n",
    "plt.xlabel(\"distance (cm)\")\n",
    "plt.ylabel(\"distance (cm)\")\n",
    "# plt.axis('on')\n",
    "plt.show()"
   ]
  },
  {
   "cell_type": "markdown",
   "id": "5c855f8e",
   "metadata": {},
   "source": [
    "## Part 3. Computing The Optical Depth Arrays"
   ]
  },
  {
   "cell_type": "code",
   "execution_count": 11,
   "id": "a35bacfa",
   "metadata": {},
   "outputs": [],
   "source": [
    "# 11 Array Coordinate - Skyplane Coordinate Translations\n",
    "def coord_to_index(x, y): \n",
    "    # coord_to_index(): Returns the array index i given the skyplane coordinates x, y in cm \n",
    "    return int(int(((x / view_size) + 1) * (resolution / 2)) + int((y / view_size) * (resolution / 2)) * (resolution + 1))\n",
    "def index_to_x(i):\n",
    "    # index_to_x(): Returns the skyplane coordinate x given the array index i\n",
    "    return (int(i % (resolution + 1)) / (resolution / 2) - 1) * view_size\n",
    "def index_to_y(i):\n",
    "    # index_to_y(): Returns the skyplane coordinate y given the array index i\n",
    "    return (int(i / (resolution + 1)) / (resolution / 2)) * view_size"
   ]
  },
  {
   "cell_type": "code",
   "execution_count": 12,
   "id": "8099f5bd",
   "metadata": {},
   "outputs": [],
   "source": [
    "# 12 Define Spherical Optical Depth Integration Function\n",
    "def optical_depth_center_progression(latitude, distance):\n",
    "    # optical_depth_center_progression(): Optical depth between two close points\n",
    "    sum = 0 # total\n",
    "    i = 0 # iterator\n",
    "    while i < 1:\n",
    "        add = density(latitude, distance + i * (view_size / (distance_steps * absorption_steps_center)))\n",
    "        sum += add # add the non constant density\n",
    "        i += 1 / absorption_steps_center\n",
    "    sum = scattering_effective_crosssection * sum * (2 * view_size / (distance_steps * absorption_steps_center))\n",
    "    # now multiply the constants of the integrand\n",
    "    return sum / albedo # divide the albedo for the total extinction crosssection"
   ]
  },
  {
   "cell_type": "code",
   "execution_count": 13,
   "id": "b35262b1",
   "metadata": {},
   "outputs": [],
   "source": [
    "# 13 Spherical Optical Depth Array\n",
    "# Define the spherical optical depth array\n",
    "# i from 0 to distance_steps, represents distance from 0 to 2*view_size\n",
    "# j from 0 to pi/2, represents the latitude\n",
    "i, j = distance_steps + 1, angle_steps + 1\n",
    "optical_depth_center_array = [[0 for x in range(i)] for y in range(j)]"
   ]
  },
  {
   "cell_type": "code",
   "execution_count": 14,
   "id": "e60fb644",
   "metadata": {},
   "outputs": [
    {
     "name": "stderr",
     "output_type": "stream",
     "text": [
      "100%|██████████| 1800/1800 [05:43<00:00,  5.24it/s]\n"
     ]
    },
    {
     "data": {
      "image/png": "[encoded data removed]",
      "text/plain": [
       "<Figure size 432x288 with 1 Axes>"
      ]
     },
     "metadata": {
      "needs_background": "light"
     },
     "output_type": "display_data"
    }
   ],
   "source": [
    "# 14 Computing The Required Spherical Optical Depth Array\n",
    "# required = np.asarray(np.loadtxt('required_spherical_coordinates.csv', delimiter=' ')).astype('int')\n",
    "for i in tqdm(range(0, angle_steps)):\n",
    "    for j in range(0, distance_steps):\n",
    "        \n",
    "        # stdout.write(\"\\rProgress: \" + str(int(i / angle_steps + j / angle_steps / (distance_steps - 1))) + \"%\")\n",
    "        # stdout.flush()\n",
    "        \n",
    "        # For each angle, accumulatively compute the optical depth\n",
    "        add = optical_depth_center_progression(i * pi / (2 * angle_steps), j * (2 * view_size / distance_steps))\n",
    "        optical_depth_center_array[i][j] = optical_depth_center_array[i][j - 1] + add\n",
    "\n",
    "x_odc = np.linspace(0, 90, 1800)\n",
    "y_odc = np.array([])\n",
    "x = [0, 30, 60, 90]\n",
    "for i in range(0, 1800):\n",
    "    y_odc = np.append(y_odc, optical_depth_center_array[i][999])\n",
    "plt.plot(x_odc, y_odc * 3.45, color = 'red')\n",
    "plt.xticks(ticks = x)\n",
    "plt.title(\"Optical Depth vs. Latitude\")\n",
    "plt.xlabel(\"Latitude (Degrees)\")\n",
    "plt.ylabel(\"Optical Depth\")\n",
    "plt.ylim(0, 2)\n",
    "plt.grid()\n",
    "plt.show()"
   ]
  },
  {
   "cell_type": "code",
   "execution_count": 15,
   "id": "3d76abb4",
   "metadata": {},
   "outputs": [],
   "source": [
    "# 15 Define Cubical Optical Depth Integration Function\n",
    "n = 2 * view_size / resolution\n",
    "def optical_depth_progression(x1, x2):\n",
    "    # optical_depth_progression(): Optical depth between two close points\n",
    "    sum = 0 # total\n",
    "    i = 0 # iterator\n",
    "    while i < 1:\n",
    "        add = density_cartesian(x1 + i * (x2 - x1))\n",
    "        sum += add # add the non constant density\n",
    "        i += 1 / absorption_steps\n",
    "    sum = scattering_effective_crosssection * sum * n / absorption_steps # now multiply the constants of the integrand\n",
    "    return sum / albedo # return the result"
   ]
  },
  {
   "cell_type": "code",
   "execution_count": 16,
   "id": "cf35d202",
   "metadata": {},
   "outputs": [],
   "source": [
    "# 16 Cubical Optical Depth Array\n",
    "# Define the cubical optical depth array\n",
    "# j is the depth, \"0\" is the closest to the viewplane, \"resolution\" isthe deepest, resolution+1 steps in total\n",
    "# i is the coordinate, is the x*(resolution+1)+y, minimum 0 (x minimum, y=0), maximum (resolution+1)*(resolution)-1 (top right corner)\n",
    "# here x and y are pixel coordinates, from 0 to resolution\n",
    "i, j = resolution + 1, (resolution + 1) * (int(resolution / 2) + 1)\n",
    "optical_depth_array = [[0 for x in range(i)] for y in range(j)]"
   ]
  },
  {
   "cell_type": "code",
   "execution_count": 17,
   "id": "d8ea0e13-393f-4e8e-be51-0f20d36d071a",
   "metadata": {},
   "outputs": [
    {
     "name": "stderr",
     "output_type": "stream",
     "text": [
      "100%|██████████| 1493/1493 [03:27<00:00,  7.19it/s]\n"
     ]
    }
   ],
   "source": [
    "# 17 Computing The Partial Cubical Optical Depth Array\n",
    "r = (resolution + 1) * (int(resolution / 2) + 1) - 1\n",
    "required = np.asarray(np.loadtxt('required_coordinates.csv', delimiter = ' ')).astype('int')\n",
    "for i in tqdm(required):\n",
    "    for j in range(0, resolution):\n",
    "        \n",
    "        # stdout.write(\"\\rProgress: \" + str(np.int(i / r + j / r / (resolution - 1))) + \"%\")\n",
    "        # stdout.flush()\n",
    "        \n",
    "        # For each coordinate, accumulate the optical depth along the line of sight\n",
    "        x = index_to_x(i)\n",
    "        y = index_to_y(i)\n",
    "        \n",
    "        add = optical_depth_progression(np.array([x * sin_obs_lat + (((resolution / 2) - j) / (resolution / 2) * view_size) * cos_obs_lat, y, -x * cos_obs_lat + (((resolution / 2) - j) / (resolution / 2) * view_size) * sin_obs_lat]), np.array([x * sin_obs_lat + (((resolution / 2) - (j - 1)) / (resolution / 2) * view_size) * cos_obs_lat, y, -x * cos_obs_lat + (((resolution / 2) - (j - 1)) / (resolution / 2) * view_size) * sin_obs_lat]))\n",
    "        \n",
    "        optical_depth_array[i][j] = optical_depth_array[i][j - 1] + add"
   ]
  },
  {
   "cell_type": "markdown",
   "id": "d936333f",
   "metadata": {},
   "source": [
    "## Part 4. Computing The Image"
   ]
  },
  {
   "cell_type": "code",
   "execution_count": 18,
   "id": "516f86ff",
   "metadata": {},
   "outputs": [],
   "source": [
    "# 20 Defining the Optical Intensity Function\n",
    "asymmetry_constant = 0.38\n",
    "# The scattering asymmetry constant - Default : 0.5\n",
    "# This can change with each recompute, without altering the array, mainly changing front/back ratio\n",
    "scale_factor = 3.601806640625 # The post-compute multiplier applied to the density/optical depths array\n",
    "\n",
    "@np.vectorize\n",
    "def intensity(x, y):\n",
    "    sum = 0.0\n",
    "    # total number of unit photons reaching the specified pixel\n",
    "    i = coord_to_index(x, y)\n",
    "    for j in range(0, resolution):\n",
    "        cur = np.array([float(x * sin_obs_lat + (((resolution / 2) - j) / (resolution / 2) * view_size) * cos_obs_lat), float(y), float(-x * cos_obs_lat + (((resolution / 2) - j) / (resolution / 2) * view_size) * sin_obs_lat)])\n",
    "        # current point (precise value stored in array)\n",
    "        spherical = cartesian_to_spherical(cur) \n",
    "        # spherical of current point, to find the optical depth center\n",
    "        o_d_center = scale_factor * optical_depth_center_array[abs(int((angle_steps / 90) * (90 - (180 * spherical[1] / pi))))][int(spherical[0] / (2 * view_size) * distance_steps)]\n",
    "        # optical depth from center\n",
    "        o_d = scale_factor * optical_depth_array[i][j]\n",
    "        # optical depth from point of interest to earth\n",
    "        # the amount of photons from that point\n",
    "        if x == 0 and y == 0 and j == resolution / 2: # point of interest is central star\n",
    "            add = mpmath.exp(-scale_factor * optical_depth_array[coord_to_index(0, 0)][int(j)]) / ((view_length / resolution) * (view_length / resolution))\n",
    "        else:\n",
    "            add = (1 / (4 * pi * ((spherical[0]) * (spherical[0])))) * mpmath.exp(-o_d) * mpmath.exp(-o_d_center) * scale_factor * scattering_effective_crosssection * density(pi / 2 - spherical[1], spherical[0]) * (view_length / resolution) * phase_function(vector_angle(np.array([cos_obs_lat, 0, sin_obs_lat]), cur))\n",
    "        sum += add\n",
    "    return sum"
   ]
  },
  {
   "cell_type": "code",
   "execution_count": 19,
   "id": "f05683f8-d7c2-4c07-9e84-646c519588da",
   "metadata": {},
   "outputs": [
    {
     "name": "stdout",
     "output_type": "stream",
     "text": [
      "0.1600421\n",
      "0.99999994\n"
     ]
    }
   ],
   "source": [
    "data = fits.open(\"f547m_80s_raw_1.fits\")[0].data[0]\n",
    "            \n",
    "n = 9\n",
    "\n",
    "psf_x = 406\n",
    "psf_y = 478\n",
    "    \n",
    "psf_profile = data[psf_x - n + 1 : psf_x + n, psf_y - n + 1 : psf_y + n][::-1, ::-1] / data[psf_x - n + 1 : psf_x + n, psf_y - n + 1 : psf_y + n].ravel().sum()\n",
    "\n",
    "print(np.max(psf_profile))\n",
    "print(psf_profile.ravel().sum())"
   ]
  },
  {
   "cell_type": "code",
   "execution_count": 20,
   "id": "41b5aee9-b424-43eb-963d-c58a01678437",
   "metadata": {},
   "outputs": [
    {
     "name": "stdout",
     "output_type": "stream",
     "text": [
      "0.1535691529228064\n"
     ]
    },
    {
     "data": {
      "image/png": "[encoded data removed]",
      "text/plain": [
       "<Figure size 432x288 with 1 Axes>"
      ]
     },
     "metadata": {
      "needs_background": "light"
     },
     "output_type": "display_data"
    }
   ],
   "source": [
    "hst_image = fits.open(\"f547m_80s_raw_1.fits\")[0].data[0]\n",
    "\n",
    "x_array = np.linspace(-angular_size, angular_size, resolution + 1)\n",
    "\n",
    "center_x = 412\n",
    "center_y = 407\n",
    "\n",
    "angle_degrees = 105\n",
    "\n",
    "start_x = 150 + np.sin(angle_degrees * np.pi / 180) * angular_size / pixel_size\n",
    "end_x = 150 - np.sin(angle_degrees * np.pi / 180) * angular_size / pixel_size\n",
    "start_y = 150 + np.cos(angle_degrees * np.pi / 180) * angular_size / pixel_size\n",
    "end_y = 150 - np.cos(angle_degrees * np.pi / 180) * angular_size / pixel_size\n",
    "\n",
    "y_hst = skimage.measure.profile_line(hst_image[center_x - 150 : center_x + 150, center_y - 150 : center_y + 150], [start_x, start_y], [end_x, end_y], linewidth = 3)\n",
    "x_hst = np.linspace(-(len(y_hst) - 1) / 2 *  pixel_size, (len(y_hst) - 1) / 2 *  pixel_size, len(y_hst))\n",
    "y_hst = np.delete(y_hst, int(len(y_hst) / 2))\n",
    "y_hst = np.insert(y_hst, int(len(y_hst) / 2), hst_image[center_x, center_y])\n",
    "x_hst = np.delete(x_hst, int(len(y_hst) / 2))\n",
    "x_hst = np.insert(x_hst, int(len(y_hst) / 2), 0)\n",
    "\n",
    "y_hst_scaled = np.interp(x_array, x_hst, y_hst)\n",
    "\n",
    "normalizedYHST = y_hst_scaled / np.max(np.nan_to_num(np.array(y_hst_scaled, dtype = float)))\n",
    "plt.plot(x_array, normalizedYHST, color = 'blue', alpha = 0.5, label = 'HST')\n",
    "\n",
    "true_star_value = float(np.max(normalizedYHST))\n",
    "true_lobe_value = float(np.max(normalizedYHST[0 : int(len(normalizedYHST) / 2 - 5)]))\n",
    "# print(star_value)\n",
    "print(true_lobe_value)\n",
    "# print(star_value / lobe_value)"
   ]
  },
  {
   "cell_type": "code",
   "execution_count": 21,
   "id": "d86d844c-b957-4da7-90d2-1c78b65876b8",
   "metadata": {},
   "outputs": [
    {
     "name": "stdout",
     "output_type": "stream",
     "text": [
      "826.8508673292808\n",
      "81.16994192530156\n",
      "4\n",
      "38.51373673957922\n",
      "81.16994192530156\n",
      "6\n",
      "184.84245656191868\n",
      "81.16994192530156\n",
      "5.0\n",
      "84.06730308202539\n",
      "81.16994192530156\n",
      "5.5\n",
      "56.85362715719765\n",
      "81.16994192530156\n",
      "5.75\n",
      "69.1191042452485\n",
      "81.16994192530156\n",
      "5.625\n",
      "76.22342496839958\n",
      "81.16994192530156\n",
      "5.5625\n",
      "80.04821915675055\n",
      "81.16994192530156\n",
      "5.53125\n",
      "82.03285812691213\n",
      "81.16994192530156\n",
      "5.515625\n",
      "81.03439654264386\n",
      "81.16994192530156\n",
      "5.5234375\n",
      "81.53208519926137\n",
      "81.16994192530156\n",
      "5.51953125\n",
      "81.28285206282158\n",
      "81.16994192530156\n",
      "5.521484375\n",
      "81.15852557682672\n",
      "81.16994192530156\n",
      "5.5224609375\n",
      "81.2206685445944\n",
      "81.16994192530156\n",
      "5.52197265625\n",
      "81.18958979156707\n",
      "81.16994192530156\n",
      "5.522216796875\n",
      "81.17405727940252\n",
      "81.16994192530156\n",
      "5.5223388671875\n",
      "5.52239990234375\n"
     ]
    },
    {
     "data": {
      "image/png": "[encoded data removed]",
      "text/plain": [
       "<Figure size 432x288 with 1 Axes>"
      ]
     },
     "metadata": {
      "needs_background": "light"
     },
     "output_type": "display_data"
    }
   ],
   "source": [
    "scale_factor = 4\n",
    "\n",
    "scale_factor_increment = 2\n",
    "\n",
    "found = False\n",
    "\n",
    "kernel_center = np.max(psf_profile)\n",
    "\n",
    "true_lobe_value = true_lobe_value\n",
    "\n",
    "while(found == False):\n",
    "    \n",
    "    side = np.linspace(-view_size, 0, int(resolution / 2) + 1)\n",
    "    sideY = np.linspace(0, 0, 1)\n",
    "    x, y = np.meshgrid(side, sideY)\n",
    "    np.seterr(divide = 'ignore')\n",
    "    Value = np.asarray(intensity(x, y)).astype('float32')[0]\n",
    "    \n",
    "    star_value = float(np.max(Value))\n",
    "    lobe_value = float(np.partition(Value, -2)[-2])\n",
    "    \n",
    "    ratio = star_value / lobe_value\n",
    "    \n",
    "    plt.plot(Value)\n",
    "    plt.ylim(0, 2e-36)\n",
    "    \n",
    "    print(ratio)\n",
    "    print(1 / kernel_center / true_lobe_value * (resolution ** 2 / real_resolution ** 2))\n",
    "    print(scale_factor)\n",
    "    \n",
    "    if ratio >= 1 / kernel_center / true_lobe_value * (resolution ** 2 / real_resolution ** 2):\n",
    "        scale_factor = scale_factor + scale_factor_increment\n",
    "        scale_factor_increment = scale_factor_increment / 2\n",
    "    else:\n",
    "        scale_factor = scale_factor - scale_factor_increment\n",
    "        scale_factor_increment = scale_factor_increment / 2\n",
    "    \n",
    "    if np.abs(ratio - 1 / kernel_center / true_lobe_value * (resolution ** 2 / real_resolution ** 2)) <= 0.01: \n",
    "        found = True\n",
    "        \n",
    "print(scale_factor)"
   ]
  },
  {
   "cell_type": "code",
   "execution_count": 22,
   "id": "067875dc-e3d6-4df5-aae5-614c284032d9",
   "metadata": {},
   "outputs": [],
   "source": [
    "# 15 Define Cubical Optical Depth Integration Function\n",
    "n = 2 * view_size / resolution\n",
    "def optical_depth_progression(x1, x2):\n",
    "    # optical_depth_progression(): Optical depth between two close points\n",
    "    sum = 0 # total\n",
    "    i = 0 # iterator\n",
    "    while i < 1:\n",
    "        add = density_cartesian(x1 + i * (x2 - x1))\n",
    "        sum += add # add the non constant density\n",
    "        i += 1 / absorption_steps\n",
    "    sum = scattering_effective_crosssection * sum * n / absorption_steps # now multiply the constants of the integrand\n",
    "    return sum / albedo # return the result"
   ]
  },
  {
   "cell_type": "code",
   "execution_count": 23,
   "id": "85a9e318-a4a7-4df2-ab35-da6a9a4fec0d",
   "metadata": {},
   "outputs": [],
   "source": [
    "# 16 Cubical Optical Depth Array\n",
    "# Define the cubical optical depth array\n",
    "# j is the depth, \"0\" is the closest to the viewplane, \"resolution\" isthe deepest, resolution+1 steps in total\n",
    "# i is the coordinate, is the x*(resolution+1)+y, minimum 0 (x minimum, y=0), maximum (resolution+1)*(resolution)-1 (top right corner)\n",
    "# here x and y are pixel coordinates, from 0 to resolution\n",
    "i, j = resolution + 1, (resolution + 1) * (int(resolution / 2) + 1)\n",
    "optical_depth_array = [[0 for x in range(i)] for y in range(j)]"
   ]
  },
  {
   "cell_type": "code",
   "execution_count": 24,
   "id": "81f0d8e4",
   "metadata": {},
   "outputs": [
    {
     "name": "stderr",
     "output_type": "stream",
     "text": [
      "100%|██████████| 125750/125750 [2:37:06<00:00, 13.34it/s] \n"
     ]
    }
   ],
   "source": [
    "# 17 Computing The Full Cubical Optical Depth Array\n",
    "r = (resolution + 1) * (int(resolution / 2) + 1) - 1\n",
    "for i in tqdm(range(0, r)):\n",
    "    for j in range(0, resolution):\n",
    "        remainder = i % (resolution + 1)\n",
    "        if remainder > (resolution / 2):\n",
    "            optical_depth_array[i][j] = optical_depth_array[int(i - 2 * (remainder - resolution / 2))][resolution - 1] - optical_depth_array[int(i - 2 * (remainder - resolution / 2))][resolution - 1 - j]\n",
    "        \n",
    "        # stdout.write(\"\\rProgress: \" + str(np.int(i / r + j / r / (resolution - 1))) + \"%\")\n",
    "        # stdout.flush()\n",
    "        \n",
    "        # For each coordinate, accumulate the optical depth along the line of sight\n",
    "        x = index_to_x(i)\n",
    "        y = index_to_y(i)\n",
    "        \n",
    "        add = optical_depth_progression(np.array([x * sin_obs_lat + (((resolution / 2) - j) / (resolution / 2) * view_size) * cos_obs_lat, y, -x * cos_obs_lat + (((resolution / 2) - j) / (resolution / 2) * view_size) * sin_obs_lat]), np.array([x * sin_obs_lat + (((resolution / 2) - (j - 1)) / (resolution / 2) * view_size) * cos_obs_lat, y, -x * cos_obs_lat + (((resolution / 2) - (j - 1)) / (resolution / 2) * view_size) * sin_obs_lat]))\n",
    "        \n",
    "        optical_depth_array[i][j] = optical_depth_array[i][j - 1] + add"
   ]
  },
  {
   "cell_type": "code",
   "execution_count": 25,
   "id": "57f830ce-12ce-4410-9428-4ae8a9b58b84",
   "metadata": {},
   "outputs": [],
   "source": [
    "# 21 Computing The Top Half Image\n",
    "side = np.linspace(-view_size, view_size, resolution + 1)\n",
    "sideY = np.linspace(0, view_size, int(resolution / 2) + 1)\n",
    "x, y = np.meshgrid(side, sideY)\n",
    "np.seterr(divide = 'ignore')\n",
    "Value = intensity(x, y) # compute half of the intensity map"
   ]
  },
  {
   "cell_type": "code",
   "execution_count": 26,
   "id": "080f6d80-a322-41f2-bf01-6ca315f15f21",
   "metadata": {},
   "outputs": [
    {
     "ename": "SyntaxError",
     "evalue": "invalid syntax (4067800170.py, line 1)",
     "output_type": "error",
     "traceback": [
      "\u001b[0;36m  Cell \u001b[0;32mIn[26], line 1\u001b[0;36m\u001b[0m\n\u001b[0;31m    stop here\u001b[0m\n\u001b[0m         ^\u001b[0m\n\u001b[0;31mSyntaxError\u001b[0m\u001b[0;31m:\u001b[0m invalid syntax\n"
     ]
    }
   ],
   "source": [
    "stop here"
   ]
  },
  {
   "cell_type": "code",
   "execution_count": 27,
   "id": "38aa6203",
   "metadata": {},
   "outputs": [],
   "source": [
    "# 22 Generating Full Image from Half Image\n",
    "@np.vectorize\n",
    "def findValue(x, y):\n",
    "    cur_x = int((x / (angular_size) + 1) * resolution / 2)\n",
    "    cur_y = round(y * resolution / angular_size / 2)\n",
    "    if y > 0:\n",
    "        return float(Value[cur_y][cur_x])\n",
    "    elif y == 0:\n",
    "        return float(Value[0][cur_x])\n",
    "    else:\n",
    "        return float(Value[-cur_y][cur_x])"
   ]
  },
  {
   "cell_type": "code",
   "execution_count": 28,
   "id": "d1b2264a",
   "metadata": {},
   "outputs": [
    {
     "data": {
      "image/png": "[encoded data removed]",
      "text/plain": [
       "<Figure size 720x360 with 2 Axes>"
      ]
     },
     "metadata": {
      "needs_background": "light"
     },
     "output_type": "display_data"
    }
   ],
   "source": [
    "# 23 Plots\n",
    "side_angular = np.linspace(-angular_size, angular_size, resolution + 1)\n",
    "X, Y = np.meshgrid(side_angular, side_angular)\n",
    "np.seterr(divide = 'ignore')\n",
    "fullValues = findValue(X, Y)\n",
    "\n",
    "f = plt.figure(figsize = (10, 5))\n",
    "ax = f.add_subplot(121, aspect = 1)\n",
    "\n",
    "plt.xlabel(\"Horizontal Offset (arcsec)\")\n",
    "plt.ylabel(\"Vertical Offset (arcsec)\")\n",
    "plt.title(\"Image\")\n",
    "ax.pcolormesh(X, Y, fullValues, vmin = 0, vmax = np.max(fullValues[int(resolution / 2 + 1)][0 : int(resolution / 2 - 1)]), cmap = 'afmhot', shading = 'auto')\n",
    "plt.gca().set_aspect('equal')\n",
    "\n",
    "ax2 = f.add_subplot(122)\n",
    "x_array = np.linspace(-angular_size, angular_size, resolution + 1)\n",
    "y_array = fullValues[int(resolution / 2)]\n",
    "normalizedYArray = y_array / np.max(np.nan_to_num(np.array(y_array, dtype = float)))\n",
    "ax2.plot(x_array, normalizedYArray, color = 'red')\n",
    "x_pos = (1 + np.min(normalizedYArray)) / 2\n",
    "ax2.set_ylabel(\"Normalized Pixel Value\")\n",
    "plt.title(\"Brightness Along Symmetric Axis\")\n",
    "\n",
    "plt.annotate(\"Observing Latitude: \" + str(observing_latitude_degrees) + \" degrees;\\n\" + \"g (asymmetry constant) =\" + str(asymmetry_constant) + \";\\nmdot=\" + str(round(mdot_solar_masses * scale_factor, 6)) + \" \" + '$ M_{\\odot}$' + \"/year\", xy = (-angular_size, x_pos), color = 'blue')\n",
    "\n",
    "# ax3 = ax2.twinx()\n",
    "# ax3.plot(x_array, np.nan_to_num(np.array(y_array, dtype = float)), color = 'blue', alpha = 0)\n",
    "# ax3.set_ylabel(\"Absolute Intensity (Not currently Implemented)\")\n",
    "\n",
    "plt.show()"
   ]
  },
  {
   "cell_type": "code",
   "execution_count": 29,
   "id": "30d9b14d-b49e-4a4a-a504-246bfdf5adaf",
   "metadata": {},
   "outputs": [],
   "source": [
    "# 25 Image Convolution\n",
    "\n",
    "# Gaussian Convolution\n",
    "kernel = Gaussian2DKernel(x_stddev = 3 / 500 * resolution, y_stddev = 3 / 500 * resolution)\n",
    "astropy_conv = convolve(fullValues, kernel)\n",
    "\n",
    "# PSF Convolution\n",
    "# psf_conv = convolve2d(fullValues, psf_profile, mode = 'same')"
   ]
  },
  {
   "cell_type": "code",
   "execution_count": 30,
   "id": "304e3aaa-474c-4cd1-935f-f30192df7106",
   "metadata": {},
   "outputs": [],
   "source": [
    "import cv2\n",
    "\n",
    "# Downscale\n",
    "downscaled = cv2.resize(fullValues, (real_resolution, real_resolution), interpolation = cv2.INTER_AREA)\n",
    "\n",
    "downscaled[int(real_resolution / 2)][int(real_resolution / 2)] = fullValues[int(resolution / 2)][int(resolution / 2)] * (real_resolution / resolution) ** 2\n",
    "\n",
    "for dx in [-1, 0, 1]:\n",
    "    for dy in [-1, 0, 1]:\n",
    "        if dx == 0 and dy == 0:\n",
    "            continue  # Skip the center pixel itself\n",
    "        downscaled[int(real_resolution / 2) + dx, int(real_resolution / 2) + dy] = 0"
   ]
  },
  {
   "cell_type": "code",
   "execution_count": 31,
   "id": "99af285b-17c0-42cc-adb2-a822a6bab201",
   "metadata": {},
   "outputs": [
    {
     "data": {
      "text/plain": [
       "<matplotlib.image.AxesImage at 0x7f02dc9632d0>"
      ]
     },
     "execution_count": 31,
     "metadata": {},
     "output_type": "execute_result"
    },
    {
     "data": {
      "image/png": "[encoded data removed]",
      "text/plain": [
       "<Figure size 432x288 with 1 Axes>"
      ]
     },
     "metadata": {
      "needs_background": "light"
     },
     "output_type": "display_data"
    }
   ],
   "source": [
    "plt.imshow(downscaled, vmin = 0, vmax = np.max(fullValues[int(resolution / 2 + 1)][0 : int(resolution / 2 - 1)]), cmap = 'afmhot')"
   ]
  },
  {
   "cell_type": "code",
   "execution_count": 32,
   "id": "9c07354e-4edb-40d6-bf05-79b3c73c619c",
   "metadata": {},
   "outputs": [
    {
     "name": "stdout",
     "output_type": "stream",
     "text": [
      "1.0\n",
      "0.2109201087399835\n",
      "4.741131634977358\n"
     ]
    }
   ],
   "source": [
    "star_value = float(np.max(normalizedYHST))\n",
    "lobe_value = float(np.max(normalizedYHST[0 : int(len(normalizedYHST) / 2 - 2)]))\n",
    "print(star_value)\n",
    "print(lobe_value)\n",
    "print(star_value / lobe_value)"
   ]
  },
  {
   "cell_type": "code",
   "execution_count": 33,
   "id": "f6466acc-970d-4663-8474-be27abdc548a",
   "metadata": {},
   "outputs": [
    {
     "data": {
      "text/plain": [
       "<matplotlib.image.AxesImage at 0x7f02dc981290>"
      ]
     },
     "execution_count": 33,
     "metadata": {},
     "output_type": "execute_result"
    },
    {
     "data": {
      "image/png": "[encoded data removed]",
      "text/plain": [
       "<Figure size 432x288 with 1 Axes>"
      ]
     },
     "metadata": {
      "needs_background": "light"
     },
     "output_type": "display_data"
    }
   ],
   "source": [
    "plt.imshow(psf_profile)"
   ]
  },
  {
   "cell_type": "code",
   "execution_count": 34,
   "id": "8e0743f9-3d8d-4738-b3c0-227409e07b2f",
   "metadata": {},
   "outputs": [
    {
     "data": {
      "text/plain": [
       "[<matplotlib.lines.Line2D at 0x7f02ea3b9c50>]"
      ]
     },
     "execution_count": 34,
     "metadata": {},
     "output_type": "execute_result"
    },
    {
     "data": {
      "image/png": "[encoded data removed]",
      "text/plain": [
       "<Figure size 432x288 with 1 Axes>"
      ]
     },
     "metadata": {
      "needs_background": "light"
     },
     "output_type": "display_data"
    }
   ],
   "source": [
    "plt.plot(fullValues[int(resolution / 2)])"
   ]
  },
  {
   "cell_type": "code",
   "execution_count": 35,
   "id": "7cac9e01-82cd-4d99-9511-a8d74c83e881",
   "metadata": {},
   "outputs": [
    {
     "data": {
      "text/plain": [
       "[<matplotlib.lines.Line2D at 0x7f02ea3383d0>]"
      ]
     },
     "execution_count": 35,
     "metadata": {},
     "output_type": "execute_result"
    },
    {
     "data": {
      "image/png": "[encoded data removed]",
      "text/plain": [
       "<Figure size 432x288 with 1 Axes>"
      ]
     },
     "metadata": {
      "needs_background": "light"
     },
     "output_type": "display_data"
    }
   ],
   "source": [
    "plt.plot(downscaled[int(real_resolution / 2)])"
   ]
  },
  {
   "cell_type": "code",
   "execution_count": 36,
   "id": "49fee15e-b6fa-4fba-87d4-69a6bf8b423a",
   "metadata": {},
   "outputs": [],
   "source": [
    "psf_conv = convolve2d(downscaled, psf_profile, mode = 'same')"
   ]
  },
  {
   "cell_type": "code",
   "execution_count": 37,
   "id": "3d649fd6-7a64-475d-b4df-f2299a66e3ba",
   "metadata": {},
   "outputs": [
    {
     "data": {
      "text/plain": [
       "<matplotlib.image.AxesImage at 0x7f02ea669290>"
      ]
     },
     "execution_count": 37,
     "metadata": {},
     "output_type": "execute_result"
    },
    {
     "data": {
      "image/png": "[encoded data removed]",
      "text/plain": [
       "<Figure size 432x288 with 1 Axes>"
      ]
     },
     "metadata": {
      "needs_background": "light"
     },
     "output_type": "display_data"
    }
   ],
   "source": [
    "plt.imshow(psf_conv, vmin = 0, vmax = np.max(fullValues[int(resolution / 2 + 1)][0 : int(resolution / 2 - 1)]), cmap = 'afmhot')"
   ]
  },
  {
   "cell_type": "code",
   "execution_count": 38,
   "id": "71d271d1-4a70-443b-8311-1f0e4cb21070",
   "metadata": {},
   "outputs": [
    {
     "data": {
      "text/plain": [
       "[<matplotlib.lines.Line2D at 0x7f02ea601c10>]"
      ]
     },
     "execution_count": 38,
     "metadata": {},
     "output_type": "execute_result"
    },
    {
     "data": {
      "image/png": "[encoded data removed]",
      "text/plain": [
       "<Figure size 432x288 with 1 Axes>"
      ]
     },
     "metadata": {
      "needs_background": "light"
     },
     "output_type": "display_data"
    }
   ],
   "source": [
    "plt.plot(psf_conv[int(real_resolution / 2)])"
   ]
  },
  {
   "cell_type": "code",
   "execution_count": 39,
   "id": "78bc848f-4474-42bc-8b58-f8ca9f83471c",
   "metadata": {},
   "outputs": [
    {
     "data": {
      "image/png": "[encoded data removed]",
      "text/plain": [
       "<Figure size 720x360 with 2 Axes>"
      ]
     },
     "metadata": {
      "needs_background": "light"
     },
     "output_type": "display_data"
    }
   ],
   "source": [
    "# 26 Plotting the Convoluted Image\n",
    "f = plt.figure(figsize = (10, 5))\n",
    "ax = f.add_subplot(121, aspect = 1)\n",
    "\n",
    "plt.xlabel(\"Horizontal Offset (arcsec)\")\n",
    "plt.ylabel(\"Vertical Offset (arcsec)\")\n",
    "plt.title(\"Image\")\n",
    "\n",
    "side_angular = np.linspace(-angular_size, angular_size, real_resolution)\n",
    "X, Y = np.meshgrid(side_angular, side_angular)\n",
    "\n",
    "ax.pcolormesh(X, Y, psf_conv, cmap = 'afmhot', shading = 'auto')\n",
    "plt.gca().set_aspect('equal')\n",
    "\n",
    "ax2 = f.add_subplot(122)\n",
    "x_array = np.linspace(-angular_size, angular_size, real_resolution)\n",
    "y_array = psf_conv[int(real_resolution / 2)]\n",
    "normalizedYArray = y_array / np.max(np.nan_to_num(np.array(y_array, dtype = float)))\n",
    "ax2.plot(x_array, normalizedYArray, color = 'red', label = 'Simulated')\n",
    "x_pos = (3 + np.min(normalizedYArray)) / 4\n",
    "ax2.set_ylabel(\"Normalized Pixel Value\")\n",
    "plt.title(\"Brightness Along Symmetric Axis\")\n",
    "\n",
    "y_hst_scaled = np.interp(x_array, x_hst, y_hst)\n",
    "normalizedYHST = y_hst_scaled / np.max(np.nan_to_num(np.array(y_hst_scaled, dtype = float)))\n",
    "\n",
    "ax2.plot(x_array, normalizedYHST, color = 'blue', alpha = 0.5, label = 'HST')\n",
    "\n",
    "plt.annotate(\"Observing Latitude: \" + str(observing_latitude_degrees) + \" degrees;\\n\" + \"g (asymmetry constant) =\" + str(asymmetry_constant) + \";\\nmdot=\" + str(round(mdot_solar_masses * scale_factor, 6)) + \" \" + '$ M_{\\odot}$' + \"/year\", xy = (-angular_size, x_pos), color = 'blue')\n",
    "\n",
    "# ax3 = ax2.twinx()\n",
    "# ax3.plot(x_array, np.nan_to_num(np.array(y_array, dtype = float)), color = 'blue', alpha = 0)\n",
    "# ax3.set_ylabel(\"Absolute Intensity (Not currently Implemented)\")\n",
    "\n",
    "plt.ylim(0, 0.2)\n",
    "\n",
    "plt.legend()\n",
    "plt.show()"
   ]
  },
  {
   "cell_type": "code",
   "execution_count": 40,
   "id": "df8a7ec4-fb04-4a8c-9a6d-26e0a06f3b33",
   "metadata": {},
   "outputs": [],
   "source": [
    "# 27 Saving Convolved Files\n",
    "hdul = fits.PrimaryHDU(data = psf_conv / np.amax(psf_conv))\n",
    "string = \"1_convolved.fits\"\n",
    "hdul.writeto(string, overwrite = True)"
   ]
  },
  {
   "cell_type": "code",
   "execution_count": 41,
   "id": "3517fe76",
   "metadata": {},
   "outputs": [
    {
     "name": "stdout",
     "output_type": "stream",
     "text": [
      "Total Mass is: 2.23061187027705\n"
     ]
    }
   ],
   "source": [
    "# 29 Calculating Total Mass\n",
    "total_mass = 0.0\n",
    "x = -view_size\n",
    "y = -view_size\n",
    "z = -view_size\n",
    "while x <= view_size:\n",
    "    y = -view_size\n",
    "    while y <= view_size:\n",
    "        z = -view_size\n",
    "        while z <= view_size:\n",
    "            total_mass = total_mass + density_cartesian(np.array([x,y,z]))\n",
    "            z += 1e16\n",
    "        y += 1e16\n",
    "    x += 1e16\n",
    "total_mass = total_mass * 1e48 * grain_mass / dust_to_gas * scale_factor\n",
    "print(\"Total Mass is: \" + str(total_mass / 2e33))"
   ]
  },
  {
   "cell_type": "code",
   "execution_count": 1,
   "id": "3037c6a1-2550-4ef5-9574-4a66e1075913",
   "metadata": {},
   "outputs": [
    {
     "ename": "NameError",
     "evalue": "name 'sin' is not defined",
     "output_type": "error",
     "traceback": [
      "\u001b[0;31m---------------------------------------------------------------------------\u001b[0m",
      "\u001b[0;31mNameError\u001b[0m                                 Traceback (most recent call last)",
      "Cell \u001b[0;32mIn[1], line 5\u001b[0m\n\u001b[1;32m      1\u001b[0m offset \u001b[38;5;241m=\u001b[39m \u001b[38;5;241m-\u001b[39m\u001b[38;5;241m0.5\u001b[39m\n\u001b[0;32m----> 5\u001b[0m start_x \u001b[38;5;241m=\u001b[39m \u001b[38;5;241m200\u001b[39m \u001b[38;5;241m-\u001b[39m sin(angle_degrees \u001b[38;5;241m*\u001b[39m pi \u001b[38;5;241m/\u001b[39m \u001b[38;5;241m180\u001b[39m) \u001b[38;5;241m*\u001b[39m offset \u001b[38;5;241m/\u001b[39m pixel_size \u001b[38;5;241m+\u001b[39m cos(angle_degrees \u001b[38;5;241m*\u001b[39m pi \u001b[38;5;241m/\u001b[39m \u001b[38;5;241m180\u001b[39m) \u001b[38;5;241m*\u001b[39m angular_size \u001b[38;5;241m/\u001b[39m pixel_size\n\u001b[1;32m      6\u001b[0m end_x \u001b[38;5;241m=\u001b[39m \u001b[38;5;241m200\u001b[39m \u001b[38;5;241m-\u001b[39m sin(angle_degrees \u001b[38;5;241m*\u001b[39m pi \u001b[38;5;241m/\u001b[39m \u001b[38;5;241m180\u001b[39m) \u001b[38;5;241m*\u001b[39m offset \u001b[38;5;241m/\u001b[39m pixel_size \u001b[38;5;241m-\u001b[39m cos(angle_degrees \u001b[38;5;241m*\u001b[39m pi \u001b[38;5;241m/\u001b[39m \u001b[38;5;241m180\u001b[39m) \u001b[38;5;241m*\u001b[39m angular_size \u001b[38;5;241m/\u001b[39m pixel_size\n\u001b[1;32m      7\u001b[0m start_y \u001b[38;5;241m=\u001b[39m \u001b[38;5;241m200\u001b[39m \u001b[38;5;241m-\u001b[39m cos(angle_degrees \u001b[38;5;241m*\u001b[39m pi \u001b[38;5;241m/\u001b[39m \u001b[38;5;241m180\u001b[39m) \u001b[38;5;241m*\u001b[39m offset \u001b[38;5;241m/\u001b[39m pixel_size \u001b[38;5;241m-\u001b[39m sin(angle_degrees \u001b[38;5;241m*\u001b[39m pi \u001b[38;5;241m/\u001b[39m \u001b[38;5;241m180\u001b[39m) \u001b[38;5;241m*\u001b[39m angular_size \u001b[38;5;241m/\u001b[39m pixel_size\n",
      "\u001b[0;31mNameError\u001b[0m: name 'sin' is not defined"
     ]
    }
   ],
   "source": [
    "offset = -0.5\n",
    "\n",
    "start_x = 200 - sin(angle_degrees * pi / 180) * offset / pixel_size + cos(angle_degrees * pi / 180) * angular_size / pixel_size\n",
    "end_x = 200 - sin(angle_degrees * pi / 180) * offset / pixel_size - cos(angle_degrees * pi / 180) * angular_size / pixel_size\n",
    "start_y = 200 - cos(angle_degrees * pi / 180) * offset / pixel_size - sin(angle_degrees * pi / 180) * angular_size / pixel_size\n",
    "end_y = 200 - cos(angle_degrees * pi / 180) * offset / pixel_size + sin(angle_degrees * pi / 180) * angular_size / pixel_size\n",
    "\n",
    "y_array = skimage.measure.profile_line(hst_image[center_x - 200 : center_x + 200, center_y - 200 : center_y + 200], [start_x, start_y], [end_x, end_y], linewidth = 1)\n",
    "x_array = np.linspace((len(y_array) - 1) / 2 * pixel_size, -(len(y_array) - 1) / 2 * pixel_size, len(y_array))\n",
    "plt.plot(x_array, y_array / np.max(np.nan_to_num(np.array(y_hst_scaled, dtype = float))), color = 'blue', label = \"HST\")\n",
    "plt.title(f\"Offset {offset}\\'\\'\")\n",
    "\n",
    "y_array = skimage.measure.profile_line(psf_conv, [real_resolution, real_resolution / 2 + offset * real_resolution / (angular_size * 2)], [0, real_resolution / 2 + offset * real_resolution / (angular_size * 2)], linewidth = 1)\n",
    "x_array = np.linspace(-angular_size, angular_size, len(y_array))\n",
    "plt.plot(x_array, y_array / np.max(np.nan_to_num(np.array(psf_conv[int(real_resolution / 2)], dtype = float))), color = 'red', label = \"Simulated\")\n",
    "plt.gca().set_aspect(2 * angular_size / 0.2)\n",
    "plt.ylim([0, 0.2])\n",
    "plt.legend()\n",
    "plt.show()"
   ]
  },
  {
   "cell_type": "code",
   "execution_count": 43,
   "id": "2ceea34d-527c-4aef-bd1f-f31252dda9d4",
   "metadata": {},
   "outputs": [
    {
     "data": {
      "image/png": "[encoded data removed]",
      "text/plain": [
       "<Figure size 432x288 with 1 Axes>"
      ]
     },
     "metadata": {
      "needs_background": "light"
     },
     "output_type": "display_data"
    }
   ],
   "source": [
    "offset = -1\n",
    "\n",
    "start_x = 200 - sin(angle_degrees * pi / 180) * offset / pixel_size + cos(angle_degrees * pi / 180) * angular_size / pixel_size\n",
    "end_x = 200 - sin(angle_degrees * pi / 180) * offset / pixel_size - cos(angle_degrees * pi / 180) * angular_size / pixel_size\n",
    "start_y = 200 - cos(angle_degrees * pi / 180) * offset / pixel_size - sin(angle_degrees * pi / 180) * angular_size / pixel_size\n",
    "end_y = 200 - cos(angle_degrees * pi / 180) * offset / pixel_size + sin(angle_degrees * pi / 180) * angular_size / pixel_size\n",
    "\n",
    "y_array = skimage.measure.profile_line(hst_image[center_x - 200 : center_x + 200, center_y - 200 : center_y + 200], [start_x, start_y], [end_x, end_y], linewidth = 1)\n",
    "x_array = np.linspace((len(y_array) - 1) / 2 * pixel_size, -(len(y_array) - 1) / 2 * pixel_size, len(y_array))\n",
    "plt.plot(x_array, y_array / np.max(np.nan_to_num(np.array(y_hst_scaled, dtype = float))), color = 'blue', label = \"HST\")\n",
    "plt.title(f\"Offset {offset}\\'\\'\")\n",
    "\n",
    "y_array = skimage.measure.profile_line(psf_conv, [real_resolution, real_resolution / 2 + offset * real_resolution / (angular_size * 2)], [0, real_resolution / 2 + offset * real_resolution / (angular_size * 2)], linewidth = 1)\n",
    "x_array = np.linspace(-angular_size, angular_size, len(y_array))\n",
    "plt.plot(x_array, y_array / np.max(np.nan_to_num(np.array(psf_conv[int(real_resolution / 2)], dtype = float))), color = 'red', label = \"Simulated\")\n",
    "plt.gca().set_aspect(2 * angular_size / 0.2)\n",
    "plt.ylim([0, 0.2])\n",
    "plt.legend()\n",
    "plt.show()"
   ]
  },
  {
   "cell_type": "code",
   "execution_count": 44,
   "id": "db5027e4-6739-48db-aa3a-7298812c9d14",
   "metadata": {},
   "outputs": [
    {
     "data": {
      "image/png": "[encoded data removed]",
      "text/plain": [
       "<Figure size 432x288 with 1 Axes>"
      ]
     },
     "metadata": {
      "needs_background": "light"
     },
     "output_type": "display_data"
    }
   ],
   "source": [
    "offset = -4\n",
    "\n",
    "start_x = 200 - sin(angle_degrees * pi / 180) * offset / pixel_size + cos(angle_degrees * pi / 180) * angular_size / pixel_size\n",
    "end_x = 200 - sin(angle_degrees * pi / 180) * offset / pixel_size - cos(angle_degrees * pi / 180) * angular_size / pixel_size\n",
    "start_y = 200 - cos(angle_degrees * pi / 180) * offset / pixel_size - sin(angle_degrees * pi / 180) * angular_size / pixel_size\n",
    "end_y = 200 - cos(angle_degrees * pi / 180) * offset / pixel_size + sin(angle_degrees * pi / 180) * angular_size / pixel_size\n",
    "\n",
    "y_array_4 = skimage.measure.profile_line(hst_image[center_x - 200 : center_x + 200, center_y - 200 : center_y + 200], [start_x, start_y], [end_x, end_y], linewidth = 1)\n",
    "x_array = np.linspace((len(y_array_4) - 1) / 2 * pixel_size, -(len(y_array_4) - 1) / 2 * pixel_size, len(y_array_4))\n",
    "y_array_4 = y_array_4 / np.max(np.nan_to_num(np.array(y_hst_scaled, dtype = float)))\n",
    "plt.plot(x_array, y_array_4, color = 'blue', label = \"HST\")\n",
    "plt.title(f\"Offset {offset}\\'\\'\")\n",
    "\n",
    "y_array_calculated_4 = skimage.measure.profile_line(psf_conv, [real_resolution, real_resolution / 2 + offset * real_resolution / (angular_size * 2)], [0, real_resolution / 2 + offset * real_resolution / (angular_size * 2)], linewidth = 1)\n",
    "x_array = np.linspace(-angular_size, angular_size, len(y_array_calculated_4))\n",
    "y_array_calculated_4 = y_array_calculated_4 / np.max(np.nan_to_num(np.array(psf_conv[int(real_resolution / 2)], dtype = float)))\n",
    "plt.plot(x_array, y_array_calculated_4, color = 'red', label = \"Simulated\")\n",
    "plt.gca().set_aspect(2 * angular_size / 0.2)\n",
    "plt.ylim([0, 0.2])\n",
    "plt.legend()\n",
    "plt.show()"
   ]
  },
  {
   "cell_type": "code",
   "execution_count": 45,
   "id": "cc146a0b-de2e-490b-b237-3ddd61637530",
   "metadata": {},
   "outputs": [
    {
     "data": {
      "image/png": "[encoded data removed]",
      "text/plain": [
       "<Figure size 432x288 with 1 Axes>"
      ]
     },
     "metadata": {
      "needs_background": "light"
     },
     "output_type": "display_data"
    }
   ],
   "source": [
    "offset = -5\n",
    "\n",
    "start_x = 200 - sin(angle_degrees * pi / 180) * offset / pixel_size + cos(angle_degrees * pi / 180) * angular_size / pixel_size\n",
    "end_x = 200 - sin(angle_degrees * pi / 180) * offset / pixel_size - cos(angle_degrees * pi / 180) * angular_size / pixel_size\n",
    "start_y = 200 - cos(angle_degrees * pi / 180) * offset / pixel_size - sin(angle_degrees * pi / 180) * angular_size / pixel_size\n",
    "end_y = 200 - cos(angle_degrees * pi / 180) * offset / pixel_size + sin(angle_degrees * pi / 180) * angular_size / pixel_size\n",
    "\n",
    "y_array_5 = skimage.measure.profile_line(hst_image[center_x - 200 : center_x + 200, center_y - 200 : center_y + 200], [start_x, start_y], [end_x, end_y], linewidth = 1)\n",
    "x_array = np.linspace((len(y_array_5) - 1) / 2 * pixel_size, -(len(y_array_5) - 1) / 2 * pixel_size, len(y_array_5))\n",
    "plt.plot(x_array, y_array_5 / np.max(np.nan_to_num(np.array(y_hst_scaled, dtype = float))), color = 'blue', label = \"HST\")\n",
    "plt.title(f\"Offset {offset}\\'\\'\")\n",
    "\n",
    "y_array_calculated_5 = skimage.measure.profile_line(psf_conv, [real_resolution, real_resolution / 2 + offset * real_resolution / (angular_size * 2)], [0, real_resolution / 2 + offset * real_resolution / (angular_size * 2)], linewidth = 1)\n",
    "x_array = np.linspace(-angular_size, angular_size, len(y_array_calculated_5))\n",
    "plt.plot(x_array, y_array_calculated_5 / np.max(np.nan_to_num(np.array(psf_conv[int(real_resolution / 2)], dtype = float))), color = 'red', label = \"Simulated\")\n",
    "plt.gca().set_aspect(2 * angular_size / 0.02)\n",
    "plt.ylim([0, 0.02])\n",
    "plt.legend()\n",
    "plt.show()"
   ]
  },
  {
   "cell_type": "code",
   "execution_count": 46,
   "id": "a97d503f-15bc-41c9-99f6-fb45dfb9c588",
   "metadata": {},
   "outputs": [
    {
     "data": {
      "image/png": "[encoded data removed]",
      "text/plain": [
       "<Figure size 432x288 with 1 Axes>"
      ]
     },
     "metadata": {
      "needs_background": "light"
     },
     "output_type": "display_data"
    }
   ],
   "source": [
    "offset = -3\n",
    "\n",
    "start_x = 200 - sin(angle_degrees * pi / 180) * offset / pixel_size + cos(angle_degrees * pi / 180) * angular_size / pixel_size\n",
    "end_x = 200 - sin(angle_degrees * pi / 180) * offset / pixel_size - cos(angle_degrees * pi / 180) * angular_size / pixel_size\n",
    "start_y = 200 - cos(angle_degrees * pi / 180) * offset / pixel_size - sin(angle_degrees * pi / 180) * angular_size / pixel_size\n",
    "end_y = 200 - cos(angle_degrees * pi / 180) * offset / pixel_size + sin(angle_degrees * pi / 180) * angular_size / pixel_size\n",
    "\n",
    "y_array_3 = skimage.measure.profile_line(hst_image[center_x - 200 : center_x + 200, center_y - 200 : center_y + 200], [start_x, start_y], [end_x, end_y], linewidth = 1)\n",
    "x_array = np.linspace((len(y_array_3) - 1) / 2 * pixel_size, -(len(y_array_3) - 1) / 2 * pixel_size, len(y_array_3))\n",
    "y_array_3 = y_array_3 / np.max(np.nan_to_num(np.array(y_hst_scaled, dtype = float)))\n",
    "plt.plot(x_array, y_array_3, color = 'blue', label = \"HST\")\n",
    "plt.title(f\"Offset {offset}\\'\\'\")\n",
    "\n",
    "y_array_calculated_3 = skimage.measure.profile_line(psf_conv, [real_resolution, real_resolution / 2 + offset * real_resolution / (angular_size * 2)], [0, real_resolution / 2 + offset * real_resolution / (angular_size * 2)], linewidth = 1)\n",
    "x_array = np.linspace(-angular_size, angular_size, len(y_array_calculated_3))\n",
    "y_array_calculated_3 = y_array_calculated_3 / np.max(np.nan_to_num(np.array(psf_conv[int(real_resolution / 2)], dtype = float)))\n",
    "plt.plot(x_array, y_array_calculated_3, color = 'red', label = \"Simulated\")\n",
    "plt.gca().set_aspect(2 * angular_size / 0.2)\n",
    "plt.ylim([0, 0.2])\n",
    "plt.legend()\n",
    "plt.show()"
   ]
  },
  {
   "cell_type": "code",
   "execution_count": 47,
   "id": "f8de35bf-72d2-45dd-aae3-f7c7633d31dd",
   "metadata": {},
   "outputs": [
    {
     "data": {
      "image/png": "[encoded data removed]",
      "text/plain": [
       "<Figure size 432x288 with 1 Axes>"
      ]
     },
     "metadata": {
      "needs_background": "light"
     },
     "output_type": "display_data"
    }
   ],
   "source": [
    "offset = -2.3\n",
    "\n",
    "start_x = 200 - sin(angle_degrees * pi / 180) * offset / pixel_size + cos(angle_degrees * pi / 180) * angular_size / pixel_size\n",
    "end_x = 200 - sin(angle_degrees * pi / 180) * offset / pixel_size - cos(angle_degrees * pi / 180) * angular_size / pixel_size\n",
    "start_y = 200 - cos(angle_degrees * pi / 180) * offset / pixel_size - sin(angle_degrees * pi / 180) * angular_size / pixel_size\n",
    "end_y = 200 - cos(angle_degrees * pi / 180) * offset / pixel_size + sin(angle_degrees * pi / 180) * angular_size / pixel_size\n",
    "\n",
    "y_array = skimage.measure.profile_line(hst_image[center_x - 200 : center_x + 200, center_y - 200 : center_y + 200], [start_x, start_y], [end_x, end_y], linewidth = 1)\n",
    "x_array = np.linspace((len(y_array) - 1) / 2 * pixel_size, -(len(y_array) - 1) / 2 * pixel_size, len(y_array))\n",
    "plt.plot(x_array, y_array / np.max(np.nan_to_num(np.array(y_hst_scaled, dtype = float))), color = 'blue', label = \"HST\")\n",
    "plt.title(f\"Offset {offset}\\'\\'\")\n",
    "\n",
    "y_array = skimage.measure.profile_line(psf_conv, [real_resolution, real_resolution / 2 + offset * real_resolution / (angular_size * 2)], [0, real_resolution / 2 + offset * real_resolution / (angular_size * 2)], linewidth = 1)\n",
    "x_array = np.linspace(-angular_size, angular_size, len(y_array))\n",
    "plt.plot(x_array, y_array / np.max(np.nan_to_num(np.array(psf_conv[int(real_resolution / 2)], dtype = float))), color = 'red', label = \"Simulated\")\n",
    "plt.gca().set_aspect(2 * angular_size / 0.2)\n",
    "plt.ylim([0, 0.2])\n",
    "plt.legend()\n",
    "plt.show()"
   ]
  },
  {
   "cell_type": "code",
   "execution_count": 48,
   "id": "e8909cda-7cf5-4bb8-85b9-9356d262ebd9",
   "metadata": {},
   "outputs": [
    {
     "data": {
      "image/png": "[encoded data removed]",
      "text/plain": [
       "<Figure size 432x288 with 1 Axes>"
      ]
     },
     "metadata": {
      "needs_background": "light"
     },
     "output_type": "display_data"
    }
   ],
   "source": [
    "offset = -2\n",
    "\n",
    "start_x = 200 - sin(angle_degrees * pi / 180) * offset / pixel_size + cos(angle_degrees * pi / 180) * angular_size / pixel_size\n",
    "end_x = 200 - sin(angle_degrees * pi / 180) * offset / pixel_size - cos(angle_degrees * pi / 180) * angular_size / pixel_size\n",
    "start_y = 200 - cos(angle_degrees * pi / 180) * offset / pixel_size - sin(angle_degrees * pi / 180) * angular_size / pixel_size\n",
    "end_y = 200 - cos(angle_degrees * pi / 180) * offset / pixel_size + sin(angle_degrees * pi / 180) * angular_size / pixel_size\n",
    "\n",
    "y_array_2 = skimage.measure.profile_line(hst_image[center_x - 200 : center_x + 200, center_y - 200 : center_y + 200], [start_x, start_y], [end_x, end_y], linewidth = 1)\n",
    "x_array = np.linspace((len(y_array_2) - 1) / 2 * pixel_size, -(len(y_array_2) - 1) / 2 * pixel_size, len(y_array_2))\n",
    "y_array_2 = y_array_2 / np.max(np.nan_to_num(np.array(y_hst_scaled, dtype = float)))\n",
    "plt.plot(x_array, y_array_2, color = 'blue', label = \"HST\")\n",
    "plt.title(f\"Offset {offset}\\'\\'\")\n",
    "\n",
    "y_array_calculated_2 = skimage.measure.profile_line(psf_conv, [real_resolution, real_resolution / 2 + offset * real_resolution / (angular_size * 2)], [0, real_resolution / 2 + offset * real_resolution / (angular_size * 2)], linewidth = 1)\n",
    "x_array = np.linspace(-angular_size, angular_size, len(y_array_calculated_2))\n",
    "y_array_calculated_2 = y_array_calculated_2 / np.max(np.nan_to_num(np.array(psf_conv[int(real_resolution / 2)], dtype = float)))\n",
    "plt.plot(x_array, y_array_calculated_2, color = 'red', label = \"Simulated\")\n",
    "plt.gca().set_aspect(2 * angular_size / 0.2)\n",
    "plt.ylim([0, 0.2])\n",
    "plt.legend()\n",
    "plt.show()"
   ]
  },
  {
   "cell_type": "code",
   "execution_count": 49,
   "id": "e3872cec-9ccf-448f-9a92-086759210543",
   "metadata": {},
   "outputs": [
    {
     "data": {
      "image/png": "[encoded data removed]",
      "text/plain": [
       "<Figure size 432x288 with 1 Axes>"
      ]
     },
     "metadata": {
      "needs_background": "light"
     },
     "output_type": "display_data"
    }
   ],
   "source": [
    "offset = 2.5\n",
    "\n",
    "start_x = 200 - sin(angle_degrees * pi / 180) * offset / pixel_size + cos(angle_degrees * pi / 180) * angular_size / pixel_size\n",
    "end_x = 200 - sin(angle_degrees * pi / 180) * offset / pixel_size - cos(angle_degrees * pi / 180) * angular_size / pixel_size\n",
    "start_y = 200 - cos(angle_degrees * pi / 180) * offset / pixel_size - sin(angle_degrees * pi / 180) * angular_size / pixel_size\n",
    "end_y = 200 - cos(angle_degrees * pi / 180) * offset / pixel_size + sin(angle_degrees * pi / 180) * angular_size / pixel_size\n",
    "\n",
    "y_array_neg_2p5 = skimage.measure.profile_line(hst_image[center_x - 200 : center_x + 200, center_y - 200 : center_y + 200], [start_x, start_y], [end_x, end_y], linewidth = 1)\n",
    "y_array_neg_2p5 = y_array_neg_2p5 / np.max(np.nan_to_num(np.array(y_hst_scaled, dtype = float)))\n",
    "x_array = np.linspace((len(y_array_neg_2p5) - 1) / 2 * pixel_size, -(len(y_array_neg_2p5) - 1) / 2 * pixel_size, len(y_array_neg_2p5))\n",
    "plt.plot(x_array, y_array_neg_2p5, color = 'blue', label = \"HST\")\n",
    "plt.title(f\"Offset {offset}\\'\\'\")\n",
    "\n",
    "y_array_calculated_neg_2p5 = skimage.measure.profile_line(psf_conv, [real_resolution, real_resolution / 2 + offset * real_resolution / (angular_size * 2)], [0, real_resolution / 2 + offset * real_resolution / (angular_size * 2)], linewidth = 1)\n",
    "x_array = np.linspace(-angular_size, angular_size, len(y_array_calculated_neg_2p5))\n",
    "y_array_calculated_neg_2p5 = y_array_calculated_neg_2p5 / np.max(np.nan_to_num(np.array(psf_conv[int(real_resolution / 2)], dtype = float)))\n",
    "plt.plot(x_array, y_array_calculated_neg_2p5, color = 'red', label = \"Simulated\")\n",
    "plt.gca().set_aspect(2 * angular_size / 0.02)\n",
    "plt.ylim([0, 0.02])\n",
    "plt.legend()\n",
    "plt.show()"
   ]
  },
  {
   "cell_type": "code",
   "execution_count": 50,
   "id": "5f009a49-30f7-4cef-8fcf-2e3a4772ef4e",
   "metadata": {
    "tags": []
   },
   "outputs": [
    {
     "data": {
      "text/plain": [
       "[<matplotlib.lines.Line2D at 0x7f02dcaa5d50>]"
      ]
     },
     "execution_count": 50,
     "metadata": {},
     "output_type": "execute_result"
    },
    {
     "data": {
      "image/png": "[encoded data removed]",
      "text/plain": [
       "<Figure size 720x360 with 1 Axes>"
      ]
     },
     "metadata": {
      "needs_background": "light"
     },
     "output_type": "display_data"
    }
   ],
   "source": [
    "f = plt.figure(figsize = (10, 5))\n",
    "ax = f.add_subplot(121, aspect = 1)\n",
    "\n",
    "plt.xlabel(\"Horizontal Offset (arcsec)\")\n",
    "plt.ylabel(\"Vertical Offset (arcsec)\")\n",
    "# plt.title(\"Image\")\n",
    "plt.imshow(psf_conv, cmap = 'afmhot')\n",
    "plt.gca().set_aspect('equal')\n",
    "plt.axis('off')\n",
    "offset = -4\n",
    "plt.plot([real_resolution / 2 + offset * real_resolution / (angular_size * 2), real_resolution / 2 + offset * real_resolution / (angular_size * 2)], [real_resolution / 2 + 3 * real_resolution / (angular_size * 2), real_resolution / 2 - 3 * real_resolution / (angular_size * 2)], color = \"purple\")\n",
    "offset = -3\n",
    "plt.plot([real_resolution / 2 + offset * real_resolution / (angular_size * 2), real_resolution / 2 + offset * real_resolution / (angular_size * 2)], [real_resolution / 2 + 3 * real_resolution / (angular_size * 2), real_resolution / 2 - 3 * real_resolution / (angular_size * 2)], color = \"green\")\n",
    "offset = -2\n",
    "plt.plot([real_resolution / 2 + offset * real_resolution / (angular_size * 2), real_resolution / 2 + offset * real_resolution / (angular_size * 2)], [real_resolution / 2 + 3 * real_resolution / (angular_size * 2), real_resolution / 2 - 3 * real_resolution / (angular_size * 2)], color = \"blue\")"
   ]
  },
  {
   "cell_type": "code",
   "execution_count": 51,
   "id": "03435246-7052-4a64-a5a6-091e8052e317",
   "metadata": {},
   "outputs": [
    {
     "name": "stdout",
     "output_type": "stream",
     "text": [
      "Symmetric Axis Area Score: 0.1967474948522769\n",
      "-4'' Area Score: 0.39573656193991247\n",
      "-3'' Area Score: 0.3631781417314718\n",
      "-2'' Area Score: 0.33736642548432483\n",
      "2.5'' Area Score: 0.6827445128544705\n",
      "Weighted Area Score: 0.30175233356489506\n"
     ]
    }
   ],
   "source": [
    "x_array_calculated = np.linspace(-angular_size, angular_size, resolution + 1)\n",
    "\n",
    "x_array = np.linspace(-(len(y_array_neg_2p5) - 1) / 2 * pixel_size, (len(y_array_neg_2p5) - 1) / 2 * pixel_size, len(y_array_neg_2p5))\n",
    "y_array_neg_2p5 = np.interp(x_array_calculated, x_array, y_array_neg_2p5)\n",
    "x_array = np.linspace(-(len(y_array_4) - 1) / 2 * pixel_size, (len(y_array_4) - 1) / 2 * pixel_size, len(y_array_4))\n",
    "y_array_4 = np.interp(x_array_calculated, x_array, y_array_4)\n",
    "x_array = np.linspace(-(len(y_array_3) - 1) / 2 * pixel_size, (len(y_array_3) - 1) / 2 * pixel_size, len(y_array_3))\n",
    "y_array_3 = np.interp(x_array_calculated, x_array, y_array_3)\n",
    "x_array = np.linspace(-(len(y_array_2) - 1) / 2 * pixel_size, (len(y_array_2) - 1) / 2 * pixel_size, len(y_array_2))\n",
    "y_array_2 = np.interp(x_array_calculated, x_array, y_array_2)\n",
    "\n",
    "score_1 = abs((np.sum(normalizedYArray) - np.sum(normalizedYHST)) / np.sum(normalizedYHST))\n",
    "print(\"Symmetric Axis Area Score: \" + str(score_1))\n",
    "score_2 = abs((np.sum(y_array_calculated_4[int(resolution / 3) : resolution + 1 - int(resolution / 3)]) - np.sum(y_array_4[int(resolution / 3) : resolution + 1 - int(resolution / 3)])) / np.sum(y_array_4[int(resolution / 3) : resolution + 1 - int(resolution / 3)]))\n",
    "print(\"-4\\'\\' Area Score: \" + str(score_2))\n",
    "score_3 = abs((np.sum(y_array_calculated_3[int(resolution / 3) : resolution + 1 - int(resolution / 3)]) - np.sum(y_array_3[int(resolution / 3) : resolution + 1 - int(resolution / 3)])) / np.sum(y_array_3[int(resolution / 3) : resolution + 1 - int(resolution / 3)]))\n",
    "print(\"-3\\'\\' Area Score: \" + str(score_3))\n",
    "score_4 = abs((np.sum(y_array_calculated_2[int(resolution / 3) : resolution + 1 - int(resolution / 3)]) - np.sum(y_array_2[int(resolution / 3) : resolution + 1 - int(resolution / 3)])) / np.sum(y_array_2[int(resolution / 3) : resolution + 1 - int(resolution / 3)]))\n",
    "print(\"-2\\'\\' Area Score: \" + str(score_4))\n",
    "score_5 = abs((np.sum(y_array_calculated_neg_2p5[int(resolution / 3) : resolution + 1 - int(resolution / 3)]) - np.sum(y_array_neg_2p5[int(resolution / 3) : resolution + 1 - int(resolution / 3)])) / np.sum(y_array_neg_2p5[int(resolution / 3) : resolution + 1 - int(resolution / 3)]))\n",
    "print(\"2.5\\'\\' Area Score: \" + str(score_5))\n",
    "weighted_score = score_1 * 10 / 17 + score_2 * 1 / 17 + score_3 * 2 / 17 + score_4 * 2 / 17 + score_5 * 2 / 17\n",
    "print(\"Weighted Area Score: \" + str(weighted_score))"
   ]
  },
  {
   "cell_type": "code",
   "execution_count": 52,
   "id": "d46a2ff0-0934-4dc4-8446-12055839cec9",
   "metadata": {},
   "outputs": [
    {
     "name": "stdout",
     "output_type": "stream",
     "text": [
      "Symmetric Axis RMS Score: 0.03828309939398043\n",
      "-4'' RMS Score: 0.007733540667282969\n",
      "-3'' RMS Score: 0.016200831321466887\n",
      "-2'' RMS Score: 0.026779067223312487\n",
      "2.5'' RMS Score: 0.0034973284352143473\n",
      "Weighted RMS Score: 0.028442293445122044\n"
     ]
    }
   ],
   "source": [
    "rms_score_1 = sqrt(np.square(np.subtract(normalizedYArray, normalizedYHST)).mean())\n",
    "print(\"Symmetric Axis RMS Score: \" + str(rms_score_1))\n",
    "rms_score_2 = sqrt(np.square(np.subtract(y_array_calculated_4[int(resolution / 3) : resolution + 1 - int(resolution / 3)], y_array_4[int(resolution / 3) : resolution + 1 - int(resolution / 3)])).sum() / (resolution + 1))\n",
    "print(\"-4\\'\\' RMS Score: \" + str(rms_score_2))\n",
    "rms_score_3 = sqrt(np.square(np.subtract(y_array_calculated_3[int(resolution / 3) : resolution + 1 - int(resolution / 3)], y_array_3[int(resolution / 3) : resolution + 1 - int(resolution / 3)])).sum() / (resolution + 1))\n",
    "print(\"-3\\'\\' RMS Score: \" + str(rms_score_3))\n",
    "rms_score_4 = sqrt(np.square(np.subtract(y_array_calculated_2[int(resolution / 3) : resolution + 1 - int(resolution / 3)], y_array_2[int(resolution / 3) : resolution + 1 - int(resolution / 3)])).sum() / (resolution + 1))\n",
    "print(\"-2\\'\\' RMS Score: \" + str(rms_score_4))\n",
    "rms_score_5 = sqrt(np.square(np.subtract(y_array_calculated_neg_2p5[int(resolution / 3) : resolution + 1 - int(resolution / 3)], y_array_neg_2p5[int(resolution / 3) : resolution + 1 - int(resolution / 3)])).sum() / (resolution + 1))\n",
    "print(\"2.5\\'\\' RMS Score: \" + str(rms_score_5))\n",
    "weighted_rms_score = rms_score_1 * 10 / 17 + rms_score_2 * 1 / 17 + rms_score_3 * 2 / 17 + rms_score_4 * 2 / 17 + rms_score_5 * 2 / 17\n",
    "print(\"Weighted RMS Score: \" + str(weighted_rms_score))"
   ]
  },
  {
   "cell_type": "code",
   "execution_count": null,
   "id": "3d61810f",
   "metadata": {},
   "outputs": [],
   "source": [
    "# END"
   ]
  }
 ],
 "metadata": {
  "kernelspec": {
   "display_name": "M192",
   "language": "python",
   "name": "m192"
  },
  "language_info": {
   "codemirror_mode": {
    "name": "ipython",
    "version": 3
   },
   "file_extension": ".py",
   "mimetype": "text/x-python",
   "name": "python",
   "nbconvert_exporter": "python",
   "pygments_lexer": "ipython3",
   "version": "3.11.3"
  }
 },
 "nbformat": 4,
 "nbformat_minor": 5
}
