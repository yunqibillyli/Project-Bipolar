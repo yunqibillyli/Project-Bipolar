{
 "cells": [
  {
   "cell_type": "markdown",
   "id": "718a69e6",
   "metadata": {},
   "source": [
    "## Part 1. Initialization"
   ]
  },
  {
   "cell_type": "code",
   "execution_count": 158,
   "id": "ca5416bd",
   "metadata": {},
   "outputs": [],
   "source": [
    "# 1 Initialization\n",
    "import os\n",
    "import skimage\n",
    "import mpmath\n",
    "import cv2\n",
    "import numpy as np\n",
    "import sympy as sp\n",
    "import matplotlib.pyplot as plt\n",
    "import matplotlib.colors as c\n",
    "from math import sqrt, sin, cos, acos, atan, tanh\n",
    "from scipy.interpolate import interp1d\n",
    "from scipy.integrate import quad\n",
    "from scipy.signal import convolve, convolve2d\n",
    "from astropy.io import fits\n",
    "from skimage.metrics import mean_squared_error\n",
    "from mpl_toolkits.axes_grid1.inset_locator import inset_axes\n",
    "from tqdm import tqdm"
   ]
  },
  {
   "cell_type": "markdown",
   "id": "51a14797",
   "metadata": {},
   "source": [
    "## Part 2. Defining the Nebula"
   ]
  },
  {
   "cell_type": "code",
   "execution_count": 2,
   "id": "d15edc1f-4644-43d9-b41d-744c8474c7f8",
   "metadata": {},
   "outputs": [],
   "source": [
    "# 2 Important Parameters\n",
    "observing_latitude_degrees = 24 # degrees, Observing latitude - Default : 24\n",
    "view_length = 6e17 # cm, Length of the display box - Default : 6e17\n",
    "distance_ly = 8000 # ly, Distance to the lebula - Default : 8000\n",
    "resolution = 500 # Number of pixels of one side of the display - Default : 500\n",
    "pixel_size = 0.1013 / 2.196257815841434 # arcseconds, angular size of a real pixel on the raw HST image - Default : 0.1013 / 2.196257815841434\n",
    "distance_steps = 3000 # Number of distance steps in the optical depth center array - Default : 3000\n",
    "angle_steps = 1800 # Number of angle steps in the optical depth center array - Default : 1800\n",
    "absorption_steps_center = 1 # Number of steps between two adjacent elements of the spherical optical depth array - Default : 1\n",
    "absorption_steps = 5 # Number of steps between two adjacent elements in the cubical optical depth array - Default : 5"
   ]
  },
  {
   "cell_type": "code",
   "execution_count": 3,
   "id": "ea849326-c4d7-4313-82ef-2502436c9cec",
   "metadata": {},
   "outputs": [],
   "source": [
    "# 3 Nebula Shape Parameters\n",
    "rin = 2e16 # cm, Inner cavity radius - Default : 1e16\n",
    "density_enhancement = 10 # Density enhancement factor in the lobe walls - Default : 10\n",
    "edge_thickness = 0.2 # The thickness factor of the edge relative to the size of the lobe - Default : 0.2\n",
    "eccentricity = 0.72 # Eccentricity of the conic shaped lobe - Default : 0.72\n",
    "focus_shift = view_length * 0.01 # Coordinate of the conic section edge - Default : view_length * 0.01\n",
    "focus_shift_2 = view_length * 0.03  # Coordinate of the inner conic section edge - Default : view_length * 0.03\n",
    "focus = view_length * 0.039 - focus_shift # cm, Location of the focus of the conic shaped lobe - Default : -view_length / 100\n",
    "directrix = -(focus + focus_shift) / eccentricity - focus_shift # cm, Location of the directrix of the conic shaped lobe - Default : -view_length / 10.9ansa_eccentricity = 0.55 # Eccentricity of the ansa - Default : 0.85\n",
    "ansa_eccentricity = 0.55 # Eccentricity of the ansa - Default : 0.85\n",
    "ansa_focus_shift = -view_length * 0.14 # Location of the base of the ansa - Default : -view_length * 0.11\n",
    "ansa_focus = view_length * 0.01 - ansa_focus_shift # cm, Location of the ansa focus - Default : view_length / 4\n",
    "ansa_directrix = -(ansa_focus + ansa_focus_shift) / ansa_eccentricity - ansa_focus_shift # cm, Location of the ansa directrix - Default : view_length / 4\n",
    "cutoff_distance = view_length * 0.13 # cm, Cutoff from the conic region to the linear region in the lobes\n",
    "slope = 0.16 # dimensionless, Slope of the linear region boundary"
   ]
  },
  {
   "cell_type": "code",
   "execution_count": 159,
   "id": "b945d95a",
   "metadata": {
    "tags": []
   },
   "outputs": [
    {
     "data": {
      "image/png": "[encoded data removed]",
      "text/plain": [
       "<Figure size 432x288 with 2 Axes>"
      ]
     },
     "metadata": {
      "needs_background": "light"
     },
     "output_type": "display_data"
    }
   ],
   "source": [
    "# 4 Nebula Content Parameters, Grain Parameters, and Plotting the Grain Size Distributions\n",
    "pi = 3.1415926 # Pi\n",
    "mdot_solar_masses = 8e-5 # solar masses, Guess mass loss rate of all molecules - Default : 8e-5\n",
    "mdot = mdot_solar_masses * 2e33 / (365 * 24 * 60 * 60) # g / seconds, Mass loss rate of all molecules\n",
    "mdot_lat_dependence = 2 # Latitude dependence factor of mass loss as described in paper - Default : 1.2\n",
    "particle_radius_min = 5e-7 # cm, Minimum radius of the dust particles - Default : 5e-7\n",
    "particle_radius_max = 5e-5 # cm, Maximum radius of the dust particles - Default : 5e-5\n",
    "particle_radius_max_disk = 0.1 # cm, Maximum radius of the dust particles in the disk - Default : 0.1\n",
    "size_distribution_exponent = -3.5 # Exponent factor of the dust grain number distribution to the grain size, as seen in Mathis (1977)\n",
    "wavelength = 5.47e-5 # cm, Wavelength used by the observing telescope - Default : 5.47e-5\n",
    "albedo = 0.6 # Albedo of the dust particles\n",
    "dust_to_gas = 1 / 200 # Guess dust to gas ratio - Default : 1 / 200\n",
    "grain_density = 3 # grams / cm^3, Density of the individual grains - Default : 3\n",
    "asymmetry_constant = 0.5 # The scattering asymmetry constant (overwritten in block # 20) - Default : 0.5\n",
    "\n",
    "grain_sizes = np.logspace(np.log10(particle_radius_min), np.log10(particle_radius_max_disk), 10000) # Preparing to Plot the Grain Size Distributions\n",
    "\n",
    "normalization_constant = (size_distribution_exponent + 1) / (particle_radius_max ** (size_distribution_exponent + 1) - particle_radius_min ** (size_distribution_exponent + 1))\n",
    "normalization_constant_disk = (size_distribution_exponent + 1) / (particle_radius_max_disk ** (size_distribution_exponent + 1) - particle_radius_min ** (size_distribution_exponent + 1))\n",
    "\n",
    "non_disk_grains = np.where((grain_sizes >= particle_radius_min) & (grain_sizes <= particle_radius_max), normalization_constant * grain_sizes ** size_distribution_exponent, 0)\n",
    "disk_grains = np.where((grain_sizes >= particle_radius_min) & (grain_sizes <= particle_radius_max_disk), normalization_constant_disk * grain_sizes ** size_distribution_exponent, 0)\n",
    "\n",
    "plt.plot(grain_sizes, non_disk_grains, label = 'Non Disk Grains')\n",
    "plt.plot(grain_sizes, disk_grains, label = 'Disk Grains')\n",
    "\n",
    "plt.xscale('log')\n",
    "# plt.yscale('log')\n",
    "\n",
    "plt.xlabel('Grain Size')\n",
    "plt.ylabel('Relative Abundance')\n",
    "plt.title(f'Abundance Proportional to size to the power of {size_distribution_exponent}')\n",
    "plt.legend()\n",
    "plt.grid(True)\n",
    "\n",
    "axins = inset_axes(plt.gca(), width = \"30%\", height = \"30%\", loc = 10)\n",
    "\n",
    "axins.plot(grain_sizes, non_disk_grains, label = 'Non Disk Grains')\n",
    "axins.plot(grain_sizes, disk_grains, label = 'Disk Grains')\n",
    "\n",
    "axins.set_xscale('log')\n",
    "\n",
    "axins.set_ylim(0, 1e-5)\n",
    "\n",
    "plt.show()"
   ]
  },
  {
   "cell_type": "code",
   "execution_count": 75,
   "id": "6c2acad0",
   "metadata": {},
   "outputs": [],
   "source": [
    "# 5 Pre-compute Important Numbers\n",
    "observing_latitude = pi * (observing_latitude_degrees / 180) # radians, Observing latitude \n",
    "sin_obs_lat = sin(observing_latitude) # precompute the trigs of the observer\n",
    "cos_obs_lat = cos(observing_latitude)\n",
    "view_size = view_length / 2 # cm, Half the size of the picture\n",
    "angular_size = view_size / (distance_ly / 2.18e-13) # arcseconds, Size of the nebula in angular units\n",
    "FD = focus - directrix # precompute the geometry factors used in computing\n",
    "center = focus + FD * eccentricity ** 2 / (1 - eccentricity ** 2)\n",
    "focus_2 = center - (center - focus) * (1 - 0.01) - (focus + focus_shift) * 0.01 / (1 - eccentricity) + focus_shift - focus_shift_2\n",
    "directrix_2 = center - (center - directrix) * (1 - 0.01) - (focus + focus_shift) * 0.01 / (1 - eccentricity) + focus_shift - focus_shift_2\n",
    "real_half_resolution = int(angular_size / pixel_size) - 1 # Number of HST sized pixels half our image length correspond to\n",
    "simulated_pixel_size = 2 * angular_size / (resolution + 1) # Size of the ximulated pixels"
   ]
  },
  {
   "cell_type": "code",
   "execution_count": 102,
   "id": "b20c8321-a833-4ec5-8870-128c7b7fcffe",
   "metadata": {},
   "outputs": [
    {
     "name": "stderr",
     "output_type": "stream",
     "text": [
      "/tmp/ipykernel_304284/875641115.py:8: IntegrationWarning: The occurrence of roundoff error is detected, which prevents \n",
      "  the requested tolerance from being achieved.  The error may be \n",
      "  underestimated.\n",
      "  scattering_efficiency_integral = quad(lambda a: a ** (2 + size_distribution_exponent) * scattering_efficiency_function(2 * pi * a / wavelength), particle_radius_min, particle_radius_max)[0] # Values for the integral terms shown in paper\n",
      "/tmp/ipykernel_304284/875641115.py:9: IntegrationWarning: The maximum number of subdivisions (50) has been achieved.\n",
      "  If increasing the limit yields no improvement it is advised to analyze \n",
      "  the integrand in order to determine the difficulties.  If the position of a \n",
      "  local difficulty can be determined (singularity, discontinuity) one will \n",
      "  probably gain from splitting up the interval and calling the integrator \n",
      "  on the subranges.  Perhaps a special-purpose integrator should be used.\n",
      "  scattering_efficiency_integral_disk = quad(lambda a: a ** (2 + size_distribution_exponent) * scattering_efficiency_function(2 * pi * a / wavelength), particle_radius_min, particle_radius_max_disk)[0]\n",
      "/tmp/ipykernel_304284/875641115.py:10: IntegrationWarning: The maximum number of subdivisions (50) has been achieved.\n",
      "  If increasing the limit yields no improvement it is advised to analyze \n",
      "  the integrand in order to determine the difficulties.  If the position of a \n",
      "  local difficulty can be determined (singularity, discontinuity) one will \n",
      "  probably gain from splitting up the interval and calling the integrator \n",
      "  on the subranges.  Perhaps a special-purpose integrator should be used.\n",
      "  extinction_efficiency_integral = quad(lambda a: a ** (2 + size_distribution_exponent) * extinction_efficiency_function(2 * pi * a / wavelength), particle_radius_min, particle_radius_max)[0]\n",
      "/tmp/ipykernel_304284/875641115.py:11: IntegrationWarning: The maximum number of subdivisions (50) has been achieved.\n",
      "  If increasing the limit yields no improvement it is advised to analyze \n",
      "  the integrand in order to determine the difficulties.  If the position of a \n",
      "  local difficulty can be determined (singularity, discontinuity) one will \n",
      "  probably gain from splitting up the interval and calling the integrator \n",
      "  on the subranges.  Perhaps a special-purpose integrator should be used.\n",
      "  extinction_efficiency_integral_disk = quad(lambda a: a ** (2 + size_distribution_exponent) * extinction_efficiency_function(2 * pi * a / wavelength), particle_radius_min, particle_radius_max_disk)[0]\n"
     ]
    },
    {
     "data": {
      "image/png": "[encoded data removed]",
      "text/plain": [
       "<Figure size 432x288 with 1 Axes>"
      ]
     },
     "metadata": {
      "needs_background": "light"
     },
     "output_type": "display_data"
    }
   ],
   "source": [
    "# 6 Pre-compute Dust Grain Properties, and Plotting Albedo vs. Grain Size \n",
    "cross_section_constant = 3 * (size_distribution_exponent + 4) / (4 * grain_density * (particle_radius_max ** (size_distribution_exponent + 4) - particle_radius_min ** (size_distribution_exponent + 4))) # Left constant expression shown in paper\n",
    "cross_section_constant_disk = 3 * (size_distribution_exponent + 4) / (4 * grain_density * (particle_radius_max_disk ** (size_distribution_exponent + 4) - particle_radius_min ** (size_distribution_exponent + 4))) # Left constant expression shown in paper\n",
    "scattering_efficiency_function_array = np.vstack((np.array([[0, 0]]), np.asarray(np.loadtxt('scattering_efficiency.csv', delimiter = ',')).astype('float32'), np.array([[99999, 1]]))) # Array form of scattering efficiency function\n",
    "extinction_efficiency_function_array = np.vstack((np.array([[0, 0]]), np.asarray(np.loadtxt('extinction_efficiency.csv', delimiter = ',')).astype('float32'), np.array([[99999, 2]]))) # Array form of extinction efficiency function\n",
    "scattering_efficiency_function = interp1d(scattering_efficiency_function_array[:, 0], scattering_efficiency_function_array[:, 1], kind = 'linear') # Function form of scattering efficiency function\n",
    "extinction_efficiency_function = interp1d(extinction_efficiency_function_array[:, 0], extinction_efficiency_function_array[:, 1], kind = 'linear') # Function form of extinction efficiency function\n",
    "scattering_efficiency_integral = quad(lambda a: a ** (2 + size_distribution_exponent) * scattering_efficiency_function(2 * pi * a / wavelength), particle_radius_min, particle_radius_max)[0] # Values for the integral terms shown in paper\n",
    "scattering_efficiency_integral_disk = quad(lambda a: a ** (2 + size_distribution_exponent) * scattering_efficiency_function(2 * pi * a / wavelength), particle_radius_min, particle_radius_max_disk)[0]\n",
    "extinction_efficiency_integral = quad(lambda a: a ** (2 + size_distribution_exponent) * extinction_efficiency_function(2 * pi * a / wavelength), particle_radius_min, particle_radius_max)[0]\n",
    "extinction_efficiency_integral_disk = quad(lambda a: a ** (2 + size_distribution_exponent) * extinction_efficiency_function(2 * pi * a / wavelength), particle_radius_min, particle_radius_max_disk)[0]\n",
    "scattering_cross_section = cross_section_constant * scattering_efficiency_integral # Pre-compute the values for the scattering/extinction cross section factors\n",
    "scattering_cross_section_disk = cross_section_constant_disk * scattering_efficiency_integral_disk\n",
    "extinction_cross_section = cross_section_constant * extinction_efficiency_integral\n",
    "extinction_cross_section_disk = cross_section_constant_disk * extinction_efficiency_integral_disk\n",
    "\n",
    "grain_sizes = np.linspace(particle_radius_min, particle_radius_max_disk, 1000)\n",
    "\n",
    "scattering_efficiency = scattering_efficiency_function(2 * pi * grain_sizes / wavelength)\n",
    "extinction_efficiency = extinction_efficiency_function(2 * pi * grain_sizes / wavelength)\n",
    "\n",
    "plt.plot(grain_sizes, scattering_efficiency / extinction_efficiency, label = 'Albedo')\n",
    "\n",
    "plt.xscale('log')\n",
    "\n",
    "plt.xlabel('Grain Size')\n",
    "plt.ylabel('Albedo')\n",
    "plt.legend()\n",
    "plt.grid(True)\n",
    "\n",
    "plt.show()"
   ]
  },
  {
   "cell_type": "code",
   "execution_count": 79,
   "id": "f17a603c",
   "metadata": {},
   "outputs": [],
   "source": [
    "# 7 Logistic functions\n",
    "def norm(x):\n",
    "    return sqrt(x[0] * x[0] + x[1] * x[1] + x[2] * x[2])\n",
    "  # norm(): returns the norm of a given vector x (the vector is in the form of np.array([x, y, z]))\n",
    "\n",
    "def vector_angle(v1, v2):\n",
    "    norm1 = norm(v1)\n",
    "    norm2 = norm(v2)\n",
    "    if norm1 == 0 or norm2 == 0:\n",
    "        return 0\n",
    "    else:\n",
    "        factor = np.dot(v1, v2) / (norm1 * norm2)\n",
    "        if factor > 1:\n",
    "            return 0\n",
    "        elif factor < -1:\n",
    "            return pi\n",
    "        else:\n",
    "            return acos(factor)\n",
    "    # vector_angle(): returns the angle between two cartesian vectors\n",
    "\n",
    "def spherical_to_cartesian(r):\n",
    "    sin_cur = sin(r[1])\n",
    "    return np.array([r[0] * sin_cur * cos(r[2]), r[0] * sin_cur * sin(r[2]), r[0] * cos(r[1])])\n",
    "  # spherical_to_cartesian(): returns the cartesian representation of the given spherical vector r\n",
    "  # the cartesian vector x is defined in the refernce frame of nebula, not the observer\n",
    "\n",
    "def cartesian_to_spherical(x):\n",
    "    norm = sqrt(x[0] * x[0] + x[1] * x[1] + x[2] * x[2]) # pre compute the norm of the vector\n",
    "    if norm == 0:\n",
    "        return np.array([0, 0, 0])\n",
    "    elif x[0] == 0:\n",
    "        return np.array([norm, acos(x[2] / norm), pi / 2])\n",
    "    else:\n",
    "        return np.array([norm, acos(x[2] / norm), atan(x[1] / x[0])])\n",
    "    # cartesian_to_spherical(): returns the spherical representation of the cartesian vector x\n",
    "    # the cartesian vector x is defined in the reference frame of nebula, not the observer"
   ]
  },
  {
   "cell_type": "code",
   "execution_count": 80,
   "id": "9be3b999",
   "metadata": {},
   "outputs": [],
   "source": [
    "# 8 Scattering Phase Function\n",
    "def phase_function(angle): # Henyey-Greenstein\n",
    "    return 1 / (4 * pi) * (1 - asymmetry_constant * asymmetry_constant) / ((1 + asymmetry_constant * asymmetry_constant - 2 * asymmetry_constant * cos(angle)) ** (3 / 2))"
   ]
  },
  {
   "cell_type": "code",
   "execution_count": 81,
   "id": "a2d33f11",
   "metadata": {},
   "outputs": [],
   "source": [
    "# 9 Detailed Shape of the Nebula\n",
    "x, y = sp.symbols('x y')\n",
    "eq1 = sp.Eq(((cutoff_distance ** 2 + focus ** 2 - 2 * x * focus) ** (1 / 2) / (x - directrix)) - eccentricity, 0) # Outer conic section formula\n",
    "eq2 = sp.Eq(x ** 2 + y ** 2 - cutoff_distance ** 2, 0) # The point distance to the center has to be equal to cutoff_distance\n",
    "sol = sp.solve((eq1, eq2), (x, y)) # Find the point that satisfies both\n",
    "x_cut = abs(sol[1][0]) # x coordinate of the point\n",
    "y_cut = abs(sol[1][1]) # y coordinate of the point\n",
    "\n",
    "eccentricity_2 = eccentricity * (1 - edge_thickness / 2)\n",
    "\n",
    "x, y = sp.symbols('x y')\n",
    "eq1 = sp.Eq(((cutoff_distance ** 2 + focus_2 ** 2 - 2 * x * focus_2) ** (1 / 2) / (x - directrix_2)) - eccentricity_2, 0) # Inner conic section formula\n",
    "eq2 = sp.Eq(x ** 2 + y ** 2 - cutoff_distance ** 2, 0) # The point distance to the center has to be equal to cutoff_distance\n",
    "sol = sp.solve((eq1, eq2), (x, y)) # Find the point that satisfies both\n",
    "x_cut_2 = abs(sol[1][0]) # x coordinate of the point\n",
    "y_cut_2 = abs(sol[1][1]) # y coordinate of the point\n",
    "\n",
    "y_intercept = y_cut + slope * x_cut # Calculates the y-intercept of the outer linear boundary\n",
    "y_intercept_2 = y_intercept * (1 - edge_thickness) # y_cut_2 + slope * x_cut_2 # Calculates the y-intercept of the inner linear boundary\n",
    "\n",
    "def lobe(x):\n",
    "    x = abs(x)\n",
    "    y_2_squared = (eccentricity_2 * (x - directrix_2)) * (eccentricity_2 * (x - directrix_2)) - x * x - focus_2 * focus_2 + 2 * x * focus_2\n",
    "    y_2 = sqrt(y_2_squared * (y_2_squared >= 0))\n",
    "    y_squared = (eccentricity * (x - directrix)) * (eccentricity * (x - directrix)) - x * x - focus * focus + 2 * x * focus\n",
    "    y = sqrt(y_squared * (y_squared >= 0))\n",
    "    y_2_alt = y_intercept_2 - x * slope * (1 - edge_thickness)\n",
    "    y_alt = y_intercept - x * slope\n",
    "    if x > cutoff_distance: \n",
    "        return y_2_alt, y_alt\n",
    "    return min([y_2, y_2_alt]), min([y, y_alt])\n",
    "\n",
    "def ansa(x):\n",
    "    \n",
    "    x = abs(x)\n",
    "    y_squared = (ansa_eccentricity * (x - ansa_directrix)) * (ansa_eccentricity * (x - ansa_directrix)) - x * x - ansa_focus * ansa_focus + 2 * x * ansa_focus\n",
    "    \n",
    "    return sqrt(y_squared * (y_squared >= 0))\n",
    "\n",
    "def find_density(x, y, latitude, distance):\n",
    "    \n",
    "    if abs(latitude) >= 85 / 180 * pi and distance > 3e17:\n",
    "        \n",
    "        velocity = 7.5e7 # cm/s - Default : 2e7\n",
    "\n",
    "        mass_density = (dust_to_gas * mdot) / (4 * pi * (distance * distance) * velocity)\n",
    "        \n",
    "        return scattering_cross_section * mass_density, extinction_cross_section * mass_density, mass_density\n",
    "    \n",
    "    elif distance >= 2.5e17:\n",
    "        \n",
    "        return 0, 0, 0\n",
    "    \n",
    "    sin_lat = abs(x / distance)\n",
    "    sin_lat_squared = sin_lat * sin_lat\n",
    "    cos_lat_squared = 1 - sin_lat_squared\n",
    "    \n",
    "    mdot_factor = mdot_lat_dependence / np.sqrt((1 / (mdot_lat_dependence * mdot_lat_dependence)) * cos_lat_squared + (mdot_lat_dependence * mdot_lat_dependence * mdot_lat_dependence * mdot_lat_dependence) * sin_lat_squared)\n",
    "    \n",
    "    if y <= ansa(x):\n",
    "        \n",
    "        velocity = 1e5 # cm/s - Default : 5e5\n",
    "\n",
    "        mass_density = mdot_factor * dust_to_gas * mdot / (16 * pi * 1e34 * velocity)\n",
    "        \n",
    "        return scattering_cross_section * mass_density, extinction_cross_section * mass_density, mass_density\n",
    "    \n",
    "    y_low, y_high = lobe(x)\n",
    "    \n",
    "    if distance < rin * 2: \n",
    "        \n",
    "        cutoff_inner = 0.5 * (1 - tanh((rin - distance) / (rin / 10)))\n",
    "        \n",
    "    else: \n",
    "        \n",
    "        cutoff_inner = 1\n",
    "    \n",
    "    if y <= y_high: \n",
    "        \n",
    "        cutoff_outer = 0.5 * (1 - tanh((distance - 1.95e17) / 1e16))\n",
    "        \n",
    "        if y <= y_low: \n",
    "            \n",
    "            velocity = 5e7 # cm/s - Default : 7.5e7\n",
    "            \n",
    "            area = pi * y_low * y_low\n",
    "\n",
    "            mass_density = cutoff_outer * cutoff_inner * mdot_factor * dust_to_gas * mdot / (16 * area * velocity)\n",
    "            \n",
    "            return scattering_cross_section * mass_density, extinction_cross_section * mass_density, mass_density\n",
    "        \n",
    "        velocity = 2e7 / density_enhancement / (distance * distance * distance / 1e51)  # cm/s - Default : 2e7\n",
    "\n",
    "        mass_density = cutoff_outer * mdot_factor * dust_to_gas * mdot / (4 * pi * (distance * distance) * velocity)\n",
    "        \n",
    "        return scattering_cross_section * mass_density, extinction_cross_section * mass_density, mass_density\n",
    "    \n",
    "    else: \n",
    "        \n",
    "        R_cur_disk_low = 1e17 # cm, cutoff radius - Default : 1.1e17\n",
    "        R_cur_disk_high = 1e17 # cm, cutoff radius - Default : 1.1e17\n",
    "        R_cur_disk = R_cur_disk_high * R_cur_disk_low / sqrt(R_cur_disk_low ** 2 * sin_lat_squared + R_cur_disk_high ** 2 * (1 - sin_lat_squared))\n",
    "        R_cur_low = 9.5e16 # cm, cutoff radius - Default : 1.1e17\n",
    "        R_cur_high = 2e17\n",
    "        R_cur = R_cur_high * R_cur_low / sqrt(R_cur_low ** 2 * sin_lat_squared + R_cur_high ** 2 * (1 - sin_lat_squared))\n",
    "        \n",
    "        R_cur = max([R_cur, R_cur_disk])\n",
    "        \n",
    "        dr_cur = 2e15 * (1 + 10 * cos_lat_squared) # cm, sharpness of cutoff - Default : 1.2e16\n",
    "        \n",
    "        if False: # distance >= R_cur_high + 5 * dr_cur:\n",
    "            \n",
    "            return 0, 0, 0\n",
    "        \n",
    "        else: \n",
    "            velocity = 5e5 # cm/s\n",
    "\n",
    "    cutoff_outer = 0.5 * (1 - tanh((distance - R_cur) / dr_cur))\n",
    "\n",
    "    mass_density = mdot_factor * (dust_to_gas * mdot) * (cutoff_outer * cutoff_inner) / (4 * pi * (distance * distance) * velocity)\n",
    "    \n",
    "    return scattering_cross_section * mass_density, extinction_cross_section * mass_density, mass_density\n",
    "\n",
    "def density_cartesian(r):\n",
    "    \n",
    "    spherical = cartesian_to_spherical(r)\n",
    "    latitude, distance = pi / 2 - spherical[1], spherical[0]\n",
    "    \n",
    "    if distance < rin / 2:\n",
    "        \n",
    "        return 0, 0, 0\n",
    "    \n",
    "    y = sqrt(r[0] * r[0] + r[1] * r[1])\n",
    "    x = r[2] # Along the sky plane the symmetric axis is the horizontal x-axis, but in the 3D distribution it's the z-axis\n",
    "    \n",
    "    return find_density(x, y, latitude, distance)\n",
    "\n",
    "def density(latitude, distance):\n",
    "    \n",
    "    if distance < rin / 2:\n",
    "        \n",
    "        return 0, 0, 0\n",
    "    \n",
    "    x = distance * sin(latitude)\n",
    "    y = sqrt(distance * distance - x * x)\n",
    "    \n",
    "    return find_density(x, y, latitude, distance)"
   ]
  },
  {
   "cell_type": "code",
   "execution_count": 82,
   "id": "eccbbbdf",
   "metadata": {},
   "outputs": [],
   "source": [
    "# 10 Density Display Function\n",
    "@np.vectorize\n",
    "def density_map(x, y):\n",
    "    return float(density_cartesian(np.array([0, y, -x]))[2]) ** float(1 / 5)\n",
    "# Density display\n",
    "\n",
    "# Computing the density map\n",
    "side = np.linspace(-view_size, view_size, resolution + 1)\n",
    "x, y = np.meshgrid(side, side)\n",
    "Value = density_map(x, y)\n",
    "min_nonzero = np.min(Value[Value != 0])\n",
    "Value[Value == 0] = min_nonzero"
   ]
  },
  {
   "cell_type": "code",
   "execution_count": 83,
   "id": "3726bfe4-80b5-4fce-b913-6e1b30f87c3a",
   "metadata": {},
   "outputs": [
    {
     "data": {
      "image/png": "[encoded data removed]",
      "text/plain": [
       "<Figure size 432x288 with 1 Axes>"
      ]
     },
     "metadata": {
      "needs_background": "light"
     },
     "output_type": "display_data"
    }
   ],
   "source": [
    "# 11 Density Display\n",
    "plt.title(\"Density Distribution Cross Section\")\n",
    "plt.pcolormesh(x, y, Value, cmap = 'afmhot')\n",
    "# plt.pcolormesh(x, y, Value, cmap = 'afmhot', norm = c.LogNorm(vmin = Value.max() / 1000000))\n",
    "# plt.annotate(\"Axis of Symmetry\", xy = (view_length / 20, -view_length / 8), color = 'red')\n",
    "# plt.axhline(y = 0, color = 'red', linestyle = '-')\n",
    "# plt.annotate(\"Central Star\", xy = (-view_length / 20, view_length / 8), color = 'blue')\n",
    "# plt.plot([0], [0], marker = \"x\", markersize = 20, color = \"blue\")\n",
    "plt.gca().set_aspect('equal')\n",
    "plt.xlabel(\"distance (cm)\")\n",
    "plt.ylabel(\"distance (cm)\")\n",
    "# plt.axis('on')\n",
    "plt.show()"
   ]
  },
  {
   "cell_type": "markdown",
   "id": "5c855f8e",
   "metadata": {},
   "source": [
    "## Part 3. Computing The Optical Depth Arrays"
   ]
  },
  {
   "cell_type": "code",
   "execution_count": 84,
   "id": "a35bacfa",
   "metadata": {},
   "outputs": [],
   "source": [
    "# 12 Array Coordinate - Skyplane Coordinate Translations\n",
    "def coord_to_index(x, y): \n",
    "    # coord_to_index(): Returns the array index i given the skyplane coordinates x, y in cm \n",
    "    return int(int(((x / view_size) + 1) * (resolution / 2)) + int((y / view_size) * (resolution / 2)) * (resolution + 1))\n",
    "def index_to_x(i):\n",
    "    # index_to_x(): Returns the skyplane coordinate x given the array index i\n",
    "    return (int(i % (resolution + 1)) / (resolution / 2) - 1) * view_size\n",
    "def index_to_y(i):\n",
    "    # index_to_y(): Returns the skyplane coordinate y given the array index i\n",
    "    return (int(i / (resolution + 1)) / (resolution / 2)) * view_size"
   ]
  },
  {
   "cell_type": "code",
   "execution_count": 85,
   "id": "8099f5bd",
   "metadata": {},
   "outputs": [],
   "source": [
    "# 13 Define Spherical Optical Depth Integration Function\n",
    "def optical_depth_center_progression(latitude, distance):\n",
    "    # optical_depth_center_progression(): Optical depth between two close points\n",
    "    total = 0 # total\n",
    "    i = 0 # iterator\n",
    "    while i < 1:\n",
    "        extinction_cross_section = density(latitude, distance + i * (view_size / (distance_steps * absorption_steps_center)))[1]\n",
    "        total += extinction_cross_section # add the non constant density\n",
    "        i += 1 / absorption_steps_center\n",
    "    total = total * (2 * view_size / (distance_steps * absorption_steps_center))\n",
    "    # now multiply the constants of the integrand\n",
    "    return total"
   ]
  },
  {
   "cell_type": "code",
   "execution_count": 86,
   "id": "b35262b1",
   "metadata": {},
   "outputs": [],
   "source": [
    "# 14 Spherical Optical Depth Array\n",
    "# Define the spherical optical depth array\n",
    "# i from 0 to distance_steps, represents distance from 0 to 2*view_size\n",
    "# j from 0 to pi/2, represents the latitude\n",
    "i, j = distance_steps + 1, angle_steps + 1\n",
    "optical_depth_center_array = [[0 for x in range(i)] for y in range(j)]"
   ]
  },
  {
   "cell_type": "code",
   "execution_count": 87,
   "id": "e60fb644",
   "metadata": {},
   "outputs": [
    {
     "name": "stderr",
     "output_type": "stream",
     "text": [
      "100%|██████████| 1800/1800 [06:44<00:00,  4.45it/s]\n"
     ]
    }
   ],
   "source": [
    "# 15 Computing The Spherical Optical Depth Array\n",
    "for i in tqdm(range(0, angle_steps)):\n",
    "    for j in range(0, distance_steps):\n",
    "        \n",
    "        # For each angle, accumulatively compute the optical depth\n",
    "        add = optical_depth_center_progression(i * pi / (2 * angle_steps), j * (2 * view_size / distance_steps))\n",
    "        optical_depth_center_array[i][j] = optical_depth_center_array[i][j - 1] + add"
   ]
  },
  {
   "cell_type": "code",
   "execution_count": 88,
   "id": "4583c0cf-0f76-4bce-8e1a-42d0886b12a2",
   "metadata": {},
   "outputs": [
    {
     "data": {
      "image/png": "[encoded data removed]",
      "text/plain": [
       "<Figure size 432x288 with 1 Axes>"
      ]
     },
     "metadata": {
      "needs_background": "light"
     },
     "output_type": "display_data"
    }
   ],
   "source": [
    "# 16 Displaying The Spherical Optical Depth Array\n",
    "x_odc = np.linspace(0, 90, 1800)\n",
    "y_odc = np.array([])\n",
    "x = [0, 30, 60, 90]\n",
    "for i in range(0, 1800):\n",
    "    y_odc = np.append(y_odc, optical_depth_center_array[i][999])\n",
    "plt.plot(x_odc, y_odc, color = 'red')\n",
    "plt.xticks(ticks = x)\n",
    "plt.title(\"Optical Depth vs. Latitude\")\n",
    "plt.xlabel(\"Latitude (Degrees)\")\n",
    "plt.ylabel(\"Optical Depth\")\n",
    "plt.ylim(0, 5)\n",
    "plt.grid()\n",
    "plt.show()"
   ]
  },
  {
   "cell_type": "code",
   "execution_count": 89,
   "id": "3d76abb4",
   "metadata": {},
   "outputs": [],
   "source": [
    "# 17 Define Cubical Optical Depth Integration Function\n",
    "n = 2 * view_size / (resolution + 1)\n",
    "def optical_depth_progression(x1, x2):\n",
    "    # optical_depth_progression(): Optical depth between two close points\n",
    "    total = 0 # total\n",
    "    i = 0 # iterator\n",
    "    while i < 1:\n",
    "        extinction_cross_section = density_cartesian(x1 + i * (x2 - x1))[1]\n",
    "        total += extinction_cross_section # add the non constant density\n",
    "        i += 1 / absorption_steps\n",
    "    total = total * n / absorption_steps # now multiply the constants of the integrand\n",
    "    return total # return the result"
   ]
  },
  {
   "cell_type": "code",
   "execution_count": 90,
   "id": "cf35d202",
   "metadata": {},
   "outputs": [],
   "source": [
    "# 18 Cubical Optical Depth Array\n",
    "# Define the cubical optical depth array\n",
    "# j is the depth, \"0\" is the closest to the viewplane, \"resolution\" isthe deepest, resolution+1 steps in total\n",
    "# i is the coordinate, is the x*(resolution+1)+y, minimum 0 (x minimum, y=0), maximum (resolution+1)*(resolution)-1 (top right corner)\n",
    "# here x and y are pixel coordinates, from 0 to resolution\n",
    "i, j = resolution + 1, (resolution + 1) * (int(resolution / 2) + 1)\n",
    "optical_depth_array = [[0 for x in range(i)] for y in range(j)]"
   ]
  },
  {
   "cell_type": "code",
   "execution_count": 91,
   "id": "d8ea0e13-393f-4e8e-be51-0f20d36d071a",
   "metadata": {},
   "outputs": [
    {
     "name": "stderr",
     "output_type": "stream",
     "text": [
      "100%|██████████| 1493/1493 [04:00<00:00,  6.20it/s]\n"
     ]
    }
   ],
   "source": [
    "# 19 Computing The Partial Cubical Optical Depth Array\n",
    "r = (resolution + 1) * (int(resolution / 2) + 1) - 1\n",
    "required = np.asarray(np.loadtxt('required_coordinates.csv', delimiter = ' ')).astype('int')\n",
    "for i in tqdm(required):\n",
    "    for j in range(0, resolution + 1):\n",
    "        \n",
    "        # stdout.write(\"\\rProgress: \" + str(np.int(i / r + j / r / (resolution - 1))) + \"%\")\n",
    "        # stdout.flush()\n",
    "        \n",
    "        if j == 0: \n",
    "            optical_depth_array[i][j] = 0\n",
    "            continue # jump out the current j loop\n",
    "        \n",
    "        # For each coordinate, accumulate the optical depth along the line of sight\n",
    "        x = index_to_x(i)\n",
    "        y = index_to_y(i)\n",
    "        \n",
    "        depth = view_size - (1 + 2 * j) * view_size / (resolution + 1)\n",
    "        depth_prev = view_size - (1 + 2 * (j - 1)) * view_size / (resolution + 1)\n",
    "        \n",
    "        add = optical_depth_progression(np.array([x * sin_obs_lat + depth * cos_obs_lat, y, -x * cos_obs_lat + depth * sin_obs_lat]), np.array([x * sin_obs_lat + depth_prev * cos_obs_lat, y, -x * cos_obs_lat + depth_prev * sin_obs_lat]))\n",
    "        \n",
    "        optical_depth_array[i][j] = optical_depth_array[i][j - 1] + add"
   ]
  },
  {
   "cell_type": "markdown",
   "id": "d936333f",
   "metadata": {},
   "source": [
    "## Part 4. Computing The Image"
   ]
  },
  {
   "cell_type": "code",
   "execution_count": 92,
   "id": "516f86ff",
   "metadata": {},
   "outputs": [],
   "source": [
    "# 20 Defining the Optical Intensity Function\n",
    "asymmetry_constant = 0.6\n",
    "# The scattering asymmetry constant - Default : 0.5\n",
    "# This can change with each recompute, without altering the array, mainly changing front/back ratio\n",
    "scale_factor = 4 # The post-compute multiplier applied to the density/optical depths array\n",
    "\n",
    "@np.vectorize\n",
    "def intensity(x, y):\n",
    "    total = 0.0\n",
    "    # total number of unit photons reaching the specified pixel\n",
    "    i = coord_to_index(x, y)\n",
    "    for j in range(0, resolution + 1):\n",
    "        \n",
    "        depth = view_size - (1 + 2 * j) * view_size / (resolution + 1)\n",
    "        \n",
    "        cur = np.array([float(x * sin_obs_lat + depth * cos_obs_lat), float(y), float(-x * cos_obs_lat + depth * sin_obs_lat)])\n",
    "        # current point (precise value stored in array)\n",
    "        spherical = cartesian_to_spherical(cur) \n",
    "        # spherical of current point, to find the optical depth center\n",
    "        o_d_center = scale_factor * optical_depth_center_array[abs(int((angle_steps / 90) * (90 - (180 * spherical[1] / pi))))][int(spherical[0] / (2 * view_size) * distance_steps)]\n",
    "        # optical depth from center\n",
    "        o_d = scale_factor * optical_depth_array[i][j]\n",
    "        # optical depth from point of interest to earth\n",
    "        # the amount of photons from that point\n",
    "        if x == 0 and y == 0 and j == resolution / 2: # point of interest is central star\n",
    "            add = mpmath.exp(-scale_factor * optical_depth_array[coord_to_index(0, 0)][int(j)]) / ((view_length / (resolution + 1)) * (view_length / (resolution + 1)))\n",
    "        else:\n",
    "            scattering_cross_section = density(pi / 2 - spherical[1], spherical[0])[0]\n",
    "            add = (1 / (4 * pi * ((spherical[0]) * (spherical[0])))) * mpmath.exp(-o_d) * mpmath.exp(-o_d_center) * scale_factor * scattering_cross_section * (view_length / (resolution + 1)) * phase_function(vector_angle(np.array([cos_obs_lat, 0, sin_obs_lat]), cur))\n",
    "        total += add\n",
    "    return total"
   ]
  },
  {
   "cell_type": "code",
   "execution_count": 98,
   "id": "f05683f8-d7c2-4c07-9e84-646c519588da",
   "metadata": {},
   "outputs": [
    {
     "name": "stdout",
     "output_type": "stream",
     "text": [
      "0.1600421\n",
      "0.99999994\n",
      "0.14966813\n",
      "0.99999994\n"
     ]
    },
    {
     "data": {
      "image/png": "[encoded data removed]",
      "text/plain": [
       "<Figure size 432x288 with 1 Axes>"
      ]
     },
     "metadata": {
      "needs_background": "light"
     },
     "output_type": "display_data"
    }
   ],
   "source": [
    "# 21 Computing the Point Spread Function (PSF)\n",
    "data = fits.open(\"f547m_80s_raw_1.fits\")[0].data[0]\n",
    "            \n",
    "n = 9\n",
    "\n",
    "psf_x = 406\n",
    "psf_y = 478\n",
    "    \n",
    "psf_profile = data[psf_x - n + 1 : psf_x + n, psf_y - n + 1 : psf_y + n][::-1, ::-1] / data[psf_x - n + 1 : psf_x + n, psf_y - n + 1 : psf_y + n].ravel().sum()\n",
    "\n",
    "print(np.max(psf_profile))\n",
    "print(psf_profile.ravel().sum())\n",
    "\n",
    "n = 9\n",
    "\n",
    "psf_x = 508\n",
    "psf_y = 190\n",
    "    \n",
    "psf_profile = psf_profile / 2 + data[psf_x - n + 1 : psf_x + n, psf_y - n + 1 : psf_y + n][::-1, ::-1] / 2 / data[psf_x - n + 1 : psf_x + n, psf_y - n + 1 : psf_y + n].ravel().sum()\n",
    "\n",
    "print(np.max(psf_profile))\n",
    "print(psf_profile.ravel().sum())\n",
    "\n",
    "plt.imshow(psf_profile, cmap = 'afmhot')\n",
    "plt.show()"
   ]
  },
  {
   "cell_type": "code",
   "execution_count": 100,
   "id": "41b5aee9-b424-43eb-963d-c58a01678437",
   "metadata": {},
   "outputs": [
    {
     "name": "stdout",
     "output_type": "stream",
     "text": [
      "0.20182686731948032\n",
      "0.19634516350863673\n"
     ]
    },
    {
     "data": {
      "image/png": "[encoded data removed]",
      "text/plain": [
       "<Figure size 432x288 with 1 Axes>"
      ]
     },
     "metadata": {
      "needs_background": "light"
     },
     "output_type": "display_data"
    }
   ],
   "source": [
    "# 22 Computing the Star to Lobe Ratio\n",
    "hst_image = fits.open(\"80_raw_1.fits\")[0].data[0]\n",
    "\n",
    "x_array = np.linspace(-real_half_resolution * pixel_size, real_half_resolution * pixel_size, real_half_resolution * 2 + 1)\n",
    "\n",
    "center_x = 412\n",
    "center_y = 407\n",
    "\n",
    "angle_degrees = 105\n",
    "\n",
    "start_x = 150 + np.sin(angle_degrees * np.pi / 180) * angular_size / pixel_size\n",
    "end_x = 150 - np.sin(angle_degrees * np.pi / 180) * angular_size / pixel_size\n",
    "start_y = 150 + np.cos(angle_degrees * np.pi / 180) * angular_size / pixel_size\n",
    "end_y = 150 - np.cos(angle_degrees * np.pi / 180) * angular_size / pixel_size\n",
    "\n",
    "y_hst = skimage.measure.profile_line(hst_image[center_x - 150 : center_x + 150, center_y - 150 : center_y + 150], [start_x, start_y], [end_x, end_y], linewidth = 3)\n",
    "x_hst = np.linspace(-(len(y_hst) - 1) / 2 *  pixel_size, (len(y_hst) - 1) / 2 *  pixel_size, len(y_hst))\n",
    "y_hst = np.delete(y_hst, int(len(y_hst) / 2))\n",
    "y_hst = np.insert(y_hst, int(len(y_hst) / 2), hst_image[center_x, center_y])\n",
    "x_hst = np.delete(x_hst, int(len(y_hst) / 2))\n",
    "x_hst = np.insert(x_hst, int(len(y_hst) / 2), 0)\n",
    "\n",
    "y_hst_scaled = np.interp(x_array, x_hst, y_hst)\n",
    "\n",
    "normalizedYHST = y_hst_scaled / np.max(np.nan_to_num(np.array(y_hst_scaled, dtype = float)))\n",
    "plt.plot(x_array, normalizedYHST, color = 'red', alpha = 0.5, label = 'HST')\n",
    "\n",
    "plt.ylim(0, 0.2)\n",
    "\n",
    "true_star_value = float(np.max(normalizedYHST))\n",
    "true_lobe_value = float(np.max(normalizedYHST[0 : int(len(normalizedYHST) / 2 - 3)]))\n",
    "# print(star_value)\n",
    "print(true_lobe_value)\n",
    "# print(star_value / lobe_value)\n",
    "\n",
    "hst_image = fits.open(\"80_raw_2.fits\")[0].data[0]\n",
    "\n",
    "x_array = np.linspace(-real_half_resolution * pixel_size, real_half_resolution * pixel_size, real_half_resolution * 2 + 1)\n",
    "\n",
    "center_x = 412\n",
    "center_y = 407\n",
    "\n",
    "angle_degrees = 105\n",
    "\n",
    "start_x = 150 + np.sin(angle_degrees * np.pi / 180) * angular_size / pixel_size\n",
    "end_x = 150 - np.sin(angle_degrees * np.pi / 180) * angular_size / pixel_size\n",
    "start_y = 150 + np.cos(angle_degrees * np.pi / 180) * angular_size / pixel_size\n",
    "end_y = 150 - np.cos(angle_degrees * np.pi / 180) * angular_size / pixel_size\n",
    "\n",
    "y_hst = skimage.measure.profile_line(hst_image[center_x - 150 : center_x + 150, center_y - 150 : center_y + 150], [start_x, start_y], [end_x, end_y], linewidth = 3)\n",
    "x_hst = np.linspace(-(len(y_hst) - 1) / 2 *  pixel_size, (len(y_hst) - 1) / 2 *  pixel_size, len(y_hst))\n",
    "y_hst = np.delete(y_hst, int(len(y_hst) / 2))\n",
    "y_hst = np.insert(y_hst, int(len(y_hst) / 2), hst_image[center_x, center_y])\n",
    "x_hst = np.delete(x_hst, int(len(y_hst) / 2))\n",
    "x_hst = np.insert(x_hst, int(len(y_hst) / 2), 0)\n",
    "\n",
    "y_hst_scaled = np.interp(x_array, x_hst, y_hst)\n",
    "\n",
    "normalizedYHST = y_hst_scaled / np.max(np.nan_to_num(np.array(y_hst_scaled, dtype = float)))\n",
    "plt.plot(x_array, normalizedYHST, color = 'blue', alpha = 0.5, label = 'HST')\n",
    "\n",
    "plt.ylim(0, 0.25)\n",
    "\n",
    "true_star_value = float(np.max(normalizedYHST))\n",
    "true_lobe_value = float(np.max(normalizedYHST[0 : int(len(normalizedYHST) / 2 - 3)]))\n",
    "# print(star_value)\n",
    "print(true_lobe_value)\n",
    "plt.show()"
   ]
  },
  {
   "cell_type": "code",
   "execution_count": 95,
   "id": "d86d844c-b957-4da7-90d2-1c78b65876b8",
   "metadata": {},
   "outputs": [
    {
     "name": "stdout",
     "output_type": "stream",
     "text": [
      "1094.289440579773\n",
      "67.97397317860035\n",
      "4\n",
      "49.44520076009094\n",
      "67.97397317860035\n",
      "6\n",
      "238.65548249515345\n",
      "67.97397317860035\n",
      "5.0\n",
      "108.23459471434924\n",
      "67.97397317860035\n",
      "5.5\n",
      "73.09478150804654\n",
      "67.97397317860035\n",
      "5.75\n",
      "60.10625192523735\n",
      "67.97397317860035\n",
      "5.875\n",
      "66.27978580217317\n",
      "67.97397317860035\n",
      "5.8125\n",
      "69.60303595495377\n",
      "67.97397317860035\n",
      "5.78125\n",
      "67.92087160651523\n",
      "67.97397317860035\n",
      "5.796875\n",
      "68.75675491353626\n",
      "67.97397317860035\n",
      "5.7890625\n",
      "68.33752595352765\n",
      "67.97397317860035\n",
      "5.79296875\n",
      "68.12887937241949\n",
      "67.97397317860035\n",
      "5.794921875\n",
      "68.02479334305693\n",
      "67.97397317860035\n",
      "5.7958984375\n",
      "67.97281402203943\n",
      "67.97397317860035\n",
      "5.79638671875\n",
      "5.796142578125\n"
     ]
    },
    {
     "data": {
      "image/png": "[encoded data removed]",
      "text/plain": [
       "<Figure size 432x288 with 1 Axes>"
      ]
     },
     "metadata": {
      "needs_background": "light"
     },
     "output_type": "display_data"
    }
   ],
   "source": [
    "# 23 Finding the Optimal Density Scale Factor\n",
    "scale_factor = 4\n",
    "\n",
    "scale_factor_increment = 2\n",
    "\n",
    "found = False\n",
    "\n",
    "kernel_center = np.max(psf_profile)\n",
    "\n",
    "true_lobe_value = true_lobe_value\n",
    "\n",
    "while(found == False):\n",
    "    \n",
    "    side = np.linspace(-view_size, 0, int(resolution / 2) + 1)\n",
    "    sideY = np.linspace(0, 0, 1)\n",
    "    x, y = np.meshgrid(side, sideY)\n",
    "    np.seterr(divide = 'ignore')\n",
    "    Value = np.asarray(intensity(x, y)).astype('float32')[0]\n",
    "    \n",
    "    star_value = float(np.max(Value))\n",
    "    lobe_value = float(np.partition(Value, -2)[-2])\n",
    "    \n",
    "    ratio = star_value / lobe_value\n",
    "    \n",
    "    print(ratio)\n",
    "    print(1 / kernel_center / true_lobe_value * (pixel_size ** 2 / simulated_pixel_size ** 2))\n",
    "    print(scale_factor)\n",
    "    \n",
    "    if np.abs(ratio - 1 / kernel_center / true_lobe_value * (pixel_size ** 2 / simulated_pixel_size ** 2)) <= 0.01: \n",
    "        found = True\n",
    "        \n",
    "        plt.plot(Value)\n",
    "        plt.ylim(0, 2e-36)\n",
    "    \n",
    "    if ratio >= 1 / kernel_center / true_lobe_value * (pixel_size ** 2 / simulated_pixel_size ** 2):\n",
    "        scale_factor = scale_factor + scale_factor_increment\n",
    "        scale_factor_increment = scale_factor_increment / 2\n",
    "    else:\n",
    "        scale_factor = scale_factor - scale_factor_increment\n",
    "        scale_factor_increment = scale_factor_increment / 2\n",
    "        \n",
    "print(scale_factor)\n",
    "plt.show()"
   ]
  },
  {
   "cell_type": "code",
   "execution_count": 96,
   "id": "a9c7def2-1fdc-4d01-8a68-8d5583a3ad0b",
   "metadata": {},
   "outputs": [
    {
     "data": {
      "image/png": "[encoded data removed]",
      "text/plain": [
       "<Figure size 432x288 with 1 Axes>"
      ]
     },
     "metadata": {
      "needs_background": "light"
     },
     "output_type": "display_data"
    }
   ],
   "source": [
    "# 24 Previewing the Axial Brightness Profile\n",
    "side = np.linspace(-view_size, view_size, resolution + 1)\n",
    "sideY = np.linspace(0, 0, 1)\n",
    "x, y = np.meshgrid(side, sideY)\n",
    "np.seterr(divide = 'ignore')\n",
    "Value = np.asarray(intensity(x, y)).astype('float32')[0]\n",
    "\n",
    "x_array = np.linspace(-angular_size, angular_size, resolution + 1)\n",
    "\n",
    "x_array_real = np.linspace(-real_half_resolution * pixel_size, real_half_resolution * pixel_size, real_half_resolution * 2 + 1)\n",
    "\n",
    "transformed_value = np.interp(x_array_real, x_array, Value)\n",
    "\n",
    "transformed_value[real_half_resolution] = Value[int(resolution / 2)] * (simulated_pixel_size ** 2) / (pixel_size ** 2) * np.sum(psf_profile[8])\n",
    "\n",
    "kernel = psf_profile[8] / np.sum(psf_profile[8])\n",
    "psf_conv_profile = convolve(transformed_value, kernel, mode = 'same')\n",
    "\n",
    "# psf_conv_profile = convolve2d(np.asarray(Value.reshape(1, resolution + 1)).astype('float32'), psf_profile, mode = 'same')\n",
    "\n",
    "normalizedYArray = psf_conv_profile / np.max(np.nan_to_num(np.array(psf_conv_profile, dtype = float)))\n",
    "plt.plot(x_array_real, normalizedYArray, color = 'red', label = 'Simulated')\n",
    "plt.title(\"Estimated Brightness Along Symmetric Axis\")\n",
    "\n",
    "hst_image = fits.open(\"80_raw_2.fits\")[0].data[0]\n",
    "\n",
    "center_x = 412\n",
    "center_y = 407\n",
    "\n",
    "angle_degrees = 105\n",
    "\n",
    "start_x = 150 + np.sin(angle_degrees * np.pi / 180) * angular_size / pixel_size\n",
    "end_x = 150 - np.sin(angle_degrees * np.pi / 180) * angular_size / pixel_size\n",
    "start_y = 150 + np.cos(angle_degrees * np.pi / 180) * angular_size / pixel_size\n",
    "end_y = 150 - np.cos(angle_degrees * np.pi / 180) * angular_size / pixel_size\n",
    "\n",
    "y_hst = skimage.measure.profile_line(hst_image[center_x - 150 : center_x + 150, center_y - 150 : center_y + 150], [start_x, start_y], [end_x, end_y], linewidth = 3)\n",
    "x_hst = np.linspace(-(len(y_hst) - 1) / 2 *  pixel_size, (len(y_hst) - 1) / 2 *  pixel_size, len(y_hst))\n",
    "y_hst = np.delete(y_hst, int(len(y_hst) / 2))\n",
    "y_hst = np.insert(y_hst, int(len(y_hst) / 2), hst_image[center_x, center_y])\n",
    "x_hst = np.delete(x_hst, int(len(y_hst) / 2))\n",
    "x_hst = np.insert(x_hst, int(len(y_hst) / 2), 0)\n",
    "\n",
    "y_hst_scaled = np.interp(x_array_real, x_hst, y_hst)\n",
    "\n",
    "normalizedYHST = y_hst_scaled / np.max(np.nan_to_num(np.array(y_hst_scaled, dtype = float)))\n",
    "plt.plot(x_array_real, normalizedYHST, color = 'blue', alpha = 0.5, label = 'HST')\n",
    "\n",
    "plt.ylim(0, 0.25)\n",
    "\n",
    "plt.show()"
   ]
  },
  {
   "cell_type": "code",
   "execution_count": null,
   "id": "81f0d8e4",
   "metadata": {},
   "outputs": [
    {
     "name": "stderr",
     "output_type": "stream",
     "text": [
      " 11%|█         | 13976/125750 [45:35<2:01:59, 15.27it/s] "
     ]
    }
   ],
   "source": [
    "# 25 Computing The Full Cubical Optical Depth Array\n",
    "r = (resolution + 1) * (int(resolution / 2) + 1) - 1\n",
    "for i in tqdm(range(0, r)):\n",
    "    for j in range(0, resolution + 1):\n",
    "        remainder = i % (resolution + 1)\n",
    "        if remainder > (resolution / 2):\n",
    "            optical_depth_array[i][j] = optical_depth_array[int(i - 2 * (remainder - resolution / 2))][resolution] - optical_depth_array[int(i - 2 * (remainder - resolution / 2))][resolution - j]\n",
    "        \n",
    "        if j == 0: \n",
    "            optical_depth_array[i][j] = 0\n",
    "            continue # jump out the current j loop\n",
    "        \n",
    "        # For each coordinate, accumulate the optical depth along the line of sight\n",
    "        x = index_to_x(i)\n",
    "        y = index_to_y(i)\n",
    "        \n",
    "        depth = view_size - (1 + 2 * j) * view_size / (resolution + 1)\n",
    "        depth_prev = view_size - (1 + 2 * (j - 1)) * view_size / (resolution + 1)\n",
    "        \n",
    "        add = optical_depth_progression(np.array([x * sin_obs_lat + depth * cos_obs_lat, y, -x * cos_obs_lat + depth * sin_obs_lat]), np.array([x * sin_obs_lat + depth_prev * cos_obs_lat, y, -x * cos_obs_lat + depth_prev * sin_obs_lat]))\n",
    "        \n",
    "        optical_depth_array[i][j] = optical_depth_array[i][j - 1] + add"
   ]
  },
  {
   "cell_type": "code",
   "execution_count": 30,
   "id": "57f830ce-12ce-4410-9428-4ae8a9b58b84",
   "metadata": {},
   "outputs": [],
   "source": [
    "# 26 Computing The Top Half Image\n",
    "side = np.linspace(-view_size, view_size, resolution + 1)\n",
    "sideY = np.linspace(0, view_size, int(resolution / 2) + 1)\n",
    "x, y = np.meshgrid(side, sideY)\n",
    "np.seterr(divide = 'ignore')\n",
    "Value = intensity(x, y) # compute half of the intensity map"
   ]
  },
  {
   "cell_type": "code",
   "execution_count": 31,
   "id": "38aa6203",
   "metadata": {},
   "outputs": [],
   "source": [
    "# 27 Generating Full Image from Half Image\n",
    "@np.vectorize\n",
    "def findValue(x, y):\n",
    "    cur_x = int((x / (angular_size) + 1) * resolution / 2)\n",
    "    cur_y = round(y * resolution / angular_size / 2)\n",
    "    if y > 0:\n",
    "        return float(Value[cur_y][cur_x])\n",
    "    elif y == 0:\n",
    "        return float(Value[0][cur_x])\n",
    "    else:\n",
    "        return float(Value[-cur_y][cur_x])"
   ]
  },
  {
   "cell_type": "code",
   "execution_count": 32,
   "id": "d1b2264a",
   "metadata": {},
   "outputs": [
    {
     "data": {
      "image/png": "[encoded data removed]",
      "text/plain": [
       "<Figure size 720x360 with 2 Axes>"
      ]
     },
     "metadata": {
      "needs_background": "light"
     },
     "output_type": "display_data"
    }
   ],
   "source": [
    "# 28 Plotting the Raw Calculated Image\n",
    "side_angular = np.linspace(-angular_size, angular_size, resolution + 1)\n",
    "X, Y = np.meshgrid(side_angular, side_angular)\n",
    "np.seterr(divide = 'ignore')\n",
    "fullValues = findValue(X, Y)\n",
    "\n",
    "f = plt.figure(figsize = (10, 5))\n",
    "ax = f.add_subplot(121, aspect = 1)\n",
    "\n",
    "plt.xlabel(\"Horizontal Offset (arcsec)\")\n",
    "plt.ylabel(\"Vertical Offset (arcsec)\")\n",
    "plt.title(\"Image\")\n",
    "ax.pcolormesh(X, Y, fullValues, vmin = 0, vmax = np.max(fullValues[int(resolution / 2 + 1)][0 : int(resolution / 2 - 1)]), cmap = 'afmhot', shading = 'auto')\n",
    "plt.gca().set_aspect('equal')\n",
    "\n",
    "ax2 = f.add_subplot(122)\n",
    "x_array = np.linspace(-angular_size, angular_size, resolution + 1)\n",
    "y_array = fullValues[int(resolution / 2)]\n",
    "normalizedYArray = y_array / np.max(np.nan_to_num(np.array(y_array, dtype = float)))\n",
    "ax2.plot(x_array, normalizedYArray, color = 'red')\n",
    "x_pos = (1 + np.min(normalizedYArray)) / 2\n",
    "ax2.set_ylabel(\"Normalized Pixel Value\")\n",
    "plt.title(\"Brightness Along Symmetric Axis\")\n",
    "\n",
    "plt.annotate(\"Observing Latitude: \" + str(observing_latitude_degrees) + \" degrees;\\n\" + \"g (asymmetry constant) =\" + str(asymmetry_constant) + \";\\nmdot=\" + str(round(mdot_solar_masses * scale_factor, 6)) + \" \" + '$ M_{\\odot}$' + \"/year\", xy = (-angular_size, x_pos), color = 'blue')\n",
    "\n",
    "# ax3 = ax2.twinx()\n",
    "# ax3.plot(x_array, np.nan_to_num(np.array(y_array, dtype = float)), color = 'blue', alpha = 0)\n",
    "# ax3.set_ylabel(\"Absolute Intensity (Not currently Implemented)\")\n",
    "\n",
    "plt.show()"
   ]
  },
  {
   "cell_type": "code",
   "execution_count": 34,
   "id": "6cf150b4-7a01-40e8-a87d-df5f8bd071a5",
   "metadata": {},
   "outputs": [
    {
     "name": "stderr",
     "output_type": "stream",
     "text": [
      "100%|██████████| 353/353 [00:00<00:00, 821.14it/s]\n"
     ]
    }
   ],
   "source": [
    "# 29 Post Downscaling the Image to the HST Resolution\n",
    "downscaled = np.zeros((real_half_resolution * 2 + 1, real_half_resolution * 2 + 1))\n",
    "\n",
    "for i in tqdm(range(real_half_resolution * 2 + 1)):\n",
    "    \n",
    "    for j in range(real_half_resolution * 2 + 1):\n",
    "        \n",
    "        real_x_coordinate = (i - real_half_resolution) * pixel_size\n",
    "        real_y_coordinate = (j - real_half_resolution) * pixel_size\n",
    "        \n",
    "        projected_x_coordinate = real_x_coordinate / simulated_pixel_size + resolution / 2\n",
    "        projected_y_coordinate = real_y_coordinate / simulated_pixel_size + resolution / 2\n",
    "        \n",
    "        projected_x_min = int(projected_x_coordinate)\n",
    "        projected_y_min = int(projected_y_coordinate)\n",
    "        \n",
    "        projected_x_max = int(projected_x_coordinate + 1)\n",
    "        projected_y_max = int(projected_y_coordinate + 1)\n",
    "        \n",
    "        distance_to_x_min_y_min = sqrt((projected_x_coordinate - projected_x_min) ** 2 + (projected_y_coordinate - projected_y_min) ** 2)\n",
    "        distance_to_x_min_y_max = sqrt((projected_x_coordinate - projected_x_min) ** 2 + (projected_y_coordinate - projected_y_max) ** 2)\n",
    "        distance_to_x_max_y_min = sqrt((projected_x_coordinate - projected_x_max) ** 2 + (projected_y_coordinate - projected_y_min) ** 2)\n",
    "        distance_to_x_max_y_max = sqrt((projected_x_coordinate - projected_x_max) ** 2 + (projected_y_coordinate - projected_y_max) ** 2)\n",
    "        \n",
    "        sum_of_distance = distance_to_x_min_y_min + distance_to_x_min_y_max + distance_to_x_max_y_min + distance_to_x_max_y_max\n",
    "        \n",
    "        projected_value = (fullValues[projected_x_min][projected_y_min] * distance_to_x_min_y_min + \n",
    "        fullValues[projected_x_min][projected_y_max] * distance_to_x_min_y_max + \n",
    "        fullValues[projected_x_max][projected_y_min] * distance_to_x_max_y_min + \n",
    "        fullValues[projected_x_max][projected_y_max] * distance_to_x_max_y_max) / sum_of_distance\n",
    "        \n",
    "        downscaled[i][j] = projected_value\n",
    "        \n",
    "downscaled[real_half_resolution][real_half_resolution] = fullValues[int(resolution / 2)][int(resolution / 2)] * (simulated_pixel_size / pixel_size) ** 2\n",
    "\n",
    "for dx in [-1, 0, 1]:\n",
    "    for dy in [-1, 0, 1]:\n",
    "        if dx == 0 and dy == 0:\n",
    "            continue  # Skip the center pixel itself\n",
    "        downscaled[real_half_resolution + dx, real_half_resolution + dy] = 0\n",
    "        \n",
    "plt.imshow(downscaled, vmin = 0, vmax = np.max(fullValues[int(resolution / 2 + 1)][0 : int(resolution / 2 - 1)]), cmap = 'afmhot')"
   ]
  },
  {
   "cell_type": "code",
   "execution_count": null,
   "id": "49fee15e-b6fa-4fba-87d4-69a6bf8b423a",
   "metadata": {},
   "outputs": [],
   "source": [
    "# 30 Convolving the Calculated Image With the HST PSF\n",
    "psf_conv = convolve2d(downscaled, psf_profile, mode = 'same')"
   ]
  },
  {
   "cell_type": "code",
   "execution_count": null,
   "id": "ac7d5cbc-5723-4479-9224-a30e974ab5c9",
   "metadata": {},
   "outputs": [
    {
     "data": {
      "text/plain": [
       "<matplotlib.image.AxesImage at 0x7f7f43888210>"
      ]
     },
     "execution_count": 38,
     "metadata": {},
     "output_type": "execute_result"
    },
    {
     "data": {
      "image/png": "[encoded data removed]",
      "text/plain": [
       "<Figure size 432x288 with 1 Axes>"
      ]
     },
     "metadata": {
      "needs_background": "light"
     },
     "output_type": "display_data"
    }
   ],
   "source": [
    "# 31 Rotating the HST Image to Calculate the Mean Squared Error\n",
    "hst_image = fits.open(\"80_raw_1.fits\")[0].data[0]\n",
    "\n",
    "min_val = 0\n",
    "max_val = 3500\n",
    "\n",
    "hst_image[hst_image < min_val] = min_val\n",
    "hst_image[hst_image > max_val] = max_val\n",
    "\n",
    "# Normalize the image to range [0, 1]\n",
    "hst_image = hst_image / max_val\n",
    "\n",
    "# Scale to [0, 255]\n",
    "hst_image = (hst_image * 255).astype('uint8')\n",
    "\n",
    "center_x = 270 # 412\n",
    "center_y = 270 # 407\n",
    "\n",
    "# center_x, center_y = hst_image.shape[0] // 2, hst_image.shape[1] // 2\n",
    "\n",
    "angle_degrees = 180 + 105\n",
    "\n",
    "scale = 1\n",
    "\n",
    "hst_image_rotation_matrix = cv2.getRotationMatrix2D((center_x, center_y), angle_degrees, scale)\n",
    "\n",
    "# Perform the rotation and downsampling\n",
    "hst_image_rotated = cv2.warpAffine(\n",
    "    hst_image,\n",
    "    hst_image_rotation_matrix,\n",
    "    (int(hst_image.shape[0] * scale), int(hst_image.shape[1] * scale)),\n",
    "    flags = cv2.INTER_AREA\n",
    ")\n",
    "\n",
    "# plt.imshow(hst_image_rotated, vmin = 0, vmax = 25, cmap = 'afmhot')\n",
    "\n",
    "hst_image_rotated_x = 439\n",
    "hst_image_rotated_y = 168\n",
    "\n",
    "n = 120\n",
    "\n",
    "hst_rotated = hst_image_rotated[hst_image_rotated_x - n + 1 : hst_image_rotated_x + n, hst_image_rotated_y - n + 1 : hst_image_rotated_y + n] / hst_image_rotated[hst_image_rotated_x][hst_image_rotated_y]\n",
    "\n",
    "hst_rotated[175 :] = 0\n",
    "\n",
    "hst_rotated[: 75] = 0\n",
    "\n",
    "plt.imshow(hst_rotated, vmin = 0, vmax = 0.15, cmap = 'afmhot')\n",
    "\n",
    "psf_conv_normalized = psf_conv / np.amax(psf_conv)\n",
    "\n",
    "psf_conv_normalized = psf_conv_normalized[real_half_resolution - n + 1 : real_half_resolution + n, real_half_resolution - n + 1 : real_half_resolution + n]\n",
    "\n",
    "plt.imshow(psf_conv_normalized, vmin = 0, vmax = 0.15, cmap = 'afmhot')\n",
    "\n",
    "plt.show()\n",
    "\n",
    "mse = mean_squared_error(hst_rotated, psf_conv_normalized)\n",
    "print(\"MSE:\", mse)"
   ]
  },
  {
   "cell_type": "code",
   "execution_count": null,
   "id": "78bc848f-4474-42bc-8b58-f8ca9f83471c",
   "metadata": {},
   "outputs": [
    {
     "data": {
      "image/png": "[encoded data removed]",
      "text/plain": [
       "<Figure size 720x360 with 2 Axes>"
      ]
     },
     "metadata": {
      "needs_background": "light"
     },
     "output_type": "display_data"
    }
   ],
   "source": [
    "# 32 Plotting the Processed Image\n",
    "\n",
    "hst_image = fits.open(\"80_raw_1.fits\")[0].data[0]\n",
    "\n",
    "x_array = np.linspace(-real_half_resolution * pixel_size, real_half_resolution * pixel_size, real_half_resolution * 2 + 1)\n",
    "\n",
    "center_x = 412\n",
    "center_y = 407\n",
    "\n",
    "angle_degrees = 105\n",
    "\n",
    "f = plt.figure(figsize = (10, 5))\n",
    "ax = f.add_subplot(121, aspect = 1)\n",
    "\n",
    "plt.xlabel(\"Horizontal Offset (arcsec)\")\n",
    "plt.ylabel(\"Vertical Offset (arcsec)\")\n",
    "plt.title(\"Image\")\n",
    "\n",
    "side_angular = np.linspace(-real_half_resolution * pixel_size, real_half_resolution * pixel_size, real_half_resolution * 2 + 1)\n",
    "X, Y = np.meshgrid(side_angular, side_angular)\n",
    "\n",
    "ax.pcolormesh(X, Y, psf_conv, cmap = 'afmhot', shading = 'auto')\n",
    "plt.gca().set_aspect('equal')\n",
    "\n",
    "ax2 = f.add_subplot(122)\n",
    "x_array = np.linspace(-real_half_resolution * pixel_size, real_half_resolution * pixel_size, real_half_resolution * 2 + 1)\n",
    "y_array = psf_conv[real_half_resolution]\n",
    "normalizedYArray = y_array / np.max(np.nan_to_num(np.array(y_array, dtype = float)))\n",
    "ax2.plot(x_array, normalizedYArray, color = 'red', label = 'Simulated')\n",
    "x_pos = (3 + np.min(normalizedYArray)) / 4\n",
    "ax2.set_ylabel(\"Normalized Pixel Value\")\n",
    "plt.title(\"Brightness Along Symmetric Axis\")\n",
    "\n",
    "y_hst_scaled = np.interp(x_array, x_hst, y_hst)\n",
    "normalizedYHST = y_hst_scaled / np.max(np.nan_to_num(np.array(y_hst_scaled, dtype = float)))\n",
    "\n",
    "ax2.plot(x_array, normalizedYHST, color = 'blue', alpha = 0.5, label = 'HST')\n",
    "\n",
    "plt.annotate(\"Observing Latitude: \" + str(observing_latitude_degrees) + \" degrees;\\n\" + \"g (asymmetry constant) =\" + str(asymmetry_constant) + \";\\nmdot=\" + str(round(mdot_solar_masses * scale_factor, 6)) + \" \" + '$ M_{\\odot}$' + \"/year\", xy = (-angular_size, x_pos), color = 'blue')\n",
    "\n",
    "# ax3 = ax2.twinx()\n",
    "# ax3.plot(x_array, np.nan_to_num(np.array(y_array, dtype = float)), color = 'blue', alpha = 0)\n",
    "# ax3.set_ylabel(\"Absolute Intensity (Not currently Implemented)\")\n",
    "\n",
    "plt.ylim(0, 0.2)\n",
    "\n",
    "plt.legend()\n",
    "plt.show()"
   ]
  },
  {
   "cell_type": "code",
   "execution_count": null,
   "id": "df8a7ec4-fb04-4a8c-9a6d-26e0a06f3b33",
   "metadata": {},
   "outputs": [],
   "source": [
    "# 33 Saving Processed Image\n",
    "hdul = fits.PrimaryHDU(data = psf_conv / np.amax(psf_conv))\n",
    "string = \"final_outputd.fits\"\n",
    "hdul.writeto(string, overwrite = True)"
   ]
  },
  {
   "cell_type": "code",
   "execution_count": null,
   "id": "3517fe76",
   "metadata": {},
   "outputs": [
    {
     "ename": "TypeError",
     "evalue": "unsupported operand type(s) for +: 'float' and 'tuple'",
     "output_type": "error",
     "traceback": [
      "\u001b[0;31m---------------------------------------------------------------------------\u001b[0m",
      "\u001b[0;31mTypeError\u001b[0m                                 Traceback (most recent call last)",
      "Cell \u001b[0;32mIn[45], line 11\u001b[0m\n\u001b[1;32m      9\u001b[0m z \u001b[38;5;241m=\u001b[39m \u001b[38;5;241m-\u001b[39mview_size\n\u001b[1;32m     10\u001b[0m \u001b[38;5;28;01mwhile\u001b[39;00m z \u001b[38;5;241m<\u001b[39m\u001b[38;5;241m=\u001b[39m view_size:\n\u001b[0;32m---> 11\u001b[0m     total_mass \u001b[38;5;241m=\u001b[39m total_mass \u001b[38;5;241m+\u001b[39m density_cartesian(np\u001b[38;5;241m.\u001b[39marray([x,y,z]))\n\u001b[1;32m     12\u001b[0m     z \u001b[38;5;241m+\u001b[39m\u001b[38;5;241m=\u001b[39m \u001b[38;5;241m1e16\u001b[39m\n\u001b[1;32m     13\u001b[0m y \u001b[38;5;241m+\u001b[39m\u001b[38;5;241m=\u001b[39m \u001b[38;5;241m1e16\u001b[39m\n",
      "\u001b[0;31mTypeError\u001b[0m: unsupported operand type(s) for +: 'float' and 'tuple'"
     ]
    }
   ],
   "source": [
    "# 34 Calculating Total Mass\n",
    "total_mass = 0.0\n",
    "x = -view_size\n",
    "y = -view_size\n",
    "z = -view_size\n",
    "while x <= view_size:\n",
    "    y = -view_size\n",
    "    while y <= view_size:\n",
    "        z = -view_size\n",
    "        while z <= view_size:\n",
    "            total_mass = total_mass + density_cartesian(np.array([x,y,z]))[2]\n",
    "            z += 1e16\n",
    "        y += 1e16\n",
    "    x += 1e16\n",
    "total_mass = total_mass * 1e48 * scale_factor\n",
    "print(\"Total Mass is: \" + str(total_mass / 2e33))"
   ]
  },
  {
   "cell_type": "code",
   "execution_count": null,
   "id": "2ceea34d-527c-4aef-bd1f-f31252dda9d4",
   "metadata": {},
   "outputs": [],
   "source": [
    "# 35 Displaying the -1 Arcseconds Offset Profile\n",
    "offset = -1\n",
    "\n",
    "start_x = 200 - sin(angle_degrees * pi / 180) * offset / pixel_size + cos(angle_degrees * pi / 180) * angular_size / pixel_size\n",
    "end_x = 200 - sin(angle_degrees * pi / 180) * offset / pixel_size - cos(angle_degrees * pi / 180) * angular_size / pixel_size\n",
    "start_y = 200 - cos(angle_degrees * pi / 180) * offset / pixel_size - sin(angle_degrees * pi / 180) * angular_size / pixel_size\n",
    "end_y = 200 - cos(angle_degrees * pi / 180) * offset / pixel_size + sin(angle_degrees * pi / 180) * angular_size / pixel_size\n",
    "\n",
    "y_array = skimage.measure.profile_line(hst_image[center_x - 200 : center_x + 200, center_y - 200 : center_y + 200], [start_x, start_y], [end_x, end_y], linewidth = 1)\n",
    "x_array = np.linspace((len(y_array) - 1) / 2 * pixel_size, -(len(y_array) - 1) / 2 * pixel_size, len(y_array))\n",
    "plt.plot(x_array, y_array / np.max(np.nan_to_num(np.array(y_hst_scaled, dtype = float))), color = 'blue', label = \"HST\")\n",
    "plt.title(f\"Offset {offset}\\'\\'\")\n",
    "\n",
    "y_array = skimage.measure.profile_line(psf_conv, [real_half_resolution * 2 + 1, real_half_resolution + offset / pixel_size], [0, real_half_resolution + offset / pixel_size], linewidth = 1)\n",
    "x_array = np.linspace(-angular_size, angular_size, len(y_array))\n",
    "plt.plot(x_array, y_array / np.max(np.nan_to_num(np.array(psf_conv[real_half_resolution], dtype = float))), color = 'red', label = \"Simulated\")\n",
    "plt.gca().set_aspect(2 * angular_size / 0.2)\n",
    "plt.ylim([0, 0.2])\n",
    "plt.legend()\n",
    "plt.show()"
   ]
  },
  {
   "cell_type": "code",
   "execution_count": null,
   "id": "db5027e4-6739-48db-aa3a-7298812c9d14",
   "metadata": {},
   "outputs": [],
   "source": [
    "# 36 Displaying the -4 Arcseconds Offset Profile\n",
    "offset = -4\n",
    "\n",
    "start_x = 200 - sin(angle_degrees * pi / 180) * offset / pixel_size + cos(angle_degrees * pi / 180) * angular_size / pixel_size\n",
    "end_x = 200 - sin(angle_degrees * pi / 180) * offset / pixel_size - cos(angle_degrees * pi / 180) * angular_size / pixel_size\n",
    "start_y = 200 - cos(angle_degrees * pi / 180) * offset / pixel_size - sin(angle_degrees * pi / 180) * angular_size / pixel_size\n",
    "end_y = 200 - cos(angle_degrees * pi / 180) * offset / pixel_size + sin(angle_degrees * pi / 180) * angular_size / pixel_size\n",
    "\n",
    "y_array_4 = skimage.measure.profile_line(hst_image[center_x - 200 : center_x + 200, center_y - 200 : center_y + 200], [start_x, start_y], [end_x, end_y], linewidth = 1)\n",
    "x_array = np.linspace((len(y_array_4) - 1) / 2 * pixel_size, -(len(y_array_4) - 1) / 2 * pixel_size, len(y_array_4))\n",
    "y_array_4 = y_array_4 / np.max(np.nan_to_num(np.array(y_hst_scaled, dtype = float)))\n",
    "plt.plot(x_array, y_array_4, color = 'blue', label = \"HST\")\n",
    "plt.title(f\"Offset {offset}\\'\\'\")\n",
    "\n",
    "y_array_calculated_4 = skimage.measure.profile_line(psf_conv, [real_half_resolution * 2 + 1, real_half_resolution + offset / pixel_size], [0, real_half_resolution + offset / pixel_size], linewidth = 1)\n",
    "x_array = np.linspace(-angular_size, angular_size, len(y_array_calculated_4))\n",
    "y_array_calculated_4 = y_array_calculated_4 / np.max(np.nan_to_num(np.array(psf_conv[real_half_resolution], dtype = float)))\n",
    "plt.plot(x_array, y_array_calculated_4, color = 'red', label = \"Simulated\")\n",
    "plt.gca().set_aspect(2 * angular_size / 0.2)\n",
    "plt.ylim([0, 0.2])\n",
    "plt.legend()\n",
    "plt.show()"
   ]
  },
  {
   "cell_type": "code",
   "execution_count": null,
   "id": "cc146a0b-de2e-490b-b237-3ddd61637530",
   "metadata": {},
   "outputs": [],
   "source": [
    "# 37 Displaying the -5 Arcseconds Offset Profile\n",
    "offset = -5\n",
    "\n",
    "start_x = 200 - sin(angle_degrees * pi / 180) * offset / pixel_size + cos(angle_degrees * pi / 180) * angular_size / pixel_size\n",
    "end_x = 200 - sin(angle_degrees * pi / 180) * offset / pixel_size - cos(angle_degrees * pi / 180) * angular_size / pixel_size\n",
    "start_y = 200 - cos(angle_degrees * pi / 180) * offset / pixel_size - sin(angle_degrees * pi / 180) * angular_size / pixel_size\n",
    "end_y = 200 - cos(angle_degrees * pi / 180) * offset / pixel_size + sin(angle_degrees * pi / 180) * angular_size / pixel_size\n",
    "\n",
    "y_array_5 = skimage.measure.profile_line(hst_image[center_x - 200 : center_x + 200, center_y - 200 : center_y + 200], [start_x, start_y], [end_x, end_y], linewidth = 1)\n",
    "x_array = np.linspace((len(y_array_5) - 1) / 2 * pixel_size, -(len(y_array_5) - 1) / 2 * pixel_size, len(y_array_5))\n",
    "plt.plot(x_array, y_array_5 / np.max(np.nan_to_num(np.array(y_hst_scaled, dtype = float))), color = 'blue', label = \"HST\")\n",
    "plt.title(f\"Offset {offset}\\'\\'\")\n",
    "\n",
    "y_array_calculated_5 = skimage.measure.profile_line(psf_conv, [real_half_resolution * 2 + 1, real_half_resolution + offset / pixel_size], [0, real_half_resolution + offset / pixel_size], linewidth = 1)\n",
    "x_array = np.linspace(-angular_size, angular_size, len(y_array_calculated_5))\n",
    "plt.plot(x_array, y_array_calculated_5 / np.max(np.nan_to_num(np.array(psf_conv[real_half_resolution], dtype = float))), color = 'red', label = \"Simulated\")\n",
    "plt.gca().set_aspect(2 * angular_size / 0.02)\n",
    "plt.ylim([0, 0.02])\n",
    "plt.legend()\n",
    "plt.show()"
   ]
  },
  {
   "cell_type": "code",
   "execution_count": null,
   "id": "a97d503f-15bc-41c9-99f6-fb45dfb9c588",
   "metadata": {},
   "outputs": [],
   "source": [
    "# 38 Displaying the -3 Arcseconds Offset Profile\n",
    "offset = -3\n",
    "\n",
    "start_x = 200 - sin(angle_degrees * pi / 180) * offset / pixel_size + cos(angle_degrees * pi / 180) * angular_size / pixel_size\n",
    "end_x = 200 - sin(angle_degrees * pi / 180) * offset / pixel_size - cos(angle_degrees * pi / 180) * angular_size / pixel_size\n",
    "start_y = 200 - cos(angle_degrees * pi / 180) * offset / pixel_size - sin(angle_degrees * pi / 180) * angular_size / pixel_size\n",
    "end_y = 200 - cos(angle_degrees * pi / 180) * offset / pixel_size + sin(angle_degrees * pi / 180) * angular_size / pixel_size\n",
    "\n",
    "y_array_3 = skimage.measure.profile_line(hst_image[center_x - 200 : center_x + 200, center_y - 200 : center_y + 200], [start_x, start_y], [end_x, end_y], linewidth = 1)\n",
    "x_array = np.linspace((len(y_array_3) - 1) / 2 * pixel_size, -(len(y_array_3) - 1) / 2 * pixel_size, len(y_array_3))\n",
    "y_array_3 = y_array_3 / np.max(np.nan_to_num(np.array(y_hst_scaled, dtype = float)))\n",
    "plt.plot(x_array, y_array_3, color = 'blue', label = \"HST\")\n",
    "plt.title(f\"Offset {offset}\\'\\'\")\n",
    "\n",
    "y_array_calculated_3 = skimage.measure.profile_line(psf_conv, [real_half_resolution * 2 + 1, real_half_resolution + offset / pixel_size], [0, real_half_resolution + offset / pixel_size], linewidth = 1)\n",
    "x_array = np.linspace(-angular_size, angular_size, len(y_array_calculated_3))\n",
    "y_array_calculated_3 = y_array_calculated_3 / np.max(np.nan_to_num(np.array(psf_conv[real_half_resolution], dtype = float)))\n",
    "plt.plot(x_array, y_array_calculated_3, color = 'red', label = \"Simulated\")\n",
    "plt.gca().set_aspect(2 * angular_size / 0.2)\n",
    "plt.ylim([0, 0.2])\n",
    "plt.legend()\n",
    "plt.show()"
   ]
  },
  {
   "cell_type": "code",
   "execution_count": null,
   "id": "f8de35bf-72d2-45dd-aae3-f7c7633d31dd",
   "metadata": {},
   "outputs": [],
   "source": [
    "# 39 Displaying the -2.3 Arcseconds Offset Profile\n",
    "offset = -2.3\n",
    "\n",
    "start_x = 200 - sin(angle_degrees * pi / 180) * offset / pixel_size + cos(angle_degrees * pi / 180) * angular_size / pixel_size\n",
    "end_x = 200 - sin(angle_degrees * pi / 180) * offset / pixel_size - cos(angle_degrees * pi / 180) * angular_size / pixel_size\n",
    "start_y = 200 - cos(angle_degrees * pi / 180) * offset / pixel_size - sin(angle_degrees * pi / 180) * angular_size / pixel_size\n",
    "end_y = 200 - cos(angle_degrees * pi / 180) * offset / pixel_size + sin(angle_degrees * pi / 180) * angular_size / pixel_size\n",
    "\n",
    "y_array = skimage.measure.profile_line(hst_image[center_x - 200 : center_x + 200, center_y - 200 : center_y + 200], [start_x, start_y], [end_x, end_y], linewidth = 1)\n",
    "x_array = np.linspace((len(y_array) - 1) / 2 * pixel_size, -(len(y_array) - 1) / 2 * pixel_size, len(y_array))\n",
    "plt.plot(x_array, y_array / np.max(np.nan_to_num(np.array(y_hst_scaled, dtype = float))), color = 'blue', label = \"HST\")\n",
    "plt.title(f\"Offset {offset}\\'\\'\")\n",
    "\n",
    "y_array = skimage.measure.profile_line(psf_conv, [real_half_resolution * 2 + 1, real_half_resolution + offset / pixel_size], [0, real_half_resolution + offset / pixel_size], linewidth = 1)\n",
    "x_array = np.linspace(-angular_size, angular_size, len(y_array))\n",
    "plt.plot(x_array, y_array / np.max(np.nan_to_num(np.array(psf_conv[real_half_resolution], dtype = float))), color = 'red', label = \"Simulated\")\n",
    "plt.gca().set_aspect(2 * angular_size / 0.2)\n",
    "plt.ylim([0, 0.2])\n",
    "plt.legend()\n",
    "plt.show()"
   ]
  },
  {
   "cell_type": "code",
   "execution_count": null,
   "id": "992896b0-ccbe-4260-84f8-323209de12c1",
   "metadata": {},
   "outputs": [],
   "source": [
    "# 40 Displaying the -2.3 Arcseconds Offset Profile With Drizzled Data\n",
    "hst_image_drizzled = fits.open(\"f547m_80s_1.fits\")[1].data\n",
    "\n",
    "offset = -2.4\n",
    "\n",
    "center_x_drizzled = 954\n",
    "center_y_drizzled = 968\n",
    "\n",
    "start_x = 200 - sin(angle_degrees * pi / 180) * offset / 0.1013 + cos(angle_degrees * pi / 180) * angular_size / 0.1013\n",
    "end_x = 200 - sin(angle_degrees * pi / 180) * offset / 0.1013 - cos(angle_degrees * pi / 180) * angular_size / 0.1013\n",
    "start_y = 200 - cos(angle_degrees * pi / 180) * offset / 0.1013 - sin(angle_degrees * pi / 180) * angular_size / 0.1013\n",
    "end_y = 200 - cos(angle_degrees * pi / 180) * offset / 0.1013 + sin(angle_degrees * pi / 180) * angular_size / 0.1013\n",
    "\n",
    "y_array = skimage.measure.profile_line(hst_image_drizzled[center_x_drizzled - 200 : center_x_drizzled + 200, center_y_drizzled - 200 : center_y_drizzled + 200], [start_x, start_y], [end_x, end_y], linewidth = 1)\n",
    "x_array = np.linspace((len(y_array) - 1) / 2 * 0.1013, -(len(y_array) - 1) / 2 * 0.1013, len(y_array))\n",
    "plt.plot(x_array, y_array / hst_image_drizzled[center_x_drizzled][center_y_drizzled] / ((21.444357 / hst_image_drizzled[center_x_drizzled][center_y_drizzled]) / true_lobe_value), color = 'blue', label = \"HST\")\n",
    "plt.title(f\"Offset {offset}\\'\\'\")\n",
    "\n",
    "y_array = skimage.measure.profile_line(psf_conv, [real_half_resolution * 2 + 1, real_half_resolution + offset / pixel_size], [0, real_half_resolution + offset / pixel_size], linewidth = 1)\n",
    "x_array = np.linspace(-angular_size, angular_size, len(y_array))\n",
    "plt.plot(x_array, y_array / np.max(np.nan_to_num(np.array(psf_conv[real_half_resolution], dtype = float))), color = 'red', label = \"Simulated\")\n",
    "plt.gca().set_aspect(2 * angular_size / 0.2)\n",
    "plt.ylim([0, 0.2])\n",
    "plt.legend()\n",
    "plt.show()"
   ]
  },
  {
   "cell_type": "code",
   "execution_count": null,
   "id": "e8909cda-7cf5-4bb8-85b9-9356d262ebd9",
   "metadata": {},
   "outputs": [],
   "source": [
    "# 41 Displaying the -2 Arcseconds Offset Profile With Drizzled Data\n",
    "offset = -2\n",
    "\n",
    "start_x = 200 - sin(angle_degrees * pi / 180) * offset / pixel_size + cos(angle_degrees * pi / 180) * angular_size / pixel_size\n",
    "end_x = 200 - sin(angle_degrees * pi / 180) * offset / pixel_size - cos(angle_degrees * pi / 180) * angular_size / pixel_size\n",
    "start_y = 200 - cos(angle_degrees * pi / 180) * offset / pixel_size - sin(angle_degrees * pi / 180) * angular_size / pixel_size\n",
    "end_y = 200 - cos(angle_degrees * pi / 180) * offset / pixel_size + sin(angle_degrees * pi / 180) * angular_size / pixel_size\n",
    "\n",
    "y_array_2 = skimage.measure.profile_line(hst_image[center_x - 200 : center_x + 200, center_y - 200 : center_y + 200], [start_x, start_y], [end_x, end_y], linewidth = 1)\n",
    "x_array = np.linspace((len(y_array_2) - 1) / 2 * pixel_size, -(len(y_array_2) - 1) / 2 * pixel_size, len(y_array_2))\n",
    "y_array_2 = y_array_2 / np.max(np.nan_to_num(np.array(y_hst_scaled, dtype = float)))\n",
    "plt.plot(x_array, y_array_2, color = 'blue', label = \"HST\")\n",
    "plt.title(f\"Offset {offset}\\'\\'\")\n",
    "\n",
    "y_array_calculated_2 = skimage.measure.profile_line(psf_conv, [real_half_resolution * 2 + 1, real_half_resolution + offset / pixel_size], [0, real_half_resolution + offset / pixel_size], linewidth = 1)\n",
    "x_array = np.linspace(-angular_size, angular_size, len(y_array_calculated_2))\n",
    "y_array_calculated_2 = y_array_calculated_2 / np.max(np.nan_to_num(np.array(psf_conv[real_half_resolution], dtype = float)))\n",
    "plt.plot(x_array, y_array_calculated_2, color = 'red', label = \"Simulated\")\n",
    "plt.gca().set_aspect(2 * angular_size / 0.2)\n",
    "plt.ylim([0, 0.2])\n",
    "plt.legend()\n",
    "plt.show()"
   ]
  },
  {
   "cell_type": "code",
   "execution_count": null,
   "id": "e3872cec-9ccf-448f-9a92-086759210543",
   "metadata": {},
   "outputs": [],
   "source": [
    "# 42 Displaying the 2.5 Arcseconds Offset Profile With Drizzled Data\n",
    "offset = 2.5\n",
    "\n",
    "start_x = 200 - sin(angle_degrees * pi / 180) * offset / pixel_size + cos(angle_degrees * pi / 180) * angular_size / pixel_size\n",
    "end_x = 200 - sin(angle_degrees * pi / 180) * offset / pixel_size - cos(angle_degrees * pi / 180) * angular_size / pixel_size\n",
    "start_y = 200 - cos(angle_degrees * pi / 180) * offset / pixel_size - sin(angle_degrees * pi / 180) * angular_size / pixel_size\n",
    "end_y = 200 - cos(angle_degrees * pi / 180) * offset / pixel_size + sin(angle_degrees * pi / 180) * angular_size / pixel_size\n",
    "\n",
    "y_array_neg_2p5 = skimage.measure.profile_line(hst_image[center_x - 200 : center_x + 200, center_y - 200 : center_y + 200], [start_x, start_y], [end_x, end_y], linewidth = 1)\n",
    "y_array_neg_2p5 = y_array_neg_2p5 / np.max(np.nan_to_num(np.array(y_hst_scaled, dtype = float)))\n",
    "x_array = np.linspace((len(y_array_neg_2p5) - 1) / 2 * pixel_size, -(len(y_array_neg_2p5) - 1) / 2 * pixel_size, len(y_array_neg_2p5))\n",
    "plt.plot(x_array, y_array_neg_2p5, color = 'blue', label = \"HST\")\n",
    "plt.title(f\"Offset {offset}\\'\\'\")\n",
    "\n",
    "y_array_calculated_neg_2p5 = skimage.measure.profile_line(psf_conv, [real_half_resolution * 2 + 1, real_half_resolution + offset / pixel_size], [0, real_half_resolution + offset / pixel_size], linewidth = 1)\n",
    "x_array = np.linspace(-angular_size, angular_size, len(y_array_calculated_neg_2p5))\n",
    "y_array_calculated_neg_2p5 = y_array_calculated_neg_2p5 / np.max(np.nan_to_num(np.array(psf_conv[real_half_resolution], dtype = float)))\n",
    "plt.plot(x_array, y_array_calculated_neg_2p5, color = 'red', label = \"Simulated\")\n",
    "plt.gca().set_aspect(2 * angular_size / 0.02)\n",
    "plt.ylim([0, 0.02])\n",
    "plt.legend()\n",
    "plt.show()"
   ]
  },
  {
   "cell_type": "code",
   "execution_count": null,
   "id": "03435246-7052-4a64-a5a6-091e8052e317",
   "metadata": {
    "tags": []
   },
   "outputs": [],
   "source": [
    "# 43 Calculating the Area Score\n",
    "x_array_calculated = np.linspace(-angular_size, angular_size, resolution + 1)\n",
    "\n",
    "x_array = np.linspace(-(len(y_array_neg_2p5) - 1) / 2 * pixel_size, (len(y_array_neg_2p5) - 1) / 2 * pixel_size, len(y_array_neg_2p5))\n",
    "y_array_neg_2p5 = np.interp(x_array_calculated, x_array, y_array_neg_2p5)\n",
    "x_array = np.linspace(-(len(y_array_4) - 1) / 2 * pixel_size, (len(y_array_4) - 1) / 2 * pixel_size, len(y_array_4))\n",
    "y_array_4 = np.interp(x_array_calculated, x_array, y_array_4)\n",
    "x_array = np.linspace(-(len(y_array_3) - 1) / 2 * pixel_size, (len(y_array_3) - 1) / 2 * pixel_size, len(y_array_3))\n",
    "y_array_3 = np.interp(x_array_calculated, x_array, y_array_3)\n",
    "x_array = np.linspace(-(len(y_array_2) - 1) / 2 * pixel_size, (len(y_array_2) - 1) / 2 * pixel_size, len(y_array_2))\n",
    "y_array_2 = np.interp(x_array_calculated, x_array, y_array_2)\n",
    "\n",
    "score_1 = abs((np.sum(normalizedYArray) - np.sum(normalizedYHST)) / np.sum(normalizedYHST))\n",
    "print(\"Symmetric Axis Area Score: \" + str(score_1))\n",
    "score_2 = abs((np.sum(y_array_calculated_4[int(resolution / 3) : resolution + 1 - int(resolution / 3)]) - np.sum(y_array_4[int(resolution / 3) : resolution + 1 - int(resolution / 3)])) / np.sum(y_array_4[int(resolution / 3) : resolution + 1 - int(resolution / 3)]))\n",
    "print(\"-4\\'\\' Area Score: \" + str(score_2))\n",
    "score_3 = abs((np.sum(y_array_calculated_3[int(resolution / 3) : resolution + 1 - int(resolution / 3)]) - np.sum(y_array_3[int(resolution / 3) : resolution + 1 - int(resolution / 3)])) / np.sum(y_array_3[int(resolution / 3) : resolution + 1 - int(resolution / 3)]))\n",
    "print(\"-3\\'\\' Area Score: \" + str(score_3))\n",
    "score_4 = abs((np.sum(y_array_calculated_2[int(resolution / 3) : resolution + 1 - int(resolution / 3)]) - np.sum(y_array_2[int(resolution / 3) : resolution + 1 - int(resolution / 3)])) / np.sum(y_array_2[int(resolution / 3) : resolution + 1 - int(resolution / 3)]))\n",
    "print(\"-2\\'\\' Area Score: \" + str(score_4))\n",
    "score_5 = abs((np.sum(y_array_calculated_neg_2p5[int(resolution / 3) : resolution + 1 - int(resolution / 3)]) - np.sum(y_array_neg_2p5[int(resolution / 3) : resolution + 1 - int(resolution / 3)])) / np.sum(y_array_neg_2p5[int(resolution / 3) : resolution + 1 - int(resolution / 3)]))\n",
    "print(\"2.5\\'\\' Area Score: \" + str(score_5))\n",
    "weighted_score = score_1 * 10 / 17 + score_2 * 1 / 17 + score_3 * 2 / 17 + score_4 * 2 / 17 + score_5 * 2 / 17\n",
    "print(\"Weighted Area Score: \" + str(weighted_score))"
   ]
  },
  {
   "cell_type": "code",
   "execution_count": null,
   "id": "d46a2ff0-0934-4dc4-8446-12055839cec9",
   "metadata": {},
   "outputs": [],
   "source": [
    "# 44 Calculating the RMS Deviation\n",
    "rms_score_1 = sqrt(np.square(np.subtract(normalizedYArray, normalizedYHST)).mean())\n",
    "print(\"Symmetric Axis RMS Score: \" + str(rms_score_1))\n",
    "rms_score_2 = sqrt(np.square(np.subtract(y_array_calculated_4[int(resolution / 3) : resolution + 1 - int(resolution / 3)], y_array_4[int(resolution / 3) : resolution + 1 - int(resolution / 3)])).sum() / (resolution + 1))\n",
    "print(\"-4\\'\\' RMS Score: \" + str(rms_score_2))\n",
    "rms_score_3 = sqrt(np.square(np.subtract(y_array_calculated_3[int(resolution / 3) : resolution + 1 - int(resolution / 3)], y_array_3[int(resolution / 3) : resolution + 1 - int(resolution / 3)])).sum() / (resolution + 1))\n",
    "print(\"-3\\'\\' RMS Score: \" + str(rms_score_3))\n",
    "rms_score_4 = sqrt(np.square(np.subtract(y_array_calculated_2[int(resolution / 3) : resolution + 1 - int(resolution / 3)], y_array_2[int(resolution / 3) : resolution + 1 - int(resolution / 3)])).sum() / (resolution + 1))\n",
    "print(\"-2\\'\\' RMS Score: \" + str(rms_score_4))\n",
    "rms_score_5 = sqrt(np.square(np.subtract(y_array_calculated_neg_2p5[int(resolution / 3) : resolution + 1 - int(resolution / 3)], y_array_neg_2p5[int(resolution / 3) : resolution + 1 - int(resolution / 3)])).sum() / (resolution + 1))\n",
    "print(\"2.5\\'\\' RMS Score: \" + str(rms_score_5))\n",
    "weighted_rms_score = rms_score_1 * 10 / 17 + rms_score_2 * 1 / 17 + rms_score_3 * 2 / 17 + rms_score_4 * 2 / 17 + rms_score_5 * 2 / 17\n",
    "print(\"Weighted RMS Score: \" + str(weighted_rms_score))"
   ]
  },
  {
   "cell_type": "code",
   "execution_count": 53,
   "id": "3d61810f",
   "metadata": {},
   "outputs": [],
   "source": [
    "# END"
   ]
  }
 ],
 "metadata": {
  "kernelspec": {
   "display_name": "M192",
   "language": "python",
   "name": "m192"
  },
  "language_info": {
   "codemirror_mode": {
    "name": "ipython",
    "version": 3
   },
   "file_extension": ".py",
   "mimetype": "text/x-python",
   "name": "python",
   "nbconvert_exporter": "python",
   "pygments_lexer": "ipython3",
   "version": "3.11.3"
  }
 },
 "nbformat": 4,
 "nbformat_minor": 5
}
