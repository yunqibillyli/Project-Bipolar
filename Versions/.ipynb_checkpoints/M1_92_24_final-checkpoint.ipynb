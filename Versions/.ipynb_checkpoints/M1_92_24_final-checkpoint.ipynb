{
 "cells": [
  {
   "cell_type": "markdown",
   "id": "718a69e6",
   "metadata": {},
   "source": [
    "## Part 1. Initialization"
   ]
  },
  {
   "cell_type": "code",
   "execution_count": 1,
   "id": "ca5416bd",
   "metadata": {},
   "outputs": [],
   "source": [
    "# 1 Initialization\n",
    "import numpy as np\n",
    "import skimage\n",
    "import matplotlib.pyplot as plt\n",
    "import matplotlib.colors as c\n",
    "import os\n",
    "import mpmath\n",
    "from astropy.io import fits\n",
    "from datetime import datetime\n",
    "from astropy.convolution import Gaussian2DKernel\n",
    "from astropy.convolution import convolve\n",
    "from scipy.signal import convolve2d\n",
    "import sympy as sp\n",
    "from tqdm import tqdm\n",
    "from math import sqrt, sin, cos, acos, atan, tanh"
   ]
  },
  {
   "cell_type": "markdown",
   "id": "51a14797",
   "metadata": {},
   "source": [
    "## Part 2. Defining the Nebula"
   ]
  },
  {
   "cell_type": "code",
   "execution_count": 2,
   "id": "c4516434",
   "metadata": {},
   "outputs": [],
   "source": [
    "# 2 Important Parameters\n",
    "observing_latitude_degrees = 24 # degrees, Observing latitude - Default : 25\n",
    "view_length = 6e17 # cm, Length of the display box - Default : 6e17\n",
    "distance_ly = 8000 # ly, Distance to the lebula - Default : 8000\n",
    "resolution = 500 # Number of pixels of one side of the display - Default : 200\n",
    "distance_steps = 3000 # Number of distance steps in the optical depth center array - Default : 3000\n",
    "angle_steps = 1800 # Number of angle steps in the optical depth center array - Default : 1800\n",
    "absorption_steps_center = 1 # Number of steps between two adjacent elements of the spherical optical depth array - Default : 10\n",
    "absorption_steps = 5 # Number of steps between two adjacent elements in the cubical optical depth array - Default : 5"
   ]
  },
  {
   "cell_type": "code",
   "execution_count": 3,
   "id": "23c8eedb",
   "metadata": {},
   "outputs": [],
   "source": [
    "# 3 Nebula Shape Parameters\n",
    "rin = 2e16 # cm, Inner cavity radius - Default : 1e16\n",
    "density_enhancement = 10 # Density enhancement factor in the lobe walls - Default : 7\n",
    "edge_thickness = 0.2 # The thickness factor of the edge relative to the size of the lobe - Default : 0.12\n",
    "eccentricity = 0.72 # Eccentricity of the conic shaped lobe - Default : 0.85\n",
    "focus_shift = view_length * 0.01 # Coordinate of the conic section edge - Default : 0\n",
    "focus_shift_2 = view_length * 0.03  # Coordinate of the inner conic section edge - Default : 0\n",
    "focus = view_length * 0.039 - focus_shift # cm, Location of the focus of the conic shaped lobe - Default : -view_length / 100\n",
    "directrix = -(focus + focus_shift) / eccentricity - focus_shift # cm, Location of the directrix of the conic shaped lobe - Default : -view_length / 10.9ansa_eccentricity = 0.55 # Eccentricity of the ansa - Default : 0.85\n",
    "ansa_eccentricity = 0.55 # Eccentricity of the ansa - Default : 0.85\n",
    "ansa_focus_shift = -view_length * 0.14 # Location of the base of the ansa - Default : -view_length * 0.11\n",
    "ansa_focus = view_length * 0.01 - ansa_focus_shift # cm, Location of the ansa focus - Default : view_length / 4\n",
    "ansa_directrix = -(ansa_focus + ansa_focus_shift) / ansa_eccentricity - ansa_focus_shift # cm, Location of the ansa directrix - Default : view_length / 4\n",
    "cutoff_distance = view_length * 0.13 # cm, Cutoff from the conic region to the linear region in the lobes\n",
    "slope = 0.16 # dimensionless, Slope of the linear region boundary"
   ]
  },
  {
   "cell_type": "code",
   "execution_count": 4,
   "id": "b945d95a",
   "metadata": {
    "tags": []
   },
   "outputs": [],
   "source": [
    "# 4 Nebula Content Parameters\n",
    "pi = 3.1415926 # Pi\n",
    "mdot_solar_masses = 8e-5 # solar masses, Mass loss rate of all molecules - Default : 1e-5\n",
    "mdot = mdot_solar_masses * 2e33 / (365 * 24 * 60 * 60) # g / seconds, Mass loss rate of all molecules\n",
    "mdot_lat_dependence = 2 # Mass loss rate doubles in the plane, and accordingly quarters in the axis\n",
    "particle_radius = 1e-5 # cm, Radius of the dust particles - Default : 1e-5 / smaller\n",
    "wavelength = 5e-5 # cm, Wavelength used by the observing telescope - Default : 5e-5\n",
    "albedo = 0.7 # Albedo of the dust particles\n",
    "scattering_effective_crosssection = (pi * particle_radius ** 2) * 2 * pi * (particle_radius / (wavelength)) # Per grain per cm^2, Effective scattering cross section of the particles\n",
    "dust_to_gas = 1 / 200 # Dust to gas ratio - Default : 1 / 200\n",
    "grain_mass = 1.3e-14 # grams, Mass of the individual grain - Default : 1.3e-14\n",
    "asymmetry_constant = 0.5 # The scattering asymmetry constant (overwritten in block # 20) - Default : 0.5"
   ]
  },
  {
   "cell_type": "code",
   "execution_count": 5,
   "id": "6c2acad0",
   "metadata": {},
   "outputs": [],
   "source": [
    "# 5 Pre-compute Important Numbers\n",
    "observing_latitude = pi * (observing_latitude_degrees / 180) # radians, Observing latitude \n",
    "sin_obs_lat = sin(observing_latitude) # precompute the trigs of the observer\n",
    "cos_obs_lat = cos(observing_latitude)\n",
    "view_size = view_length / 2 # cm, Half the size of the picture\n",
    "angular_size = view_size / (distance_ly / 2.18e-13) # arcseconds, Size of the nebula in angular units\n",
    "FD = focus - directrix\n",
    "center = focus + FD * eccentricity ** 2 / (1 - eccentricity ** 2)\n",
    "focus_2 = center - (center - focus) * (1 - 0.01) - (focus + focus_shift) * 0.01 / (1 - eccentricity) + focus_shift - focus_shift_2\n",
    "directrix_2 = center - (center - directrix) * (1 - 0.01) - (focus + focus_shift) * 0.01 / (1 - eccentricity) + focus_shift - focus_shift_2\n",
    "density_factor = dust_to_gas * mdot / grain_mass # Pre-compute an important combined factor"
   ]
  },
  {
   "cell_type": "code",
   "execution_count": 6,
   "id": "f17a603c",
   "metadata": {},
   "outputs": [],
   "source": [
    "# 6 Logistic functions\n",
    "def norm(x):\n",
    "    return sqrt(x[0] * x[0] + x[1] * x[1] + x[2] * x[2])\n",
    "  # norm(): returns the norm of a given vector x (the vector is in the form of np.array([x, y, z]))\n",
    "\n",
    "def vector_angle(v1, v2):\n",
    "    norm1 = norm(v1)\n",
    "    norm2 = norm(v2)\n",
    "    if norm1 == 0 or norm2 == 0:\n",
    "        return 0\n",
    "    else:\n",
    "        factor = np.dot(v1, v2) / (norm1 * norm2)\n",
    "        if factor > 1:\n",
    "            return 0\n",
    "        elif factor < -1:\n",
    "            return pi\n",
    "        else:\n",
    "            return acos(factor)\n",
    "    # vector_angle(): returns the angle between two cartesian vectors\n",
    "\n",
    "def spherical_to_cartesian(r):\n",
    "    sin_cur = sin(r[1])\n",
    "    return np.array([r[0] * sin_cur * cos(r[2]), r[0] * sin_cur * sin(r[2]), r[0] * cos(r[1])])\n",
    "  # spherical_to_cartesian(): returns the cartesian representation of the given spherical vector r\n",
    "  # the cartesian vector x is defined in the refernce frame of nebula, not the observer\n",
    "\n",
    "def cartesian_to_spherical(x):\n",
    "    norm = sqrt(x[0] * x[0] + x[1] * x[1] + x[2] * x[2]) # pre compute the norm of the vector\n",
    "    if norm == 0:\n",
    "        return np.array([0, 0, 0])\n",
    "    elif x[0] == 0:\n",
    "        return np.array([norm, acos(x[2] / norm), pi / 2])\n",
    "    else:\n",
    "        return np.array([norm, acos(x[2] / norm), atan(x[1] / x[0])])\n",
    "    # cartesian_to_spherical(): returns the spherical representation of the cartesian vector x\n",
    "    # the cartesian vector x is defined in the reference frame of nebula, not the observer"
   ]
  },
  {
   "cell_type": "code",
   "execution_count": 7,
   "id": "9be3b999",
   "metadata": {},
   "outputs": [],
   "source": [
    "# 7 Scattering Phase Function\n",
    "def phase_function(angle): # Henyey-Greenstein\n",
    "    return 1 / (4 * pi) * (1 - asymmetry_constant * asymmetry_constant) / ((1 + asymmetry_constant * asymmetry_constant - 2 * asymmetry_constant * cos(angle)) ** (3 / 2))"
   ]
  },
  {
   "cell_type": "code",
   "execution_count": 8,
   "id": "a2d33f11",
   "metadata": {},
   "outputs": [],
   "source": [
    "# 8 Detailed Shape of the Nebula\n",
    "x, y = sp.symbols('x y')\n",
    "eq1 = sp.Eq(((cutoff_distance ** 2 + focus ** 2 - 2 * x * focus) ** (1 / 2) / (x - directrix)) - eccentricity, 0) # Outer conic section formula\n",
    "eq2 = sp.Eq(x ** 2 + y ** 2 - cutoff_distance ** 2, 0) # The point distance to the center has to be equal to cutoff_distance\n",
    "sol = sp.solve((eq1, eq2), (x, y)) # Find the point that satisfies both\n",
    "x_cut = abs(sol[1][0]) # x coordinate of the point\n",
    "y_cut = abs(sol[1][1]) # y coordinate of the point\n",
    "\n",
    "x, y = sp.symbols('x y')\n",
    "eq1 = sp.Eq(((cutoff_distance ** 2 + focus_2 ** 2 - 2 * x * focus_2) ** (1 / 2) / (x - directrix_2)) - eccentricity, 0) # Inner conic section formula\n",
    "eq2 = sp.Eq(x ** 2 + y ** 2 - cutoff_distance ** 2, 0) # The point distance to the center has to be equal to cutoff_distance\n",
    "sol = sp.solve((eq1, eq2), (x, y)) # Find the point that satisfies both\n",
    "x_cut_2 = abs(sol[1][0]) # x coordinate of the point\n",
    "y_cut_2 = abs(sol[1][1]) # y coordinate of the point\n",
    "\n",
    "y_intercept = y_cut + slope * x_cut # Calculates the y-intercept of the outer linear boundary\n",
    "y_intercept_2 = y_intercept * (1 - edge_thickness) # y_cut_2 + slope * x_cut_2 # Calculates the y-intercept of the inner linear boundary\n",
    "\n",
    "def lobe(x):\n",
    "    x = abs(x)\n",
    "    y_2_squared = (eccentricity * (x - directrix_2)) * (eccentricity * (x - directrix_2)) - x * x - focus_2 * focus_2 + 2 * x * focus_2\n",
    "    y_2 = sqrt(y_2_squared * (y_2_squared >= 0))\n",
    "    y_squared = (eccentricity * (x - directrix)) * (eccentricity * (x - directrix)) - x * x - focus * focus + 2 * x * focus\n",
    "    y = sqrt(y_squared * (y_squared >= 0))\n",
    "    y_2_alt = y_intercept_2 - x * slope * (1 - edge_thickness)\n",
    "    y_alt = y_intercept - x * slope\n",
    "    if x > cutoff_distance: \n",
    "        return y_2_alt, y_alt\n",
    "    return min([y_2, y_2_alt]), min([y, y_alt])\n",
    "\n",
    "def ansa(x):\n",
    "    \n",
    "    x = abs(x)\n",
    "    y_squared = (ansa_eccentricity * (x - ansa_directrix)) * (ansa_eccentricity * (x - ansa_directrix)) - x * x - ansa_focus * ansa_focus + 2 * x * ansa_focus\n",
    "    \n",
    "    return sqrt(y_squared * (y_squared >= 0))\n",
    "\n",
    "def find_density(x, y, latitude, distance):\n",
    "    \n",
    "    if abs(latitude) >= 85 / 180 * pi and distance > 3e17:\n",
    "        \n",
    "        velocity = 7.5e7 # cm/s - Default : 2e7\n",
    "        \n",
    "        return (dust_to_gas * mdot / grain_mass) / (4 * pi * (distance * distance) * velocity)\n",
    "    \n",
    "    elif distance >= 2.5e17:\n",
    "        \n",
    "        return 0\n",
    "    \n",
    "    sin_lat = abs(x / distance)\n",
    "    sin_lat_squared = sin_lat * sin_lat\n",
    "    cos_lat_squared = 1 - sin_lat_squared\n",
    "    \n",
    "    mdot_factor = mdot_lat_dependence / np.sqrt((1 / (mdot_lat_dependence * mdot_lat_dependence)) * cos_lat_squared + (mdot_lat_dependence * mdot_lat_dependence * mdot_lat_dependence * mdot_lat_dependence) * sin_lat_squared)\n",
    "    \n",
    "    if y <= ansa(x):\n",
    "        \n",
    "        velocity = 1e6 # cm/s - Default : 5e5\n",
    "        \n",
    "        return mdot_factor * density_factor / (4 * pi * 1e34 * velocity)\n",
    "    \n",
    "    y_low, y_high = lobe(x)\n",
    "    \n",
    "    if distance < rin * 2: \n",
    "        \n",
    "        cutoff_inner = 0.5 * (1 - tanh((rin - distance) / (rin / 10)))\n",
    "        \n",
    "    else: \n",
    "        \n",
    "        cutoff_inner = 1\n",
    "    \n",
    "    if y <= y_high: \n",
    "        \n",
    "        cutoff_outer = 0.5 * (1 - tanh((distance - 2.1e17) / 1e16))\n",
    "        \n",
    "        if y <= y_low: \n",
    "            \n",
    "            velocity = 5e7 # cm/s - Default : 7.5e7\n",
    "            \n",
    "            area = pi * y_low * y_low\n",
    "            \n",
    "            return cutoff_outer * cutoff_inner * mdot_factor * density_factor / (16 * area * velocity)\n",
    "        \n",
    "        velocity = 2e7 / density_enhancement / (distance / 1e17) ** 3 # cm/s - Default : 2e7\n",
    "        \n",
    "        return cutoff_outer * mdot_factor * density_factor / (4 * pi * (distance * distance) * velocity)\n",
    "    \n",
    "    else: \n",
    "        \n",
    "        R_cur_disk = 1e17 # cm, cutoff radius - Default : 1.1e17\n",
    "        R_cur_low = 9.5e16 # cm, cutoff radius - Default : 1.1e17\n",
    "        R_cur_high = 1.8e17\n",
    "        R_cur = R_cur_high * R_cur_low / sqrt(R_cur_low ** 2 * sin_lat_squared + R_cur_high ** 2 * (1 - sin_lat_squared))\n",
    "        R_cur = max([R_cur, R_cur_disk])\n",
    "        dr_cur = 2e15 * (1 + 10 * cos_lat_squared) # cm, sharpness of cutoff - Default : 1.2e16\n",
    "        if False: # distance >= R_cur_high + 5 * dr_cur:\n",
    "            return 0\n",
    "        else: \n",
    "            velocity = 5e5 # cm/s\n",
    "            # velocity_high = 5e5 # cm/s, Highest possible outflow velocity in the disk - Default : 6e6\n",
    "            # velocity_low = 5e5 # cm/s, Lowest possible outflow velocity in the disk - Default : 3e6\n",
    "            # velocity = velocity_high * velocity_low / sqrt(velocity_low ** 2 * sin_lat_squared + velocity_high ** 2 * (1 - sin_lat_squared)) # cm/s\n",
    "\n",
    "    cutoff_outer = 0.5 * (1 - tanh((distance - R_cur) / dr_cur))\n",
    "    \n",
    "    return mdot_factor * (dust_to_gas * mdot / grain_mass) * (cutoff_outer * cutoff_inner) / (4 * pi * (distance * distance) * velocity)\n",
    "\n",
    "def density_cartesian(r):\n",
    "    \n",
    "    spherical = cartesian_to_spherical(r)\n",
    "    latitude, distance = pi / 2 - spherical[1], spherical[0]\n",
    "    \n",
    "    if distance < rin / 2:\n",
    "        return 0\n",
    "    \n",
    "    y = sqrt(r[0] * r[0] + r[1] * r[1])\n",
    "    x = r[2] # Along the sky plane the symmetric axis is the horizontal x-axis, but in the 3D distribution it's the z-axis\n",
    "    \n",
    "    return find_density(x, y, latitude, distance)\n",
    "\n",
    "def density(latitude, distance):\n",
    "    \n",
    "    if distance < rin / 2:\n",
    "        return 0\n",
    "    \n",
    "    x = distance * sin(latitude)\n",
    "    y = sqrt(distance * distance - x * x)\n",
    "    \n",
    "    return find_density(x, y, latitude, distance)"
   ]
  },
  {
   "cell_type": "code",
   "execution_count": 9,
   "id": "eccbbbdf",
   "metadata": {},
   "outputs": [],
   "source": [
    "# 9 Density Display Function\n",
    "@np.vectorize\n",
    "def density_map(x, y):\n",
    "    return float(density_cartesian(np.array([0, y, -x]))) ** float(1 / 5)\n",
    "# Density display\n",
    "\n",
    "# Computing the density map\n",
    "side = np.linspace(-view_size, view_size, resolution + 1)\n",
    "x,y = np.meshgrid(side, side)\n",
    "Value = density_map(x, y)\n",
    "min_nonzero = np.min(Value[Value != 0])\n",
    "Value[Value == 0] = min_nonzero"
   ]
  },
  {
   "cell_type": "code",
   "execution_count": 10,
   "id": "8112e970",
   "metadata": {
    "tags": []
   },
   "outputs": [
    {
     "data": {
      "image/png": "[encoded data removed]",
      "text/plain": [
       "<Figure size 432x288 with 1 Axes>"
      ]
     },
     "metadata": {
      "needs_background": "light"
     },
     "output_type": "display_data"
    }
   ],
   "source": [
    "# 10 Density Display\n",
    "plt.title(\"Density Distribution Cross Section\")\n",
    "plt.pcolormesh(x, y, Value, cmap = 'afmhot')\n",
    "# plt.pcolormesh(x, y, Value, cmap = 'afmhot', norm = c.LogNorm(vmin = Value.max() / 1000000))\n",
    "plt.annotate(\"Axis of Symmetry\", xy = (view_length / 20, -view_length / 8), color = 'red')\n",
    "plt.axhline(y = 0, color = 'red', linestyle = '-')\n",
    "plt.annotate(\"Central Star\", xy = (-view_length / 20, view_length / 8), color = 'blue')\n",
    "plt.plot([0], [0], marker = \"x\", markersize = 20, color = \"blue\")\n",
    "plt.gca().set_aspect('equal')\n",
    "plt.xlabel(\"distance (cm)\")\n",
    "plt.ylabel(\"distance (cm)\")\n",
    "# plt.axis('on')\n",
    "plt.show()"
   ]
  },
  {
   "cell_type": "markdown",
   "id": "5c855f8e",
   "metadata": {},
   "source": [
    "## Part 3. Computing The Optical Depth Arrays"
   ]
  },
  {
   "cell_type": "code",
   "execution_count": 11,
   "id": "a35bacfa",
   "metadata": {},
   "outputs": [],
   "source": [
    "# 11 Array Coordinate - Skyplane Coordinate Translations\n",
    "def coord_to_index(x, y): \n",
    "    # coord_to_index(): Returns the array index i given the skyplane coordinates x, y in cm \n",
    "    return int(int(((x / view_size) + 1) * (resolution / 2)) + int((y / view_size) * (resolution / 2)) * (resolution + 1))\n",
    "def index_to_x(i):\n",
    "    # index_to_x(): Returns the skyplane coordinate x given the array index i\n",
    "    return (int(i % (resolution + 1)) / (resolution / 2) - 1) * view_size\n",
    "def index_to_y(i):\n",
    "    # index_to_y(): Returns the skyplane coordinate y given the array index i\n",
    "    return (int(i / (resolution + 1)) / (resolution / 2)) * view_size"
   ]
  },
  {
   "cell_type": "code",
   "execution_count": 12,
   "id": "8099f5bd",
   "metadata": {},
   "outputs": [],
   "source": [
    "# 12 Define Spherical Optical Depth Integration Function\n",
    "def optical_depth_center_progression(latitude, distance):\n",
    "    # optical_depth_center_progression(): Optical depth between two close points\n",
    "    sum = 0 # total\n",
    "    i = 0 # iterator\n",
    "    while i < 1:\n",
    "        add = density(latitude, distance + i * (view_size / (distance_steps * absorption_steps_center)))\n",
    "        sum += add # add the non constant density\n",
    "        i += 1 / absorption_steps_center\n",
    "    sum = scattering_effective_crosssection * sum * (2 * view_size / (distance_steps * absorption_steps_center))\n",
    "    # now multiply the constants of the integrand\n",
    "    return sum / albedo # divide the albedo for the total extinction crosssection"
   ]
  },
  {
   "cell_type": "code",
   "execution_count": 13,
   "id": "b35262b1",
   "metadata": {},
   "outputs": [],
   "source": [
    "# 13 Spherical Optical Depth Array\n",
    "# Define the spherical optical depth array\n",
    "# i from 0 to distance_steps, represents distance from 0 to 2*view_size\n",
    "# j from 0 to pi/2, represents the latitude\n",
    "i, j = distance_steps + 1, angle_steps + 1\n",
    "optical_depth_center_array = [[0 for x in range(i)] for y in range(j)]"
   ]
  },
  {
   "cell_type": "code",
   "execution_count": 14,
   "id": "e60fb644",
   "metadata": {},
   "outputs": [
    {
     "name": "stderr",
     "output_type": "stream",
     "text": [
      "100%|██████████| 1800/1800 [07:20<00:00,  4.09it/s]\n"
     ]
    },
    {
     "data": {
      "image/png": "[encoded data removed]",
      "text/plain": [
       "<Figure size 432x288 with 1 Axes>"
      ]
     },
     "metadata": {
      "needs_background": "light"
     },
     "output_type": "display_data"
    }
   ],
   "source": [
    "# 14 Computing The Required Spherical Optical Depth Array\n",
    "# required = np.asarray(np.loadtxt('required_spherical_coordinates.csv', delimiter=' ')).astype('int')\n",
    "for i in tqdm(range(0, angle_steps)):\n",
    "    for j in range(0, distance_steps):\n",
    "        \n",
    "        # stdout.write(\"\\rProgress: \" + str(int(i / angle_steps + j / angle_steps / (distance_steps - 1))) + \"%\")\n",
    "        # stdout.flush()\n",
    "        \n",
    "        # For each angle, accumulatively compute the optical depth\n",
    "        add = optical_depth_center_progression(i * pi / (2 * angle_steps), j * (2 * view_size / distance_steps))\n",
    "        optical_depth_center_array[i][j] = optical_depth_center_array[i][j - 1] + add\n",
    "\n",
    "x_odc = np.linspace(0, 90, 1800)\n",
    "y_odc = np.array([])\n",
    "x = [0, 30, 60, 90]\n",
    "for i in range(0, 1800):\n",
    "    y_odc = np.append(y_odc, optical_depth_center_array[i][999])\n",
    "plt.plot(x_odc, y_odc * 3.45, color = 'red')\n",
    "plt.xticks(ticks = x)\n",
    "plt.title(\"Optical Depth vs. Latitude\")\n",
    "plt.xlabel(\"Latitude (Degrees)\")\n",
    "plt.ylabel(\"Optical Depth\")\n",
    "plt.ylim(0, 20)\n",
    "plt.grid()\n",
    "plt.show()"
   ]
  },
  {
   "cell_type": "code",
   "execution_count": 15,
   "id": "3d76abb4",
   "metadata": {},
   "outputs": [],
   "source": [
    "# 15 Define Cubical Optical Depth Integration Function\n",
    "n = 2 * view_size / resolution\n",
    "def optical_depth_progression(x1, x2):\n",
    "    # optical_depth_progression(): Optical depth between two close points\n",
    "    sum = 0 # total\n",
    "    i = 0 # iterator\n",
    "    while i < 1:\n",
    "        add = density_cartesian(x1 + i * (x2 - x1))\n",
    "        sum += add # add the non constant density\n",
    "        i += 1 / absorption_steps\n",
    "    sum = scattering_effective_crosssection * sum * n / absorption_steps # now multiply the constants of the integrand\n",
    "    return sum / albedo # return the result"
   ]
  },
  {
   "cell_type": "code",
   "execution_count": 16,
   "id": "cf35d202",
   "metadata": {},
   "outputs": [],
   "source": [
    "# 16 Cubical Optical Depth Array\n",
    "# Define the cubical optical depth array\n",
    "# j is the depth, \"0\" is the closest to the viewplane, \"resolution\" isthe deepest, resolution+1 steps in total\n",
    "# i is the coordinate, is the x*(resolution+1)+y, minimum 0 (x minimum, y=0), maximum (resolution+1)*(resolution)-1 (top right corner)\n",
    "# here x and y are pixel coordinates, from 0 to resolution\n",
    "i, j = resolution + 1, (resolution + 1) * (int(resolution / 2) + 1)\n",
    "optical_depth_array = [[0 for x in range(i)] for y in range(j)]"
   ]
  },
  {
   "cell_type": "code",
   "execution_count": 17,
   "id": "d8ea0e13-393f-4e8e-be51-0f20d36d071a",
   "metadata": {},
   "outputs": [
    {
     "name": "stderr",
     "output_type": "stream",
     "text": [
      "100%|██████████| 1493/1493 [03:29<00:00,  7.13it/s]\n"
     ]
    }
   ],
   "source": [
    "# 17 Computing The Partial Cubical Optical Depth Array\n",
    "r = (resolution + 1) * (int(resolution / 2) + 1) - 1\n",
    "required = np.asarray(np.loadtxt('required_coordinates.csv', delimiter = ' ')).astype('int')\n",
    "for i in tqdm(required):\n",
    "    for j in range(0, resolution):\n",
    "        \n",
    "        # stdout.write(\"\\rProgress: \" + str(np.int(i / r + j / r / (resolution - 1))) + \"%\")\n",
    "        # stdout.flush()\n",
    "        \n",
    "        # For each coordinate, accumulate the optical depth along the line of sight\n",
    "        x = index_to_x(i)\n",
    "        y = index_to_y(i)\n",
    "        \n",
    "        add = optical_depth_progression(np.array([x * sin_obs_lat + (((resolution / 2) - j) / (resolution / 2) * view_size) * cos_obs_lat, y, -x * cos_obs_lat + (((resolution / 2) - j) / (resolution / 2) * view_size) * sin_obs_lat]), np.array([x * sin_obs_lat + (((resolution / 2) - (j - 1)) / (resolution / 2) * view_size) * cos_obs_lat, y, -x * cos_obs_lat + (((resolution / 2) - (j - 1)) / (resolution / 2) * view_size) * sin_obs_lat]))\n",
    "        \n",
    "        optical_depth_array[i][j] = optical_depth_array[i][j - 1] + add"
   ]
  },
  {
   "cell_type": "markdown",
   "id": "d936333f",
   "metadata": {},
   "source": [
    "## Part 4. Computing The Image"
   ]
  },
  {
   "cell_type": "code",
   "execution_count": 18,
   "id": "516f86ff",
   "metadata": {},
   "outputs": [],
   "source": [
    "# 20 Defining the Optical Intensity Function\n",
    "asymmetry_constant = 0.54\n",
    "# The scattering asymmetry constant - Default : 0.5\n",
    "# This can change with each recompute, without altering the array, mainly changing front/back ratio\n",
    "scale_factor = 4.23 # The post-compute multiplier applied to the density/optical depths array\n",
    "\n",
    "@np.vectorize\n",
    "def intensity(x, y):\n",
    "    sum = 0.0\n",
    "    # total number of unit photons reaching the specified pixel\n",
    "    i = coord_to_index(x, y)\n",
    "    for j in range(0, resolution):\n",
    "        cur = np.array([float(x * sin_obs_lat + (((resolution / 2) - j) / (resolution / 2) * view_size) * cos_obs_lat), float(y), float(-x * cos_obs_lat + (((resolution / 2) - j) / (resolution / 2) * view_size) * sin_obs_lat)])\n",
    "        # current point (precise value stored in array)\n",
    "        spherical = cartesian_to_spherical(cur) \n",
    "        # spherical of current point, to find the optical depth center\n",
    "        o_d_center = scale_factor * optical_depth_center_array[abs(int((angle_steps / 90) * (90 - (180 * spherical[1] / pi))))][int(spherical[0] / (2 * view_size) * distance_steps)]\n",
    "        # optical depth from center\n",
    "        o_d = scale_factor * optical_depth_array[i][j]\n",
    "        # optical depth from point of interest to earth\n",
    "        # the amount of photons from that point\n",
    "        if x == 0 and y == 0 and j == resolution / 2: # point of interest is central star\n",
    "            add = mpmath.exp(-scale_factor * optical_depth_array[coord_to_index(0, 0)][int(j)]) / ((view_length / resolution) * (view_length / resolution))\n",
    "        else:\n",
    "            add = (1 / (4 * pi * ((spherical[0]) * (spherical[0])))) * mpmath.exp(-o_d) * mpmath.exp(-o_d_center) * scale_factor * scattering_effective_crosssection * density(pi / 2 - spherical[1], spherical[0]) * (view_length / resolution) * phase_function(vector_angle(np.array([cos_obs_lat, 0, sin_obs_lat]), cur))\n",
    "        sum += add\n",
    "    return sum"
   ]
  },
  {
   "cell_type": "code",
   "execution_count": 19,
   "id": "0ca0581e-b4ce-4b90-bb18-c8d732f02419",
   "metadata": {},
   "outputs": [
    {
     "name": "stdout",
     "output_type": "stream",
     "text": [
      "0.9815514481295884\n"
     ]
    }
   ],
   "source": [
    "# Reading the PSF from file\n",
    "psf_curve = np.asarray(np.loadtxt('hst_psf.csv', delimiter = ',')).astype('float32')\n",
    "\n",
    "# Seperating the arrays\n",
    "angular_offset = psf_curve[:, 0]\n",
    "psf = psf_curve[:, 1] / 100\n",
    "\n",
    "# Obtaining specific values for pixels\n",
    "center = np.interp(0 * angular_size / (resolution / 2), angular_offset, psf)\n",
    "offset_1 = np.interp(1 * angular_size / (resolution / 2), angular_offset, psf)\n",
    "offset_sqrt2 = np.interp(sqrt(2) * angular_size / (resolution / 2), angular_offset, psf)\n",
    "offset_2 = np.interp(2 * angular_size / (resolution / 2), angular_offset, psf)\n",
    "offset_sqrt5 = np.interp(sqrt(5) * angular_size / (resolution / 2), angular_offset, psf)\n",
    "offset_sqrt8 = np.interp(2 * sqrt(2) * angular_size / (resolution / 2), angular_offset, psf)\n",
    "offset_3 = np.interp(3 * angular_size / (resolution / 2), angular_offset, psf)\n",
    "offset_sqrt10 = np.interp(sqrt(10) * angular_size / (resolution / 2), angular_offset, psf)\n",
    "offset_sqrt13 = np.interp(sqrt(13) * angular_size / (resolution / 2), angular_offset, psf)\n",
    "offset_sqrt18 = np.interp(3 * sqrt(2) * angular_size / (resolution / 2), angular_offset, psf)\n",
    "# total_psf = center + offset_1 * 4 + offset_sqrt2 * 4 + offset_2 * 4 + offset_sqrt5 * 8 + offset_sqrt8 * 4 + offset_3 * 4 + offset_sqrt10 * 8 + offset_sqrt13 * 8 + offset_sqrt18 * 4\n",
    "\n",
    "psf_profile = np.array([\n",
    "    [offset_sqrt18, offset_sqrt13, offset_sqrt10, offset_3, offset_sqrt10, offset_sqrt13, offset_sqrt18],\n",
    "    [offset_sqrt13, offset_sqrt8, offset_sqrt5, offset_2, offset_sqrt5, offset_sqrt8, offset_sqrt13], \n",
    "    [offset_sqrt10, offset_sqrt5, offset_sqrt2, offset_1, offset_sqrt2, offset_sqrt5, offset_sqrt10], \n",
    "    [offset_3, offset_2, offset_1, center, offset_1, offset_2, offset_3], \n",
    "    [offset_sqrt10, offset_sqrt5, offset_sqrt2, offset_1, offset_sqrt2, offset_sqrt5, offset_sqrt10], \n",
    "    [offset_sqrt13, offset_sqrt8, offset_sqrt5, offset_2, offset_sqrt5, offset_sqrt8, offset_sqrt13], \n",
    "    [offset_sqrt18, offset_sqrt13, offset_sqrt10, offset_3, offset_sqrt10, offset_sqrt13, offset_sqrt18]])\n",
    "\n",
    "# If this value is too far from 1, it means that your PSF interpolation / estimation isn't accurate\n",
    "print(np.sum(psf_profile)) \n",
    "\n",
    "# Normalize the PSF\n",
    "psf_profile /= np.sum(psf_profile)"
   ]
  },
  {
   "cell_type": "code",
   "execution_count": 58,
   "id": "7b54c88d-0b1f-4148-a208-fd2a2c419b64",
   "metadata": {},
   "outputs": [
    {
     "data": {
      "text/plain": [
       "9.815823963455369e-07"
      ]
     },
     "execution_count": 58,
     "metadata": {},
     "output_type": "execute_result"
    }
   ],
   "source": [
    "pixel_psf(-angular_size / (resolution / 2) / 2, angular_size / (resolution / 2) / 2, -angular_size / (resolution / 2) / 2, angular_size / (resolution / 2) / 2)"
   ]
  },
  {
   "cell_type": "code",
   "execution_count": 59,
   "id": "f164f465-d710-4f8a-9c71-c3e5322b71ae",
   "metadata": {},
   "outputs": [
    {
     "data": {
      "text/plain": [
       "0.13060895509789344"
      ]
     },
     "execution_count": 59,
     "metadata": {},
     "output_type": "execute_result"
    }
   ],
   "source": [
    "psf(0)"
   ]
  },
  {
   "cell_type": "code",
   "execution_count": 210,
   "id": "1d1885cb-5dcd-4019-af1b-fcac4dbf210f",
   "metadata": {},
   "outputs": [
    {
     "name": "stdout",
     "output_type": "stream",
     "text": [
      "0.9760531044407748\n"
     ]
    }
   ],
   "source": [
    "integral = 0.0\n",
    "\n",
    "for r in np.arange(0, 10, 0.1):\n",
    "    integral += psf(r) * 2 * pi * r * 0.1\n",
    "    \n",
    "print(integral)"
   ]
  },
  {
   "cell_type": "code",
   "execution_count": 216,
   "id": "18aaa6f9-6ee2-4fd2-9660-379712199ca0",
   "metadata": {},
   "outputs": [
    {
     "data": {
      "text/plain": [
       "1.0156268089758191"
      ]
     },
     "execution_count": 216,
     "metadata": {},
     "output_type": "execute_result"
    }
   ],
   "source": [
    "pixel_psf(-0.5, 0.5, -0.5, 0.5)"
   ]
  },
  {
   "cell_type": "code",
   "execution_count": 209,
   "id": "9fe7c261-0327-4617-a4f2-4e906edd213f",
   "metadata": {},
   "outputs": [
    {
     "data": {
      "image/png": "[encoded data removed]",
      "text/plain": [
       "<Figure size 720x432 with 1 Axes>"
      ]
     },
     "metadata": {
      "needs_background": "light"
     },
     "output_type": "display_data"
    }
   ],
   "source": [
    "r_values = np.linspace(min(angular_offset), 5, 500)\n",
    "\n",
    "# Evaluate psf at each r value\n",
    "psf_values = psf(r_values)\n",
    "\n",
    "# Plotting\n",
    "plt.figure(figsize=(10, 6))\n",
    "plt.plot(r_values, psf_values, label='psf(r)')\n",
    "plt.xlabel('r')\n",
    "plt.ylabel('psf(r)')\n",
    "plt.title('Plot of psf(r)')\n",
    "plt.legend()\n",
    "plt.grid(True)\n",
    "plt.show()"
   ]
  },
  {
   "cell_type": "code",
   "execution_count": 215,
   "id": "7adabfc5-1de8-46f0-b6f6-7d9e7a3d8b8d",
   "metadata": {},
   "outputs": [],
   "source": [
    "# Reading the PSF from file\n",
    "psf_curve = np.asarray(np.loadtxt('hst_psf.csv', delimiter = ',')).astype('float32')\n",
    "\n",
    "angular_offset = psf_curve[:, 0]\n",
    "encircled_energy = psf_curve[:, 1] / 100\n",
    "\n",
    "delta_r = np.diff(angular_offset)\n",
    "delta_encircled_energy = np.diff(encircled_energy)\n",
    "psf_data = delta_encircled_energy / delta_r\n",
    "delta_r = np.append(delta_r, 0)\n",
    "psf_data = np.append(psf_data, 0)\n",
    "\n",
    "\n",
    "\n",
    "angular_distance = angular_offset + delta_r / 2\n",
    "\n",
    "# Define the psf function\n",
    "def psf(r):\n",
    "    # return np.where(r >= 3, 0, np.interp(r, angular_distance, psf_data)) \n",
    "    return np.where(r <= delta_r[0], psf_data[0] / (pi * delta_r[0] ** 2), np.where(r >= 3 or r < 0, 0, np.interp(r, angular_distance, psf_data) / (2 * pi * r))) \n",
    "\n",
    "def psf(r):\n",
    "    condition1 = r <= delta_r[0]\n",
    "    condition2 = np.logical_or(r >= 3, r < 0)\n",
    "    \n",
    "    term1 = psf_data[0] / (np.pi * delta_r[0] ** 2)\n",
    "    term2 = np.interp(r, angular_distance, psf_data) / (2 * np.pi * r)\n",
    "    \n",
    "    return np.where(condition1, term1, np.where(condition2, 0, term2))\n",
    "\n",
    "\n",
    "def pixel_psf(x1, x2, y1, y2):\n",
    "    # Replace this with your real function logic\n",
    "    \n",
    "    dx, dy = 0.01, 0.01\n",
    "\n",
    "    # Initialize integral value\n",
    "    integral = 0.0\n",
    "\n",
    "    # Loop over the square\n",
    "    for x in np.arange(x1, x2, dx):\n",
    "        for y in np.arange(x1, x2, dy):\n",
    "            r = sqrt(x ** 2 + y ** 2)\n",
    "            add = psf(r) * dx * dy\n",
    "            integral += add\n",
    "    \n",
    "    return integral"
   ]
  },
  {
   "cell_type": "code",
   "execution_count": 212,
   "id": "174d574e-fc7f-4015-9327-2d74fbb5fd82",
   "metadata": {},
   "outputs": [
    {
     "name": "stdout",
     "output_type": "stream",
     "text": [
      "0.0 0.0 0.0 0.0 0.0\n",
      "1.5689547786250084 0.0 0.0 0.0 0.0\n",
      "1.5689547786250084 1.2610206680053393 1.2610206680053393 0.0 0.0\n",
      "1.5689547786250084 1.2610206680053393 0.0 0.0 0.0\n",
      "1.5689547786250084 0.0 0.0 0.0 0.0\n"
     ]
    }
   ],
   "source": [
    "def create_grid(iterations):\n",
    "    # Initialize the grid with the center square\n",
    "    grid_size = 2 * iterations - 1\n",
    "    grid = [[None for _ in range(grid_size)] for _ in range(grid_size)]\n",
    "    grid[iterations-1][iterations-1] = pixel_psf(-1, 1, -1, 1)\n",
    "\n",
    "    for iteration in range(1, iterations):\n",
    "        # Calculate the size of the square ring\n",
    "        side_length = 2 * iteration + 1\n",
    "        half_length = iteration\n",
    "\n",
    "        # Loop through each side of the square ring\n",
    "        for i in range(-half_length, half_length + 1):\n",
    "            a, b = -half_length, half_length\n",
    "            c, d = i, i\n",
    "            grid[iterations-1 + c][iterations-1 + a] = pixel_psf(a, b, c, d)\n",
    "            grid[iterations-1 + c][iterations-1 - a] = pixel_psf(-a, -b, c, d)\n",
    "            grid[iterations-1 + a][iterations-1 + d] = pixel_psf(c, d, a, b)\n",
    "            grid[iterations-1 - a][iterations-1 + d] = pixel_psf(c, d, -a, -b)\n",
    "\n",
    "    return grid\n",
    "\n",
    "def print_grid(grid):\n",
    "    for row in grid:\n",
    "        print(\" \".join(str(cell) if cell is not None else '.' for cell in row))\n",
    "\n",
    "if __name__ == \"__main__\":\n",
    "    iterations = 3\n",
    "    grid = create_grid(iterations)\n",
    "    print_grid(grid)"
   ]
  },
  {
   "cell_type": "code",
   "execution_count": 20,
   "id": "21de30c9-3414-4e64-b12e-639875cc44f0",
   "metadata": {},
   "outputs": [
    {
     "data": {
      "image/png": "[encoded data removed]",
      "text/plain": [
       "<Figure size 432x288 with 1 Axes>"
      ]
     },
     "metadata": {
      "needs_background": "light"
     },
     "output_type": "display_data"
    }
   ],
   "source": [
    "side = np.linspace(-view_size, view_size, resolution + 1)\n",
    "sideY = np.linspace(0, 0, 1)\n",
    "x, y = np.meshgrid(side, sideY)\n",
    "np.seterr(divide = 'ignore')\n",
    "Value = np.asarray(intensity(x, y))[0]\n",
    "\n",
    "Value[int(resolution / 2)] = Value[int(resolution / 2)] # Adjustment for 1D profile\n",
    "\n",
    "kernel = Gaussian2DKernel(x_stddev = 3 / 500 * resolution, y_stddev = 3 / 500 * resolution)\n",
    "astropy_conv_profile = convolve(Value.reshape(1, resolution + 1), kernel)\n",
    "\n",
    "psf_conv_profile = convolve2d(np.asarray(Value.reshape(1, resolution + 1)).astype('float32'), psf_profile, mode = 'same')\n",
    "\n",
    "max_value = np.max(np.nan_to_num(np.array(psf_conv_profile[0], dtype = float)))\n",
    "\n",
    "x_array = np.linspace(-angular_size, angular_size, resolution + 1)\n",
    "y_array = psf_conv_profile[0]\n",
    "normalizedYArray = y_array / np.max(np.nan_to_num(np.array(psf_conv_profile[0], dtype = float)))\n",
    "plt.plot(x_array, normalizedYArray, color = 'red', label = 'Simulated')\n",
    "x_pos = (3 + np.min(normalizedYArray)) / 4\n",
    "plt.title(\"Brightness Along Symmetric Axis\")\n",
    "\n",
    "hst = fits.open(\"hst_06761_02_wfpc2_f547m_wf_drz.fits\")\n",
    "hst_image = hst[1].data\n",
    "\n",
    "angle_degrees = 43\n",
    "\n",
    "start_x = 100 + cos(angle_degrees * pi / 180) * angular_size / 0.1013\n",
    "end_x = 100 - cos(angle_degrees * pi / 180) * angular_size / 0.1013\n",
    "start_y = 100 + sin(angle_degrees * pi / 180) * angular_size / 0.1013\n",
    "end_y = 100 - sin(angle_degrees * pi / 180) * angular_size / 0.1013\n",
    "\n",
    "y_hst = skimage.measure.profile_line(hst_image[980 - 100 : 980 + 100, 1459 - 100 : 1459 + 100], [start_x, start_y], [end_x, end_y], linewidth = 3)\n",
    "x_hst = np.linspace(-(len(y_hst) - 1) / 2 *  0.1013, (len(y_hst) - 1) / 2 *  0.1013, len(y_hst))\n",
    "y_hst = np.delete(y_hst, int(len(y_hst) / 2))\n",
    "y_hst = np.insert(y_hst, int(len(y_hst) / 2), hst_image[980, 1459])\n",
    "x_hst = np.delete(x_hst, int(len(y_hst) / 2))\n",
    "x_hst = np.insert(x_hst, int(len(y_hst) / 2), 0)\n",
    "\n",
    "y_hst_scaled = np.interp(x_array, x_hst, y_hst)\n",
    "normalizedYHST = y_hst_scaled / np.max(np.nan_to_num(np.array(y_hst_scaled, dtype = float)))\n",
    "plt.plot(x_array, normalizedYHST, color = 'blue', alpha = 0.5, label = 'HST')\n",
    "\n",
    "# plt.annotate(\"Observing Latitude: \" + str(observing_latitude_degrees) + \" degrees;\\n\" + \"g (asymmetry constant) =\" + str(asymmetry_constant) + \";\\nmdot=\" + str(round(mdot_solar_masses * scale_factor, 6)) + \" \" + '$ M_{\\odot}$' + \"/year\", xy = (-angular_size, x_pos), color = 'blue')\n",
    "\n",
    "plt.gca().set_aspect(2 * angular_size)\n",
    "plt.legend()\n",
    "plt.xlabel(\"Offset (Arcseconds)\")\n",
    "plt.ylabel(\"Relative Brightness\")\n",
    "plt.show()"
   ]
  },
  {
   "cell_type": "code",
   "execution_count": 21,
   "id": "cc7d55af-c21b-43cb-94f2-54d003fd0369",
   "metadata": {},
   "outputs": [
    {
     "data": {
      "image/png": "[encoded data removed]",
      "text/plain": [
       "<Figure size 432x288 with 1 Axes>"
      ]
     },
     "metadata": {
      "needs_background": "light"
     },
     "output_type": "display_data"
    }
   ],
   "source": [
    "offset = -4\n",
    "\n",
    "start_x = 100 - sin(angle_degrees * pi / 180) * offset / 0.1013 + cos(angle_degrees * pi / 180) * angular_size / 0.1013\n",
    "end_x = 100 - sin(angle_degrees * pi / 180) * offset / 0.1013 - cos(angle_degrees * pi / 180) * angular_size / 0.1013\n",
    "start_y = 100 - cos(angle_degrees * pi / 180) * offset / 0.1013 - sin(angle_degrees * pi / 180) * angular_size / 0.1013\n",
    "end_y = 100 - cos(angle_degrees * pi / 180) * offset / 0.1013 + sin(angle_degrees * pi / 180) * angular_size / 0.1013\n",
    "\n",
    "y_array = skimage.measure.profile_line(hst_image[980 - 100 : 980 + 100, 1459 - 100 : 1459 + 100], [start_x, start_y], [end_x, end_y], linewidth = 1)\n",
    "y_array = y_array / np.max(np.nan_to_num(np.array(y_hst_scaled, dtype = float)))\n",
    "x_array = np.linspace(-angular_size, angular_size, len(y_array))\n",
    "plt.plot(x_array, y_array, color = 'blue', label = \"HST\")\n",
    "plt.title(f\"Offset {offset}\\'\\'\")\n",
    "\n",
    "side = np.linspace(offset * view_size / angular_size, offset * view_size / angular_size, 1)\n",
    "sideY = np.linspace(0, view_size, int(resolution / 2) + 1)\n",
    "x, y = np.meshgrid(side, sideY)\n",
    "Value = intensity(x, y)\n",
    "FullValues = np.concatenate((Value.flatten()[::-1][:-1], Value.flatten())).reshape(1, resolution + 1)\n",
    "kernel = Gaussian2DKernel(x_stddev = 3 / 500 * resolution, y_stddev = 3 / 500 * resolution)\n",
    "y_array_calculated_4 = convolve(FullValues, kernel)[0] / max_value\n",
    "x_array_calculated = np.linspace(-angular_size, angular_size, resolution + 1)\n",
    "y_array_4 = np.interp(x_array_calculated, x_array, y_array)\n",
    "plt.plot(x_array_calculated, y_array_calculated_4, color = 'red', label = \"Simulated\")\n",
    "plt.legend()\n",
    "plt.gca().set_aspect(2 * angular_size)\n",
    "plt.legend()\n",
    "plt.ylim([0, 1])\n",
    "plt.xlabel(\"Offset (Arcseconds)\")\n",
    "plt.ylabel(\"Relative Brightness\")\n",
    "plt.show()"
   ]
  },
  {
   "cell_type": "code",
   "execution_count": 22,
   "id": "de86f518-b753-4751-81ae-6029fd6f6ad4",
   "metadata": {},
   "outputs": [
    {
     "data": {
      "image/png": "[encoded data removed]",
      "text/plain": [
       "<Figure size 432x288 with 1 Axes>"
      ]
     },
     "metadata": {
      "needs_background": "light"
     },
     "output_type": "display_data"
    }
   ],
   "source": [
    "offset = -3\n",
    "\n",
    "start_x = 100 - sin(angle_degrees * pi / 180) * offset / 0.1013 + cos(angle_degrees * pi / 180) * angular_size / 0.1013\n",
    "end_x = 100 - sin(angle_degrees * pi / 180) * offset / 0.1013 - cos(angle_degrees * pi / 180) * angular_size / 0.1013\n",
    "start_y = 100 - cos(angle_degrees * pi / 180) * offset / 0.1013 - sin(angle_degrees * pi / 180) * angular_size / 0.1013\n",
    "end_y = 100 - cos(angle_degrees * pi / 180) * offset / 0.1013 + sin(angle_degrees * pi / 180) * angular_size / 0.1013\n",
    "\n",
    "y_array = skimage.measure.profile_line(hst_image[980 - 100 : 980 + 100, 1459 - 100 : 1459 + 100], [start_x, start_y], [end_x, end_y], linewidth = 1)\n",
    "y_array = y_array / np.max(np.nan_to_num(np.array(y_hst_scaled, dtype = float)))\n",
    "x_array = np.linspace(-angular_size, angular_size, len(y_array))\n",
    "plt.plot(x_array, y_array, color = 'blue', label = \"HST\")\n",
    "plt.title(f\"Offset {offset}\\'\\'\")\n",
    "\n",
    "side = np.linspace(offset * view_size / angular_size, offset * view_size / angular_size, 1)\n",
    "sideY = np.linspace(0, view_size, int(resolution / 2) + 1)\n",
    "x, y = np.meshgrid(side, sideY)\n",
    "Value = intensity(x, y)\n",
    "FullValues = np.concatenate((Value.flatten()[::-1][:-1], Value.flatten())).reshape(1, resolution + 1)\n",
    "kernel = Gaussian2DKernel(x_stddev = 3 / 500 * resolution, y_stddev = 3 / 500 * resolution)\n",
    "y_array_calculated_3 = convolve(FullValues, kernel)[0] / max_value\n",
    "x_array_calculated = np.linspace(-angular_size, angular_size, resolution + 1)\n",
    "y_array_3 = np.interp(x_array_calculated, x_array, y_array)\n",
    "plt.plot(x_array_calculated, y_array_calculated_3, color = 'red', label = \"Simulated\")\n",
    "plt.legend()\n",
    "plt.gca().set_aspect(2 * angular_size)\n",
    "plt.legend()\n",
    "plt.ylim([0, 1])\n",
    "plt.xlabel(\"Offset (Arcseconds)\")\n",
    "plt.ylabel(\"Relative Brightness\")\n",
    "plt.show()"
   ]
  },
  {
   "cell_type": "code",
   "execution_count": 23,
   "id": "bac05d4f-b6ab-4411-8772-3229969883c4",
   "metadata": {},
   "outputs": [
    {
     "data": {
      "image/png": "[encoded data removed]",
      "text/plain": [
       "<Figure size 432x288 with 1 Axes>"
      ]
     },
     "metadata": {
      "needs_background": "light"
     },
     "output_type": "display_data"
    }
   ],
   "source": [
    "offset = -2\n",
    "\n",
    "start_x = 100 - sin(angle_degrees * pi / 180) * offset / 0.1013 + cos(angle_degrees * pi / 180) * angular_size / 0.1013\n",
    "end_x = 100 - sin(angle_degrees * pi / 180) * offset / 0.1013 - cos(angle_degrees * pi / 180) * angular_size / 0.1013\n",
    "start_y = 100 - cos(angle_degrees * pi / 180) * offset / 0.1013 - sin(angle_degrees * pi / 180) * angular_size / 0.1013\n",
    "end_y = 100 - cos(angle_degrees * pi / 180) * offset / 0.1013 + sin(angle_degrees * pi / 180) * angular_size / 0.1013\n",
    "\n",
    "y_array = skimage.measure.profile_line(hst_image[980 - 100 : 980 + 100, 1459 - 100 : 1459 + 100], [start_x, start_y], [end_x, end_y], linewidth = 1)\n",
    "y_array = y_array / np.max(np.nan_to_num(np.array(y_hst_scaled, dtype = float)))\n",
    "x_array = np.linspace(-angular_size, angular_size, len(y_array))\n",
    "plt.plot(x_array, y_array, color = 'blue', label = \"HST\")\n",
    "plt.title(f\"Offset {offset}\\'\\'\")\n",
    "\n",
    "side = np.linspace(offset * view_size / angular_size, offset * view_size / angular_size, 1)\n",
    "sideY = np.linspace(0, view_size, int(resolution / 2) + 1)\n",
    "x, y = np.meshgrid(side, sideY)\n",
    "Value = intensity(x, y)\n",
    "FullValues = np.concatenate((Value.flatten()[::-1][:-1], Value.flatten())).reshape(1, resolution + 1)\n",
    "kernel = Gaussian2DKernel(x_stddev = 3 / 500 * resolution, y_stddev = 3 / 500 * resolution)\n",
    "y_array_calculated_2 = convolve(FullValues, kernel)[0] / max_value\n",
    "x_array_calculated = np.linspace(-angular_size, angular_size, resolution + 1)\n",
    "y_array_2 = np.interp(x_array_calculated, x_array, y_array)\n",
    "plt.plot(x_array_calculated, y_array_calculated_2, color = 'red', label = \"Simulated\")\n",
    "plt.legend()\n",
    "plt.gca().set_aspect(2 * angular_size)\n",
    "plt.legend()\n",
    "plt.ylim([0, 1])\n",
    "plt.xlabel(\"Offset (Arcseconds)\")\n",
    "plt.ylabel(\"Relative Brightness\")\n",
    "plt.show()"
   ]
  },
  {
   "cell_type": "code",
   "execution_count": 24,
   "id": "944f6fe4-4762-4bd5-bc5c-f5ca5d2d11b2",
   "metadata": {},
   "outputs": [
    {
     "data": {
      "image/png": "[encoded data removed]",
      "text/plain": [
       "<Figure size 432x288 with 1 Axes>"
      ]
     },
     "metadata": {
      "needs_background": "light"
     },
     "output_type": "display_data"
    }
   ],
   "source": [
    "offset = 2.5\n",
    "\n",
    "start_x = 100 - sin(angle_degrees * pi / 180) * offset / 0.1013 + cos(angle_degrees * pi / 180) * angular_size / 0.1013\n",
    "end_x = 100 - sin(angle_degrees * pi / 180) * offset / 0.1013 - cos(angle_degrees * pi / 180) * angular_size / 0.1013\n",
    "start_y = 100 - cos(angle_degrees * pi / 180) * offset / 0.1013 - sin(angle_degrees * pi / 180) * angular_size / 0.1013\n",
    "end_y = 100 - cos(angle_degrees * pi / 180) * offset / 0.1013 + sin(angle_degrees * pi / 180) * angular_size / 0.1013\n",
    "\n",
    "y_array = skimage.measure.profile_line(hst_image[980 - 100 : 980 + 100, 1459 - 100 : 1459 + 100], [start_x, start_y], [end_x, end_y], linewidth = 1)\n",
    "y_array = y_array / np.max(np.nan_to_num(np.array(y_hst_scaled, dtype = float)))\n",
    "x_array = np.linspace(-angular_size, angular_size, len(y_array))\n",
    "plt.plot(x_array, y_array, color = 'blue', label = \"HST\")\n",
    "plt.title(f\"Offset {offset}\\'\\'\")\n",
    "\n",
    "side = np.linspace(offset * view_size / angular_size, offset * view_size / angular_size, 1)\n",
    "sideY = np.linspace(0, view_size, int(resolution / 2) + 1)\n",
    "x, y = np.meshgrid(side, sideY)\n",
    "Value = intensity(x, y)\n",
    "FullValues = np.concatenate((Value.flatten()[::-1][:-1], Value.flatten())).reshape(1, resolution + 1)\n",
    "kernel = Gaussian2DKernel(x_stddev = 3 / 500 * resolution, y_stddev = 3 / 500 * resolution)\n",
    "y_array_calculated_neg_2p5 = convolve(FullValues, kernel)[0] / max_value\n",
    "x_array_calculated = np.linspace(-angular_size, angular_size, resolution + 1)\n",
    "y_array_neg_2p5 = np.interp(x_array_calculated, x_array, y_array)\n",
    "plt.plot(x_array_calculated, y_array_calculated_neg_2p5, color = 'red', label = \"Simulated\")\n",
    "plt.legend()\n",
    "plt.gca().set_aspect(2 * angular_size)\n",
    "plt.legend()\n",
    "plt.ylim([0, 1])\n",
    "plt.xlabel(\"Offset (Arcseconds)\")\n",
    "plt.ylabel(\"Relative Brightness\")\n",
    "plt.show()"
   ]
  },
  {
   "cell_type": "code",
   "execution_count": 25,
   "id": "a4be046f-d913-4d3f-85c4-aab87cd1f2e8",
   "metadata": {},
   "outputs": [
    {
     "name": "stdout",
     "output_type": "stream",
     "text": [
      "Symmetric Axis Area Score: 0.8045353371026153\n",
      "-4'' Area Score: 0.9518873394600932\n",
      "-3'' Area Score: 0.938350954819549\n",
      "-2'' Area Score: 0.9377089907955518\n",
      "2.5'' Area Score: 0.9363748210771582\n",
      "Weighted Area Score: 0.8601241319923979\n"
     ]
    }
   ],
   "source": [
    "score_1 = abs((np.sum(normalizedYArray) - np.sum(normalizedYHST)) / np.sum(normalizedYHST))\n",
    "print(\"Symmetric Axis Area Score: \" + str(score_1))\n",
    "score_2 = abs((np.sum(y_array_calculated_4[int(resolution / 3) : resolution + 1 - int(resolution / 3)]) - np.sum(y_array_4[int(resolution / 3) : resolution + 1 - int(resolution / 3)])) / np.sum(y_array_4[int(resolution / 3) : resolution + 1 - int(resolution / 3)]))\n",
    "print(\"-4\\'\\' Area Score: \" + str(score_2))\n",
    "score_3 = abs((np.sum(y_array_calculated_3[int(resolution / 3) : resolution + 1 - int(resolution / 3)]) - np.sum(y_array_3[int(resolution / 3) : resolution + 1 - int(resolution / 3)])) / np.sum(y_array_3[int(resolution / 3) : resolution + 1 - int(resolution / 3)]))\n",
    "print(\"-3\\'\\' Area Score: \" + str(score_3))\n",
    "score_4 = abs((np.sum(y_array_calculated_2[int(resolution / 3) : resolution + 1 - int(resolution / 3)]) - np.sum(y_array_2[int(resolution / 3) : resolution + 1 - int(resolution / 3)])) / np.sum(y_array_2[int(resolution / 3) : resolution + 1 - int(resolution / 3)]))\n",
    "print(\"-2\\'\\' Area Score: \" + str(score_4))\n",
    "score_5 = abs((np.sum(y_array_calculated_neg_2p5[int(resolution / 3) : resolution + 1 - int(resolution / 3)]) - np.sum(y_array_neg_2p5[int(resolution / 3) : resolution + 1 - int(resolution / 3)])) / np.sum(y_array_neg_2p5[int(resolution / 3) : resolution + 1 - int(resolution / 3)]))\n",
    "print(\"2.5\\'\\' Area Score: \" + str(score_5))\n",
    "weighted_score = score_1 * 10 / 17 + score_2 * 1 / 17 + score_3 * 2 / 17 + score_4 * 2 / 17 + score_5 * 2 / 17\n",
    "print(\"Weighted Area Score: \" + str(weighted_score))"
   ]
  },
  {
   "cell_type": "code",
   "execution_count": 26,
   "id": "d164f2f4-5816-4452-ada2-0a616d6ec956",
   "metadata": {},
   "outputs": [
    {
     "name": "stdout",
     "output_type": "stream",
     "text": [
      "Symmetric Axis RMS Score: 0.12285203993389415\n",
      "-4'' RMS Score: 0.025152258160767885\n",
      "-3'' RMS Score: 0.0537882691194752\n",
      "-2'' RMS Score: 0.10182354392609319\n",
      "2.5'' RMS Score: 0.015842272604835537\n",
      "Weighted RMS Score: 0.0939165193412069\n"
     ]
    }
   ],
   "source": [
    "rms_score_1 = sqrt(np.square(np.subtract(normalizedYArray, normalizedYHST)).mean())\n",
    "print(\"Symmetric Axis RMS Score: \" + str(rms_score_1))\n",
    "rms_score_2 = sqrt(np.square(np.subtract(y_array_calculated_4[int(resolution / 3) : resolution + 1 - int(resolution / 3)], y_array_4[int(resolution / 3) : resolution + 1 - int(resolution / 3)])).sum() / (resolution + 1))\n",
    "print(\"-4\\'\\' RMS Score: \" + str(rms_score_2))\n",
    "rms_score_3 = sqrt(np.square(np.subtract(y_array_calculated_3[int(resolution / 3) : resolution + 1 - int(resolution / 3)], y_array_3[int(resolution / 3) : resolution + 1 - int(resolution / 3)])).sum() / (resolution + 1))\n",
    "print(\"-3\\'\\' RMS Score: \" + str(rms_score_3))\n",
    "rms_score_4 = sqrt(np.square(np.subtract(y_array_calculated_2[int(resolution / 3) : resolution + 1 - int(resolution / 3)], y_array_2[int(resolution / 3) : resolution + 1 - int(resolution / 3)])).sum() / (resolution + 1))\n",
    "print(\"-2\\'\\' RMS Score: \" + str(rms_score_4))\n",
    "rms_score_5 = sqrt(np.square(np.subtract(y_array_calculated_neg_2p5[int(resolution / 3) : resolution + 1 - int(resolution / 3)], y_array_neg_2p5[int(resolution / 3) : resolution + 1 - int(resolution / 3)])).sum() / (resolution + 1))\n",
    "print(\"2.5\\'\\' RMS Score: \" + str(rms_score_5))\n",
    "weighted_rms_score = rms_score_1 * 10 / 17 + rms_score_2 * 1 / 17 + rms_score_3 * 2 / 17 + rms_score_4 * 2 / 17 + rms_score_5 * 2 / 17\n",
    "print(\"Weighted RMS Score: \" + str(weighted_rms_score))"
   ]
  },
  {
   "cell_type": "code",
   "execution_count": 27,
   "id": "81f0d8e4",
   "metadata": {},
   "outputs": [
    {
     "name": "stderr",
     "output_type": "stream",
     "text": [
      "100%|██████████| 125750/125750 [2:42:01<00:00, 12.94it/s] \n"
     ]
    }
   ],
   "source": [
    "# 17 Computing The Full Cubical Optical Depth Array\n",
    "r = (resolution + 1) * (int(resolution / 2) + 1) - 1\n",
    "for i in tqdm(range(0, r)):\n",
    "    for j in range(0, resolution):\n",
    "        remainder = i % (resolution + 1)\n",
    "        if remainder > (resolution / 2):\n",
    "            optical_depth_array[i][j] = optical_depth_array[int(i - 2 * (remainder - resolution / 2))][resolution - 1] - optical_depth_array[int(i - 2 * (remainder - resolution / 2))][resolution - 1 - j]\n",
    "        \n",
    "        # stdout.write(\"\\rProgress: \" + str(np.int(i / r + j / r / (resolution - 1))) + \"%\")\n",
    "        # stdout.flush()\n",
    "        \n",
    "        # For each coordinate, accumulate the optical depth along the line of sight\n",
    "        x = index_to_x(i)\n",
    "        y = index_to_y(i)\n",
    "        \n",
    "        add = optical_depth_progression(np.array([x * sin_obs_lat + (((resolution / 2) - j) / (resolution / 2) * view_size) * cos_obs_lat, y, -x * cos_obs_lat + (((resolution / 2) - j) / (resolution / 2) * view_size) * sin_obs_lat]), np.array([x * sin_obs_lat + (((resolution / 2) - (j - 1)) / (resolution / 2) * view_size) * cos_obs_lat, y, -x * cos_obs_lat + (((resolution / 2) - (j - 1)) / (resolution / 2) * view_size) * sin_obs_lat]))\n",
    "        \n",
    "        optical_depth_array[i][j] = optical_depth_array[i][j - 1] + add"
   ]
  },
  {
   "cell_type": "code",
   "execution_count": 28,
   "id": "57f830ce-12ce-4410-9428-4ae8a9b58b84",
   "metadata": {},
   "outputs": [],
   "source": [
    "# 21 Computing The Top Half Image\n",
    "side = np.linspace(-view_size, view_size, resolution + 1)\n",
    "sideY = np.linspace(0, view_size, int(resolution / 2) + 1)\n",
    "x, y = np.meshgrid(side, sideY)\n",
    "np.seterr(divide = 'ignore')\n",
    "Value = intensity(x, y) # compute half of the intensity map"
   ]
  },
  {
   "cell_type": "code",
   "execution_count": 29,
   "id": "38aa6203",
   "metadata": {},
   "outputs": [],
   "source": [
    "# 22 Generating Full Image from Half Image\n",
    "@np.vectorize\n",
    "def findValue(x, y):\n",
    "    cur_x = int((x / (angular_size) + 1) * resolution / 2)\n",
    "    cur_y = round(y * resolution / angular_size / 2)\n",
    "    if y > 0:\n",
    "        return float(Value[cur_y][cur_x])\n",
    "    elif y == 0:\n",
    "        return float(Value[0][cur_x])\n",
    "    else:\n",
    "        return float(Value[-cur_y][cur_x])"
   ]
  },
  {
   "cell_type": "code",
   "execution_count": 30,
   "id": "d1b2264a",
   "metadata": {},
   "outputs": [
    {
     "data": {
      "image/png": "[encoded data removed]",
      "text/plain": [
       "<Figure size 720x360 with 2 Axes>"
      ]
     },
     "metadata": {
      "needs_background": "light"
     },
     "output_type": "display_data"
    }
   ],
   "source": [
    "# 23 Plots\n",
    "side_angular = np.linspace(-angular_size, angular_size, resolution + 1)\n",
    "X, Y = np.meshgrid(side_angular, side_angular)\n",
    "np.seterr(divide = 'ignore')\n",
    "fullValues = findValue(X, Y)\n",
    "\n",
    "f = plt.figure(figsize = (10, 5))\n",
    "ax = f.add_subplot(121, aspect = 1)\n",
    "\n",
    "plt.xlabel(\"Horizontal Offset (arcsec)\")\n",
    "plt.ylabel(\"Vertical Offset (arcsec)\")\n",
    "plt.title(\"Image\")\n",
    "ax.pcolormesh(X, Y, fullValues, cmap = 'afmhot', shading = 'auto')\n",
    "plt.gca().set_aspect('equal')\n",
    "\n",
    "ax2 = f.add_subplot(122)\n",
    "x_array = np.linspace(-angular_size, angular_size, resolution + 1)\n",
    "y_array = fullValues[int(resolution / 2)]\n",
    "normalizedYArray = y_array / np.max(np.nan_to_num(np.array(y_array, dtype = float)))\n",
    "ax2.plot(x_array, normalizedYArray, color = 'red')\n",
    "x_pos = (1 + np.min(normalizedYArray)) / 2\n",
    "ax2.set_ylabel(\"Normalized Pixel Value\")\n",
    "plt.title(\"Brightness Along Symmetric Axis\")\n",
    "\n",
    "plt.annotate(\"Observing Latitude: \" + str(observing_latitude_degrees) + \" degrees;\\n\" + \"g (asymmetry constant) =\" + str(asymmetry_constant) + \";\\nmdot=\" + str(round(mdot_solar_masses * scale_factor, 6)) + \" \" + '$ M_{\\odot}$' + \"/year\", xy = (-angular_size, x_pos), color = 'blue')\n",
    "\n",
    "# ax3 = ax2.twinx()\n",
    "# ax3.plot(x_array, np.nan_to_num(np.array(y_array, dtype = float)), color = 'blue', alpha = 0)\n",
    "# ax3.set_ylabel(\"Absolute Intensity (Not currently Implemented)\")\n",
    "\n",
    "plt.show()"
   ]
  },
  {
   "cell_type": "code",
   "execution_count": 31,
   "id": "bb49b52d",
   "metadata": {},
   "outputs": [],
   "source": [
    "# 25 Image Convolution\n",
    "\n",
    "# Gaussian Convolution\n",
    "kernel = Gaussian2DKernel(x_stddev = 3 / 500 * resolution, y_stddev = 3 / 500 * resolution)\n",
    "astropy_conv = convolve(fullValues, kernel)\n",
    "\n",
    "# PSF Convolution\n",
    "psf_conv = convolve2d(fullValues, psf_profile, mode = 'same')"
   ]
  },
  {
   "cell_type": "code",
   "execution_count": 32,
   "id": "7e3f7431",
   "metadata": {},
   "outputs": [
    {
     "data": {
      "image/png": "[encoded data removed]",
      "text/plain": [
       "<Figure size 720x360 with 2 Axes>"
      ]
     },
     "metadata": {
      "needs_background": "light"
     },
     "output_type": "display_data"
    }
   ],
   "source": [
    "# 26 Plotting the Convoluted Image\n",
    "f = plt.figure(figsize = (10, 5))\n",
    "ax = f.add_subplot(121, aspect = 1)\n",
    "\n",
    "plt.xlabel(\"Horizontal Offset (arcsec)\")\n",
    "plt.ylabel(\"Vertical Offset (arcsec)\")\n",
    "plt.title(\"Image\")\n",
    "ax.pcolormesh(X, Y, psf_conv, cmap = 'afmhot', shading = 'auto')\n",
    "plt.gca().set_aspect('equal')\n",
    "\n",
    "ax2 = f.add_subplot(122)\n",
    "x_array = np.linspace(-angular_size, angular_size, resolution + 1)\n",
    "y_array = psf_conv[int(resolution / 2)]\n",
    "normalizedYArray = y_array / np.max(np.nan_to_num(np.array(y_array, dtype = float)))\n",
    "ax2.plot(x_array, normalizedYArray, color = 'red', label = 'Simulated')\n",
    "x_pos = (3 + np.min(normalizedYArray)) / 4\n",
    "ax2.set_ylabel(\"Normalized Pixel Value\")\n",
    "plt.title(\"Brightness Along Symmetric Axis\")\n",
    "\n",
    "ax2.plot(x_array, normalizedYHST, color = 'blue', alpha = 0.5, label = 'HST')\n",
    "\n",
    "plt.annotate(\"Observing Latitude: \" + str(observing_latitude_degrees) + \" degrees;\\n\" + \"g (asymmetry constant) =\" + str(asymmetry_constant) + \";\\nmdot=\" + str(round(mdot_solar_masses * scale_factor, 6)) + \" \" + '$ M_{\\odot}$' + \"/year\", xy = (-angular_size, x_pos), color = 'blue')\n",
    "\n",
    "# ax3 = ax2.twinx()\n",
    "# ax3.plot(x_array, np.nan_to_num(np.array(y_array, dtype = float)), color = 'blue', alpha = 0)\n",
    "# ax3.set_ylabel(\"Absolute Intensity (Not currently Implemented)\")\n",
    "\n",
    "plt.legend()\n",
    "plt.show()"
   ]
  },
  {
   "cell_type": "code",
   "execution_count": 33,
   "id": "df8a7ec4-fb04-4a8c-9a6d-26e0a06f3b33",
   "metadata": {},
   "outputs": [],
   "source": [
    "# 27 Saving Convolved Files\n",
    "hdul = fits.PrimaryHDU(data = psf_conv / np.amax(psf_conv))\n",
    "string = \"1_convolved.fits\"\n",
    "hdul.writeto(string, overwrite = True)"
   ]
  },
  {
   "cell_type": "code",
   "execution_count": 34,
   "id": "3517fe76",
   "metadata": {},
   "outputs": [
    {
     "name": "stdout",
     "output_type": "stream",
     "text": [
      "Total Mass is: 1.98497459154445\n"
     ]
    }
   ],
   "source": [
    "# 29 Calculating Total Mass\n",
    "total_mass = 0.0\n",
    "x = -view_size\n",
    "y = -view_size\n",
    "z = -view_size\n",
    "while x <= view_size:\n",
    "    y = -view_size\n",
    "    while y <= view_size:\n",
    "        z = -view_size\n",
    "        while z <= view_size:\n",
    "            total_mass = total_mass + density_cartesian(np.array([x,y,z]))\n",
    "            z += 1e16\n",
    "        y += 1e16\n",
    "    x += 1e16\n",
    "total_mass = total_mass * 1e48 * grain_mass / dust_to_gas * scale_factor\n",
    "print(\"Total Mass is: \" + str(total_mass / 2e33))"
   ]
  },
  {
   "cell_type": "code",
   "execution_count": 35,
   "id": "3037c6a1-2550-4ef5-9574-4a66e1075913",
   "metadata": {},
   "outputs": [
    {
     "data": {
      "image/png": "[encoded data removed]",
      "text/plain": [
       "<Figure size 432x288 with 1 Axes>"
      ]
     },
     "metadata": {
      "needs_background": "light"
     },
     "output_type": "display_data"
    }
   ],
   "source": [
    "offset = -0.5\n",
    "\n",
    "start_x = 100 - sin(angle_degrees * pi / 180) * offset / 0.1013 + cos(angle_degrees * pi / 180) * angular_size / 0.1013\n",
    "end_x = 100 - sin(angle_degrees * pi / 180) * offset / 0.1013 - cos(angle_degrees * pi / 180) * angular_size / 0.1013\n",
    "start_y = 100 - cos(angle_degrees * pi / 180) * offset / 0.1013 - sin(angle_degrees * pi / 180) * angular_size / 0.1013\n",
    "end_y = 100 - cos(angle_degrees * pi / 180) * offset / 0.1013 + sin(angle_degrees * pi / 180) * angular_size / 0.1013\n",
    "\n",
    "y_array = skimage.measure.profile_line(hst_image[980 - 100 : 980 + 100, 1459 - 100 : 1459 + 100], [start_x, start_y], [end_x, end_y], linewidth = 1)\n",
    "x_array = np.linspace((len(y_array) - 1) / 2 * 0.1013, -(len(y_array) - 1) / 2 * 0.1013, len(y_array))\n",
    "plt.plot(x_array, y_array / np.max(np.nan_to_num(np.array(y_hst_scaled, dtype = float))), color = 'blue', label = \"HST\")\n",
    "plt.title(f\"Offset {offset}\\'\\'\")\n",
    "\n",
    "y_array = skimage.measure.profile_line(psf_conv, [resolution, resolution / 2 + offset * resolution / (angular_size * 2)], [0, resolution / 2 + offset * resolution / (angular_size * 2)], linewidth = 1)\n",
    "x_array = np.linspace(-angular_size, angular_size, len(y_array))\n",
    "plt.plot(x_array, y_array / np.max(np.nan_to_num(np.array(psf_conv[int(resolution / 2)], dtype = float))), color = 'red', label = \"Simulated\")\n",
    "plt.gca().set_aspect(2 * angular_size)\n",
    "plt.ylim([0, 1])\n",
    "plt.legend()\n",
    "plt.show()"
   ]
  },
  {
   "cell_type": "code",
   "execution_count": 36,
   "id": "2ceea34d-527c-4aef-bd1f-f31252dda9d4",
   "metadata": {},
   "outputs": [
    {
     "data": {
      "image/png": "[encoded data removed]",
      "text/plain": [
       "<Figure size 432x288 with 1 Axes>"
      ]
     },
     "metadata": {
      "needs_background": "light"
     },
     "output_type": "display_data"
    }
   ],
   "source": [
    "offset = -1\n",
    "\n",
    "start_x = 100 - sin(angle_degrees * pi / 180) * offset / 0.1013 + cos(angle_degrees * pi / 180) * angular_size / 0.1013\n",
    "end_x = 100 - sin(angle_degrees * pi / 180) * offset / 0.1013 - cos(angle_degrees * pi / 180) * angular_size / 0.1013\n",
    "start_y = 100 - cos(angle_degrees * pi / 180) * offset / 0.1013 - sin(angle_degrees * pi / 180) * angular_size / 0.1013\n",
    "end_y = 100 - cos(angle_degrees * pi / 180) * offset / 0.1013 + sin(angle_degrees * pi / 180) * angular_size / 0.1013\n",
    "\n",
    "y_array = skimage.measure.profile_line(hst_image[980 - 100 : 980 + 100, 1459 - 100 : 1459 + 100], [start_x, start_y], [end_x, end_y], linewidth = 1)\n",
    "x_array = np.linspace((len(y_array) - 1) / 2 * 0.1013, -(len(y_array) - 1) / 2 * 0.1013, len(y_array))\n",
    "plt.plot(x_array, y_array / np.max(np.nan_to_num(np.array(y_hst_scaled, dtype = float))), color = 'blue', label = \"HST\")\n",
    "plt.title(f\"Offset {offset}\\'\\'\")\n",
    "\n",
    "y_array = skimage.measure.profile_line(psf_conv, [resolution, resolution / 2 + offset * resolution / (angular_size * 2)], [0, resolution / 2 + offset * resolution / (angular_size * 2)], linewidth = 1)\n",
    "x_array = np.linspace(-angular_size, angular_size, len(y_array))\n",
    "plt.plot(x_array, y_array / np.max(np.nan_to_num(np.array(psf_conv[int(resolution / 2)], dtype = float))), color = 'red', label = \"Simulated\")\n",
    "plt.gca().set_aspect(2 * angular_size)\n",
    "plt.ylim([0, 1])\n",
    "plt.legend()\n",
    "plt.show()"
   ]
  },
  {
   "cell_type": "code",
   "execution_count": 37,
   "id": "db5027e4-6739-48db-aa3a-7298812c9d14",
   "metadata": {},
   "outputs": [
    {
     "data": {
      "image/png": "[encoded data removed]",
      "text/plain": [
       "<Figure size 432x288 with 1 Axes>"
      ]
     },
     "metadata": {
      "needs_background": "light"
     },
     "output_type": "display_data"
    }
   ],
   "source": [
    "offset = -4\n",
    "\n",
    "start_x = 100 - sin(angle_degrees * pi / 180) * offset / 0.1013 + cos(angle_degrees * pi / 180) * angular_size / 0.1013\n",
    "end_x = 100 - sin(angle_degrees * pi / 180) * offset / 0.1013 - cos(angle_degrees * pi / 180) * angular_size / 0.1013\n",
    "start_y = 100 - cos(angle_degrees * pi / 180) * offset / 0.1013 - sin(angle_degrees * pi / 180) * angular_size / 0.1013\n",
    "end_y = 100 - cos(angle_degrees * pi / 180) * offset / 0.1013 + sin(angle_degrees * pi / 180) * angular_size / 0.1013\n",
    "\n",
    "y_arrayy_array_4 = skimage.measure.profile_line(hst_image[980 - 100 : 980 + 100, 1459 - 100 : 1459 + 100], [start_x, start_y], [end_x, end_y], linewidth = 1)\n",
    "x_array = np.linspace((len(y_arrayy_array_4) - 1) / 2 * 0.1013, -(len(y_arrayy_array_4) - 1) / 2 * 0.1013, len(y_arrayy_array_4))\n",
    "plt.plot(x_array, y_arrayy_array_4 / np.max(np.nan_to_num(np.array(y_hst_scaled, dtype = float))), color = 'blue', label = \"HST\")\n",
    "plt.title(f\"Offset {offset}\\'\\'\")\n",
    "\n",
    "y_array_calculated_4 = skimage.measure.profile_line(psf_conv, [resolution, resolution / 2 + offset * resolution / (angular_size * 2)], [0, resolution / 2 + offset * resolution / (angular_size * 2)], linewidth = 1)\n",
    "x_array = np.linspace(-angular_size, angular_size, len(y_array_calculated_4))\n",
    "plt.plot(x_array, y_array_calculated_4 / np.max(np.nan_to_num(np.array(psf_conv[int(resolution / 2)], dtype = float))), color = 'red', label = \"Simulated\")\n",
    "plt.gca().set_aspect(2 * angular_size)\n",
    "plt.ylim([0, 1])\n",
    "plt.legend()\n",
    "plt.show()"
   ]
  },
  {
   "cell_type": "code",
   "execution_count": 38,
   "id": "cc146a0b-de2e-490b-b237-3ddd61637530",
   "metadata": {},
   "outputs": [
    {
     "data": {
      "image/png": "[encoded data removed]",
      "text/plain": [
       "<Figure size 432x288 with 1 Axes>"
      ]
     },
     "metadata": {
      "needs_background": "light"
     },
     "output_type": "display_data"
    }
   ],
   "source": [
    "offset = -5\n",
    "\n",
    "start_x = 100 - sin(angle_degrees * pi / 180) * offset / 0.1013 + cos(angle_degrees * pi / 180) * angular_size / 0.1013\n",
    "end_x = 100 - sin(angle_degrees * pi / 180) * offset / 0.1013 - cos(angle_degrees * pi / 180) * angular_size / 0.1013\n",
    "start_y = 100 - cos(angle_degrees * pi / 180) * offset / 0.1013 - sin(angle_degrees * pi / 180) * angular_size / 0.1013\n",
    "end_y = 100 - cos(angle_degrees * pi / 180) * offset / 0.1013 + sin(angle_degrees * pi / 180) * angular_size / 0.1013\n",
    "\n",
    "y_array_5 = skimage.measure.profile_line(hst_image[980 - 100 : 980 + 100, 1459 - 100 : 1459 + 100], [start_x, start_y], [end_x, end_y], linewidth = 1)\n",
    "x_array = np.linspace((len(y_array_5) - 1) / 2 * 0.1013, -(len(y_array_5) - 1) / 2 * 0.1013, len(y_array_5))\n",
    "plt.plot(x_array, y_array_5 / np.max(np.nan_to_num(np.array(y_hst_scaled, dtype = float))), color = 'blue', label = \"HST\")\n",
    "plt.title(f\"Offset {offset}\\'\\'\")\n",
    "\n",
    "y_array_calculated_5 = skimage.measure.profile_line(psf_conv, [resolution, resolution / 2 + offset * resolution / (angular_size * 2)], [0, resolution / 2 + offset * resolution / (angular_size * 2)], linewidth = 1)\n",
    "x_array = np.linspace(-angular_size, angular_size, len(y_array_calculated_5))\n",
    "plt.plot(x_array, y_array_calculated_5 / np.max(np.nan_to_num(np.array(psf_conv[int(resolution / 2)], dtype = float))), color = 'red', label = \"Simulated\")\n",
    "plt.gca().set_aspect(2 * angular_size)\n",
    "plt.ylim([0, 1])\n",
    "plt.legend()\n",
    "plt.show()"
   ]
  },
  {
   "cell_type": "code",
   "execution_count": 39,
   "id": "a97d503f-15bc-41c9-99f6-fb45dfb9c588",
   "metadata": {},
   "outputs": [
    {
     "data": {
      "image/png": "[encoded data removed]",
      "text/plain": [
       "<Figure size 432x288 with 1 Axes>"
      ]
     },
     "metadata": {
      "needs_background": "light"
     },
     "output_type": "display_data"
    }
   ],
   "source": [
    "offset = -3\n",
    "\n",
    "start_x = 100 - sin(angle_degrees * pi / 180) * offset / 0.1013 + cos(angle_degrees * pi / 180) * angular_size / 0.1013\n",
    "end_x = 100 - sin(angle_degrees * pi / 180) * offset / 0.1013 - cos(angle_degrees * pi / 180) * angular_size / 0.1013\n",
    "start_y = 100 - cos(angle_degrees * pi / 180) * offset / 0.1013 - sin(angle_degrees * pi / 180) * angular_size / 0.1013\n",
    "end_y = 100 - cos(angle_degrees * pi / 180) * offset / 0.1013 + sin(angle_degrees * pi / 180) * angular_size / 0.1013\n",
    "\n",
    "y_array_3 = skimage.measure.profile_line(hst_image[980 - 100 : 980 + 100, 1459 - 100 : 1459 + 100], [start_x, start_y], [end_x, end_y], linewidth = 1)\n",
    "x_array = np.linspace((len(y_array_3) - 1) / 2 * 0.1013, -(len(y_array_3) - 1) / 2 * 0.1013, len(y_array_3))\n",
    "plt.plot(x_array, y_array_3 / np.max(np.nan_to_num(np.array(y_hst_scaled, dtype = float))), color = 'blue', label = \"HST\")\n",
    "plt.title(f\"Offset {offset}\\'\\'\")\n",
    "\n",
    "y_array_calculated_3 = skimage.measure.profile_line(psf_conv, [resolution, resolution / 2 + offset * resolution / (angular_size * 2)], [0, resolution / 2 + offset * resolution / (angular_size * 2)], linewidth = 1)\n",
    "x_array = np.linspace(-angular_size, angular_size, len(y_array_calculated_3))\n",
    "plt.plot(x_array, y_array_calculated_3 / np.max(np.nan_to_num(np.array(psf_conv[int(resolution / 2)], dtype = float))), color = 'red', label = \"Simulated\")\n",
    "plt.gca().set_aspect(2 * angular_size)\n",
    "plt.ylim([0, 1])\n",
    "plt.legend()\n",
    "plt.show()"
   ]
  },
  {
   "cell_type": "code",
   "execution_count": 40,
   "id": "f8de35bf-72d2-45dd-aae3-f7c7633d31dd",
   "metadata": {},
   "outputs": [
    {
     "data": {
      "image/png": "[encoded data removed]",
      "text/plain": [
       "<Figure size 432x288 with 1 Axes>"
      ]
     },
     "metadata": {
      "needs_background": "light"
     },
     "output_type": "display_data"
    }
   ],
   "source": [
    "offset = -2.3\n",
    "\n",
    "start_x = 100 - sin(angle_degrees * pi / 180) * offset / 0.1013 + cos(angle_degrees * pi / 180) * angular_size / 0.1013\n",
    "end_x = 100 - sin(angle_degrees * pi / 180) * offset / 0.1013 - cos(angle_degrees * pi / 180) * angular_size / 0.1013\n",
    "start_y = 100 - cos(angle_degrees * pi / 180) * offset / 0.1013 - sin(angle_degrees * pi / 180) * angular_size / 0.1013\n",
    "end_y = 100 - cos(angle_degrees * pi / 180) * offset / 0.1013 + sin(angle_degrees * pi / 180) * angular_size / 0.1013\n",
    "\n",
    "y_array = skimage.measure.profile_line(hst_image[980 - 100 : 980 + 100, 1459 - 100 : 1459 + 100], [start_x, start_y], [end_x, end_y], linewidth = 1)\n",
    "x_array = np.linspace((len(y_array) - 1) / 2 * 0.1013, -(len(y_array) - 1) / 2 * 0.1013, len(y_array))\n",
    "plt.plot(x_array, y_array / np.max(np.nan_to_num(np.array(y_hst_scaled, dtype = float))), color = 'blue', label = \"HST\")\n",
    "plt.title(f\"Offset {offset}\\'\\'\")\n",
    "\n",
    "y_array = skimage.measure.profile_line(psf_conv, [resolution, resolution / 2 + offset * resolution / (angular_size * 2)], [0, resolution / 2 + offset * resolution / (angular_size * 2)], linewidth = 1)\n",
    "x_array = np.linspace(-angular_size, angular_size, len(y_array))\n",
    "plt.plot(x_array, y_array / np.max(np.nan_to_num(np.array(psf_conv[int(resolution / 2)], dtype = float))), color = 'red', label = \"Simulated\")\n",
    "plt.gca().set_aspect(2 * angular_size)\n",
    "plt.ylim([0, 1])\n",
    "plt.legend()\n",
    "plt.show()"
   ]
  },
  {
   "cell_type": "code",
   "execution_count": 41,
   "id": "e8909cda-7cf5-4bb8-85b9-9356d262ebd9",
   "metadata": {},
   "outputs": [
    {
     "data": {
      "image/png": "[encoded data removed]",
      "text/plain": [
       "<Figure size 432x288 with 1 Axes>"
      ]
     },
     "metadata": {
      "needs_background": "light"
     },
     "output_type": "display_data"
    }
   ],
   "source": [
    "offset = -2\n",
    "\n",
    "start_x = 100 - sin(angle_degrees * pi / 180) * offset / 0.1013 + cos(angle_degrees * pi / 180) * angular_size / 0.1013\n",
    "end_x = 100 - sin(angle_degrees * pi / 180) * offset / 0.1013 - cos(angle_degrees * pi / 180) * angular_size / 0.1013\n",
    "start_y = 100 - cos(angle_degrees * pi / 180) * offset / 0.1013 - sin(angle_degrees * pi / 180) * angular_size / 0.1013\n",
    "end_y = 100 - cos(angle_degrees * pi / 180) * offset / 0.1013 + sin(angle_degrees * pi / 180) * angular_size / 0.1013\n",
    "\n",
    "y_array_2 = skimage.measure.profile_line(hst_image[980 - 100 : 980 + 100, 1459 - 100 : 1459 + 100], [start_x, start_y], [end_x, end_y], linewidth = 1)\n",
    "x_array = np.linspace((len(y_array_2) - 1) / 2 * 0.1013, -(len(y_array_2) - 1) / 2 * 0.1013, len(y_array_2))\n",
    "plt.plot(x_array, y_array_2 / np.max(np.nan_to_num(np.array(y_hst_scaled, dtype = float))), color = 'blue', label = \"HST\")\n",
    "plt.title(f\"Offset {offset}\\'\\'\")\n",
    "\n",
    "y_array_calculated_2 = skimage.measure.profile_line(psf_conv, [resolution, resolution / 2 + offset * resolution / (angular_size * 2)], [0, resolution / 2 + offset * resolution / (angular_size * 2)], linewidth = 1)\n",
    "x_array = np.linspace(-angular_size, angular_size, len(y_array_calculated_2))\n",
    "plt.plot(x_array, y_array_calculated_2 / np.max(np.nan_to_num(np.array(psf_conv[int(resolution / 2)], dtype = float))), color = 'red', label = \"Simulated\")\n",
    "plt.gca().set_aspect(2 * angular_size)\n",
    "plt.ylim([0, 1])\n",
    "plt.legend()\n",
    "plt.show()"
   ]
  },
  {
   "cell_type": "code",
   "execution_count": 42,
   "id": "e3872cec-9ccf-448f-9a92-086759210543",
   "metadata": {},
   "outputs": [
    {
     "data": {
      "image/png": "[encoded data removed]",
      "text/plain": [
       "<Figure size 432x288 with 1 Axes>"
      ]
     },
     "metadata": {
      "needs_background": "light"
     },
     "output_type": "display_data"
    }
   ],
   "source": [
    "offset = 2.5\n",
    "\n",
    "start_x = 100 - sin(angle_degrees * pi / 180) * offset / 0.1013 + cos(angle_degrees * pi / 180) * angular_size / 0.1013\n",
    "end_x = 100 - sin(angle_degrees * pi / 180) * offset / 0.1013 - cos(angle_degrees * pi / 180) * angular_size / 0.1013\n",
    "start_y = 100 - cos(angle_degrees * pi / 180) * offset / 0.1013 - sin(angle_degrees * pi / 180) * angular_size / 0.1013\n",
    "end_y = 100 - cos(angle_degrees * pi / 180) * offset / 0.1013 + sin(angle_degrees * pi / 180) * angular_size / 0.1013\n",
    "\n",
    "y_array_neg_2p5 = skimage.measure.profile_line(hst_image[980 - 100 : 980 + 100, 1459 - 100 : 1459 + 100], [start_x, start_y], [end_x, end_y], linewidth = 1)\n",
    "x_array = np.linspace((len(y_array_neg_2p5) - 1) / 2 * 0.1013, -(len(y_array_neg_2p5) - 1) / 2 * 0.1013, len(y_array_neg_2p5))\n",
    "plt.plot(x_array, y_array_neg_2p5 / np.max(np.nan_to_num(np.array(y_hst_scaled, dtype = float))), color = 'blue', label = \"HST\")\n",
    "plt.title(f\"Offset {offset}\\'\\'\")\n",
    "\n",
    "y_array_calculated_neg_2p5 = skimage.measure.profile_line(psf_conv, [resolution, resolution / 2 + offset * resolution / (angular_size * 2)], [0, resolution / 2 + offset * resolution / (angular_size * 2)], linewidth = 1)\n",
    "x_array = np.linspace(-angular_size, angular_size, len(y_array_calculated_neg_2p5))\n",
    "plt.plot(x_array, y_array_calculated_neg_2p5 / np.max(np.nan_to_num(np.array(psf_conv[int(resolution / 2)], dtype = float))), color = 'red', label = \"Simulated\")\n",
    "plt.gca().set_aspect(2 * angular_size)\n",
    "plt.ylim([0, 1])\n",
    "plt.legend()\n",
    "plt.show()"
   ]
  },
  {
   "cell_type": "code",
   "execution_count": 43,
   "id": "5f009a49-30f7-4cef-8fcf-2e3a4772ef4e",
   "metadata": {
    "tags": []
   },
   "outputs": [
    {
     "data": {
      "text/plain": [
       "[<matplotlib.lines.Line2D at 0x7ff30bb4d390>]"
      ]
     },
     "execution_count": 43,
     "metadata": {},
     "output_type": "execute_result"
    },
    {
     "data": {
      "image/png": "[encoded data removed]",
      "text/plain": [
       "<Figure size 720x360 with 1 Axes>"
      ]
     },
     "metadata": {
      "needs_background": "light"
     },
     "output_type": "display_data"
    }
   ],
   "source": [
    "f = plt.figure(figsize = (10, 5))\n",
    "ax = f.add_subplot(121, aspect = 1)\n",
    "\n",
    "plt.xlabel(\"Horizontal Offset (arcsec)\")\n",
    "plt.ylabel(\"Vertical Offset (arcsec)\")\n",
    "# plt.title(\"Image\")\n",
    "plt.imshow(psf_conv, cmap = 'afmhot')\n",
    "plt.gca().set_aspect('equal')\n",
    "plt.axis('off')\n",
    "offset = -4\n",
    "plt.plot([resolution / 2 + offset * resolution / (angular_size * 2), resolution / 2 + offset * resolution / (angular_size * 2)], [resolution / 2 + 3 * resolution / (angular_size * 2), resolution / 2 - 3 * resolution / (angular_size * 2)], color = \"purple\")\n",
    "offset = -3\n",
    "plt.plot([resolution / 2 + offset * resolution / (angular_size * 2), resolution / 2 + offset * resolution / (angular_size * 2)], [resolution / 2 + 3 * resolution / (angular_size * 2), resolution / 2 - 3 * resolution / (angular_size * 2)], color = \"green\")\n",
    "offset = -2\n",
    "plt.plot([resolution / 2 + offset * resolution / (angular_size * 2), resolution / 2 + offset * resolution / (angular_size * 2)], [resolution / 2 + 3 * resolution / (angular_size * 2), resolution / 2 - 3 * resolution / (angular_size * 2)], color = \"blue\")"
   ]
  },
  {
   "cell_type": "code",
   "execution_count": 44,
   "id": "03435246-7052-4a64-a5a6-091e8052e317",
   "metadata": {},
   "outputs": [
    {
     "ename": "ValueError",
     "evalue": "fp and xp are not of the same length.",
     "output_type": "error",
     "traceback": [
      "\u001b[0;31m---------------------------------------------------------------------------\u001b[0m",
      "\u001b[0;31mValueError\u001b[0m                                Traceback (most recent call last)",
      "Cell \u001b[0;32mIn[44], line 5\u001b[0m\n\u001b[1;32m      3\u001b[0m x_array \u001b[38;5;241m=\u001b[39m np\u001b[38;5;241m.\u001b[39mlinspace((\u001b[38;5;28mlen\u001b[39m(y_array_neg_2p5) \u001b[38;5;241m-\u001b[39m \u001b[38;5;241m1\u001b[39m) \u001b[38;5;241m/\u001b[39m \u001b[38;5;241m2\u001b[39m \u001b[38;5;241m*\u001b[39m \u001b[38;5;241m0.1013\u001b[39m, \u001b[38;5;241m-\u001b[39m(\u001b[38;5;28mlen\u001b[39m(y_array_neg_2p5) \u001b[38;5;241m-\u001b[39m \u001b[38;5;241m1\u001b[39m) \u001b[38;5;241m/\u001b[39m \u001b[38;5;241m2\u001b[39m \u001b[38;5;241m*\u001b[39m \u001b[38;5;241m0.1013\u001b[39m, \u001b[38;5;28mlen\u001b[39m(y_array_neg_2p5))\n\u001b[1;32m      4\u001b[0m y_array_neg_2p5 \u001b[38;5;241m=\u001b[39m np\u001b[38;5;241m.\u001b[39minterp(x_array_calculated, x_array, y_array_neg_2p5)\n\u001b[0;32m----> 5\u001b[0m y_array_4 \u001b[38;5;241m=\u001b[39m np\u001b[38;5;241m.\u001b[39minterp(x_array_calculated, x_array, y_array_4)\n\u001b[1;32m      6\u001b[0m y_array_3 \u001b[38;5;241m=\u001b[39m np\u001b[38;5;241m.\u001b[39minterp(x_array_calculated, x_array, y_array_3)\n\u001b[1;32m      7\u001b[0m y_array_2 \u001b[38;5;241m=\u001b[39m np\u001b[38;5;241m.\u001b[39minterp(x_array_calculated, x_array, y_array_2)\n",
      "File \u001b[0;32m<__array_function__ internals>:200\u001b[0m, in \u001b[0;36minterp\u001b[0;34m(*args, **kwargs)\u001b[0m\n",
      "File \u001b[0;32m~/miniconda3/envs/M192/lib/python3.11/site-packages/numpy/lib/function_base.py:1595\u001b[0m, in \u001b[0;36minterp\u001b[0;34m(x, xp, fp, left, right, period)\u001b[0m\n\u001b[1;32m   1592\u001b[0m     xp \u001b[38;5;241m=\u001b[39m np\u001b[38;5;241m.\u001b[39mconcatenate((xp[\u001b[38;5;241m-\u001b[39m\u001b[38;5;241m1\u001b[39m:]\u001b[38;5;241m-\u001b[39mperiod, xp, xp[\u001b[38;5;241m0\u001b[39m:\u001b[38;5;241m1\u001b[39m]\u001b[38;5;241m+\u001b[39mperiod))\n\u001b[1;32m   1593\u001b[0m     fp \u001b[38;5;241m=\u001b[39m np\u001b[38;5;241m.\u001b[39mconcatenate((fp[\u001b[38;5;241m-\u001b[39m\u001b[38;5;241m1\u001b[39m:], fp, fp[\u001b[38;5;241m0\u001b[39m:\u001b[38;5;241m1\u001b[39m]))\n\u001b[0;32m-> 1595\u001b[0m \u001b[38;5;28;01mreturn\u001b[39;00m interp_func(x, xp, fp, left, right)\n",
      "\u001b[0;31mValueError\u001b[0m: fp and xp are not of the same length."
     ]
    }
   ],
   "source": [
    "x_array_calculated = np.linspace(-angular_size, angular_size, resolution + 1)\n",
    "\n",
    "x_array = np.linspace((len(y_array_neg_2p5) - 1) / 2 * 0.1013, -(len(y_array_neg_2p5) - 1) / 2 * 0.1013, len(y_array_neg_2p5))\n",
    "y_array_neg_2p5 = np.interp(x_array_calculated, x_array, y_array_neg_2p5)\n",
    "y_array_4 = np.interp(x_array_calculated, x_array, y_array_4)\n",
    "y_array_3 = np.interp(x_array_calculated, x_array, y_array_3)\n",
    "y_array_2 = np.interp(x_array_calculated, x_array, y_array_2)\n",
    "\n",
    "score_1 = abs((np.sum(normalizedYArray) - np.sum(normalizedYHST)) / np.sum(normalizedYHST))\n",
    "print(\"Symmetric Axis Area Score: \" + str(score_1))\n",
    "score_2 = abs((np.sum(y_array_calculated_4[int(resolution / 3) : resolution + 1 - int(resolution / 3)]) - np.sum(y_array_4[int(resolution / 3) : resolution + 1 - int(resolution / 3)])) / np.sum(y_array_4[int(resolution / 3) : resolution + 1 - int(resolution / 3)]))\n",
    "print(\"-4\\'\\' Area Score: \" + str(score_2))\n",
    "score_3 = abs((np.sum(y_array_calculated_3[int(resolution / 3) : resolution + 1 - int(resolution / 3)]) - np.sum(y_array_3[int(resolution / 3) : resolution + 1 - int(resolution / 3)])) / np.sum(y_array_3[int(resolution / 3) : resolution + 1 - int(resolution / 3)]))\n",
    "print(\"-3\\'\\' Area Score: \" + str(score_3))\n",
    "score_4 = abs((np.sum(y_array_calculated_2[int(resolution / 3) : resolution + 1 - int(resolution / 3)]) - np.sum(y_array_2[int(resolution / 3) : resolution + 1 - int(resolution / 3)])) / np.sum(y_array_2[int(resolution / 3) : resolution + 1 - int(resolution / 3)]))\n",
    "print(\"-2\\'\\' Area Score: \" + str(score_4))\n",
    "score_5 = abs((np.sum(y_array_calculated_neg_2p5[int(resolution / 3) : resolution + 1 - int(resolution / 3)]) - np.sum(y_array_neg_2p5[int(resolution / 3) : resolution + 1 - int(resolution / 3)])) / np.sum(y_array_neg_2p5[int(resolution / 3) : resolution + 1 - int(resolution / 3)]))\n",
    "print(\"2.5\\'\\' Area Score: \" + str(score_5))\n",
    "weighted_score = score_1 * 10 / 17 + score_2 * 1 / 17 + score_3 * 2 / 17 + score_4 * 2 / 17 + score_5 * 2 / 17\n",
    "print(\"Weighted Area Score: \" + str(weighted_score))"
   ]
  },
  {
   "cell_type": "code",
   "execution_count": null,
   "id": "d46a2ff0-0934-4dc4-8446-12055839cec9",
   "metadata": {},
   "outputs": [],
   "source": [
    "rms_score_1 = sqrt(np.square(np.subtract(normalizedYArray, normalizedYHST)).mean())\n",
    "print(\"Symmetric Axis RMS Score: \" + str(rms_score_1))\n",
    "rms_score_2 = sqrt(np.square(np.subtract(y_array_calculated_4[int(resolution / 3) : resolution + 1 - int(resolution / 3)], y_array_4[int(resolution / 3) : resolution + 1 - int(resolution / 3)])).sum() / (resolution + 1))\n",
    "print(\"-4\\'\\' RMS Score: \" + str(rms_score_2))\n",
    "rms_score_3 = sqrt(np.square(np.subtract(y_array_calculated_3[int(resolution / 3) : resolution + 1 - int(resolution / 3)], y_array_3[int(resolution / 3) : resolution + 1 - int(resolution / 3)])).sum() / (resolution + 1))\n",
    "print(\"-3\\'\\' RMS Score: \" + str(rms_score_3))\n",
    "rms_score_4 = sqrt(np.square(np.subtract(y_array_calculated_2[int(resolution / 3) : resolution + 1 - int(resolution / 3)], y_array_2[int(resolution / 3) : resolution + 1 - int(resolution / 3)])).sum() / (resolution + 1))\n",
    "print(\"-2\\'\\' RMS Score: \" + str(rms_score_4))\n",
    "rms_score_5 = sqrt(np.square(np.subtract(y_array_calculated_neg_2p5[int(resolution / 3) : resolution + 1 - int(resolution / 3)], y_array_neg_2p5[int(resolution / 3) : resolution + 1 - int(resolution / 3)])).sum() / (resolution + 1))\n",
    "print(\"2.5\\'\\' RMS Score: \" + str(rms_score_5))\n",
    "weighted_rms_score = rms_score_1 * 10 / 17 + rms_score_2 * 1 / 17 + rms_score_3 * 2 / 17 + rms_score_4 * 2 / 17 + rms_score_5 * 2 / 17\n",
    "print(\"Weighted RMS Score: \" + str(weighted_rms_score))"
   ]
  },
  {
   "cell_type": "code",
   "execution_count": null,
   "id": "3d61810f",
   "metadata": {},
   "outputs": [],
   "source": [
    "# END"
   ]
  }
 ],
 "metadata": {
  "kernelspec": {
   "display_name": "M192",
   "language": "python",
   "name": "m192"
  },
  "language_info": {
   "codemirror_mode": {
    "name": "ipython",
    "version": 3
   },
   "file_extension": ".py",
   "mimetype": "text/x-python",
   "name": "python",
   "nbconvert_exporter": "python",
   "pygments_lexer": "ipython3",
   "version": "3.11.3"
  }
 },
 "nbformat": 4,
 "nbformat_minor": 5
}
