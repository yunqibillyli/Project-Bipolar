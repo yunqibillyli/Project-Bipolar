{
 "cells": [
  {
   "cell_type": "code",
   "execution_count": 1,
   "id": "db69c9e8-4d3d-4a78-8d56-10ac57f27ee7",
   "metadata": {},
   "outputs": [
    {
     "data": {
      "text/latex": [
       "$\\displaystyle 0.107103520737229$"
      ],
      "text/plain": [
       "0.107103520737229"
      ]
     },
     "execution_count": 1,
     "metadata": {},
     "output_type": "execute_result"
    }
   ],
   "source": [
    "from sympy import symbols, integrate, sqrt\n",
    "\n",
    "# Define the variables and constants\n",
    "x, y = symbols('x y')\n",
    "x0, y0 = 0, 0\n",
    "constant = 127\n",
    "\n",
    "# Define the function to integrate\n",
    "f = 127 / ((y - y0)**2 + (x - x0)**2 + constant**2)**(3/2)\n",
    "\n",
    "# Perform the double integral\n",
    "integral_result = integrate(integrate(f, (y, 0, 80)), (x, 0, 26))\n",
    "integral_result.evalf()"
   ]
  },
  {
   "cell_type": "code",
   "execution_count": 2,
   "id": "f77c448d-ca0e-4440-8b2c-2e6c18556af1",
   "metadata": {},
   "outputs": [
    {
     "data": {
      "text/latex": [
       "$\\displaystyle 7620.0 \\int\\limits_{0}^{26} \\frac{0.333333333333333}{\\sqrt{\\operatorname{polar\\_lift}{\\left(\\operatorname{polar\\_lift}^{2}{\\left(x - 13 \\right)} + 16129 \\right)} + 400} \\operatorname{polar\\_lift}^{1.0}{\\left(\\operatorname{polar\\_lift}^{2}{\\left(x - 13 \\right)} + 16129 \\right)}}\\, dx + 7620.0 \\int\\limits_{0}^{26} \\frac{1.0}{\\sqrt{\\operatorname{polar\\_lift}{\\left(\\operatorname{polar\\_lift}^{2}{\\left(x - 13 \\right)} + 16129 \\right)} + 3600} \\operatorname{polar\\_lift}^{1.0}{\\left(\\operatorname{polar\\_lift}^{2}{\\left(x - 13 \\right)} + 16129 \\right)}}\\, dx$"
      ],
      "text/plain": [
       "7620.0*Integral(0.333333333333333/(sqrt(polar_lift(polar_lift(x - 13)**2 + 16129) + 400)*polar_lift(polar_lift(x - 13)**2 + 16129)**1.0), (x, 0, 26)) + 7620.0*Integral(1.0/(sqrt(polar_lift(polar_lift(x - 13)**2 + 16129) + 3600)*polar_lift(polar_lift(x - 13)**2 + 16129)**1.0), (x, 0, 26))"
      ]
     },
     "execution_count": 2,
     "metadata": {},
     "output_type": "execute_result"
    }
   ],
   "source": [
    "x, y = symbols('x y')\n",
    "x0, y0 = 13, 60\n",
    "constant = 127\n",
    "\n",
    "# Define the function to integrate\n",
    "f = 127 / ((y - y0)**2 + (x - x0)**2 + constant**2)**(3/2)\n",
    "\n",
    "# Perform the double integral\n",
    "integral_result = integrate(integrate(f, (y, 0, 80)), (x, 0, 26))\n",
    "integral_result.evalf()"
   ]
  },
  {
   "cell_type": "code",
   "execution_count": null,
   "id": "eb59042e-99ee-4da8-883c-2ea4deacb9b4",
   "metadata": {},
   "outputs": [],
   "source": []
  }
 ],
 "metadata": {
  "kernelspec": {
   "display_name": "M192",
   "language": "python",
   "name": "m192"
  },
  "language_info": {
   "codemirror_mode": {
    "name": "ipython",
    "version": 3
   },
   "file_extension": ".py",
   "mimetype": "text/x-python",
   "name": "python",
   "nbconvert_exporter": "python",
   "pygments_lexer": "ipython3",
   "version": "3.11.3"
  }
 },
 "nbformat": 4,
 "nbformat_minor": 5
}
